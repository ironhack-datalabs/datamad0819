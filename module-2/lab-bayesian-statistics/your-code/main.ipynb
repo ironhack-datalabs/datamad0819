{
 "cells": [
  {
   "cell_type": "markdown",
   "metadata": {},
   "source": [
    "# Intro to Bayesian Statistics Lab\n",
    "\n",
    "Complete the following set of exercises to solidify your knowledge of Bayesian statistics and Bayesian data analysis."
   ]
  },
  {
   "cell_type": "code",
   "execution_count": 1,
   "metadata": {},
   "outputs": [],
   "source": [
    "import pandas as pd\n",
    "import numpy as np\n",
    "import matplotlib.pyplot as plt"
   ]
  },
  {
   "cell_type": "markdown",
   "metadata": {},
   "source": [
    "## 1. Cookie Problem\n",
    "\n",
    "Suppose we have two bowls of cookies. Bowl 1 contains 30 vanilla cookies and 10 chocolate cookies. Bowl 2 contains 20 of each. You randomly pick one cookie out of one of the bowls, and it is vanilla. Use Bayes Theorem to calculate the probability that the vanilla cookie you picked came from Bowl 1?"
   ]
  },
  {
   "cell_type": "code",
   "execution_count": 2,
   "metadata": {},
   "outputs": [
    {
     "name": "stdout",
     "output_type": "stream",
     "text": [
      "The probability that the vanilla cookie came from Bowl 1 is: 0.6\n"
     ]
    }
   ],
   "source": [
    "#a: the bowl is bowl 1 \n",
    "#b: the cookie is vanilla\n",
    "\n",
    "P_a = 1/2\n",
    "P_b = 1/2 * 30/40 + 1/2 * 20/40\n",
    "Pb_a = 30/40\n",
    "Pa_b = Pb_a * P_a / P_b\n",
    "print(\"The probability that the vanilla cookie came from Bowl 1 is:\",Pa_b)"
   ]
  },
  {
   "cell_type": "markdown",
   "metadata": {},
   "source": [
    "What is the probability that it came from Bowl 2?"
   ]
  },
  {
   "cell_type": "code",
   "execution_count": 3,
   "metadata": {},
   "outputs": [
    {
     "name": "stdout",
     "output_type": "stream",
     "text": [
      "Complementary: The probability that the vanilla cookie came from Bowl 2 is: 0.4\n",
      "\n",
      "\n",
      "Bayes Theorem: The probability that the vanilla cookie came from Bowl 2 is: 0.4\n"
     ]
    }
   ],
   "source": [
    "#The complementary\n",
    "print(\"Complementary: The probability that the vanilla cookie came from Bowl 2 is:\",1-Pa_b)\n",
    "\n",
    "#a: the bowl is bowl 2\n",
    "#b: the cookie is vanilla\n",
    "\n",
    "P_a = 1/2\n",
    "P_b = 1/2 * 30/40 + 1/2 * 20/40\n",
    "Pb_a = 20/40\n",
    "Pa_b = Pb_a * P_a / P_b\n",
    "print(\"\\n\\nBayes Theorem: The probability that the vanilla cookie came from Bowl 2 is:\",Pa_b)"
   ]
  },
  {
   "cell_type": "markdown",
   "metadata": {},
   "source": [
    "What if the cookie you had picked was chocolate? What are the probabilities that the chocolate cookie came from Bowl 1 and Bowl 2 respectively?"
   ]
  },
  {
   "cell_type": "code",
   "execution_count": 4,
   "metadata": {},
   "outputs": [
    {
     "name": "stdout",
     "output_type": "stream",
     "text": [
      "\n",
      "The probability that the chocalate cookie came from Bowl 1 is: 0.3333333333333333\n",
      "\n",
      "The probability that the chocalate cookie came from Bowl 2 is: 0.6666666666666667\n"
     ]
    }
   ],
   "source": [
    "#a: the bowl is bowl 1\n",
    "#b: the cookie is chocolate\n",
    "\n",
    "P_a = 1/2\n",
    "P_b = 1/2 * 10/40 + 1/2 * 20/40\n",
    "Pb_a = 10/40\n",
    "Pa_b = Pb_a * P_a / P_b\n",
    "print(\"\\nThe probability that the chocalate cookie came from Bowl 1 is:\",Pa_b)\n",
    "print(\"\\nThe probability that the chocalate cookie came from Bowl 2 is:\",1-Pa_b)"
   ]
  },
  {
   "cell_type": "markdown",
   "metadata": {},
   "source": [
    "## 2. Candy Problem\n",
    "\n",
    "Suppose you have two bags of candies:\n",
    "\n",
    "- In Bag 1, the mix of colors is:\n",
    "    - Brown - 30%\n",
    "    - Yellow - 20%\n",
    "    - Red - 20%\n",
    "    - Green - 10%\n",
    "    - Orange - 10%\n",
    "    - Tan - 10%\n",
    "    \n",
    "- In Bag 2, the mix of colors is:\n",
    "    - Blue - 24%\n",
    "    - Green - 20%\n",
    "    - Orange - 16%\n",
    "    - Yellow - 14%\n",
    "    - Red - 13%\n",
    "    - Brown - 13%\n",
    "    \n",
    "Not knowing which bag is which, you randomly draw one candy from each bag. One is yellow and one is green. What is the probability that the yellow one came from the Bag 1?\n",
    "\n",
    "*Hint: For the likelihoods, you will need to multiply the probabilities of drawing yellow from one bag and green from the other bag and vice versa.*"
   ]
  },
  {
   "cell_type": "code",
   "execution_count": 5,
   "metadata": {},
   "outputs": [
    {
     "name": "stdout",
     "output_type": "stream",
     "text": [
      "\n",
      "The probability that the yellow candy came from bag 1 is: 0.5882352941176471\n"
     ]
    }
   ],
   "source": [
    "#a = the chosen bag is Bag 1\n",
    "#b = the candy is yellow\n",
    "\n",
    "P_a = 1/2\n",
    "P_b = 1/2 * 20/100 + 1/2 * 14/100\n",
    "Pb_a = 20/100\n",
    "Pa_b = Pb_a * P_a / P_b\n",
    "print(\"\\nThe probability that the yellow candy came from bag 1 is:\",Pa_b)"
   ]
  },
  {
   "cell_type": "markdown",
   "metadata": {},
   "source": [
    "What is the probability that the yellow candy came from Bag 2?"
   ]
  },
  {
   "cell_type": "code",
   "execution_count": 6,
   "metadata": {},
   "outputs": [
    {
     "name": "stdout",
     "output_type": "stream",
     "text": [
      "\n",
      "The probability that the yellow candy came from bag 2 is: 0.411764705882353\n"
     ]
    }
   ],
   "source": [
    "#a = the chosen bag is Bag 2\n",
    "#b = the candy is yellow\n",
    "\n",
    "P_a = 1/2\n",
    "P_b = 1/2 * 20/100 + 1/2 * 14/100\n",
    "Pb_a = 14/100\n",
    "Pa_b = Pb_a * P_a / P_b\n",
    "print(\"\\nThe probability that the yellow candy came from bag 2 is:\",Pa_b)"
   ]
  },
  {
   "cell_type": "markdown",
   "metadata": {},
   "source": [
    "What are the probabilities that the green one came from Bag 1 and Bag 2 respectively?"
   ]
  },
  {
   "cell_type": "code",
   "execution_count": 7,
   "metadata": {},
   "outputs": [
    {
     "name": "stdout",
     "output_type": "stream",
     "text": [
      "\n",
      "The probability that the green candy came from bag 1 is: 0.3333333333333333\n",
      "\n",
      "The probability that the green candy came from bag 2 is: 0.6666666666666667\n"
     ]
    }
   ],
   "source": [
    "#a = the chosen bag is Bag 1\n",
    "#b = the candy is green\n",
    "\n",
    "P_a = 1/2\n",
    "P_b = 1/2 * 10/100 + 1/2 * 20/100\n",
    "Pb_a = 10/100\n",
    "Pa_b = Pb_a * P_a / P_b\n",
    "print(\"\\nThe probability that the green candy came from bag 1 is:\",Pa_b)\n",
    "print(\"\\nThe probability that the green candy came from bag 2 is:\",1-Pa_b)"
   ]
  },
  {
   "cell_type": "markdown",
   "metadata": {},
   "source": [
    "## 3. Monty Hall Problem\n",
    "\n",
    "Suppose you are a contestant on the popular game show *Let's Make a Deal*. The host of the show (Monty Hall) presents you with three doors - Door A, Door B, and Door C. He tells you that there is a sports car behind one of them and if you choose the correct one, you win the car!\n",
    "\n",
    "You select Door A, but then Monty makes things a little more interesting. He opens Door B to reveal that there is no sports car behind it and asks you if you would like to stick with your choice of Door A or switch your choice to Door C. Given this new information, what are the probabilities of you winning the car if you stick with Door A versus if you switch to Door C?"
   ]
  },
  {
   "cell_type": "code",
   "execution_count": 8,
   "metadata": {},
   "outputs": [
    {
     "name": "stdout",
     "output_type": "stream",
     "text": [
      "\n",
      "The probability to win keeping DOOR A: 0.3333333333333333\n",
      "\n",
      "\n",
      "The probability to win switching to DOOR C: 0.6666666666666667\n"
     ]
    }
   ],
   "source": [
    "# A : Sport car in DOOR A\n",
    "# B : No Sport car in DOOR B\n",
    "\n",
    "P_a = 1/3\n",
    "P_b = 1\n",
    "Pb_a = 1\n",
    "Pa_b = Pb_a * P_a / P_b\n",
    "print(\"\\nThe probability to win keeping DOOR A:\",Pa_b)\n",
    "\n",
    "print(\"\\n\\nThe probability to win switching to DOOR C:\",1-Pa_b)"
   ]
  },
  {
   "cell_type": "markdown",
   "metadata": {},
   "source": [
    "## 4. Bayesian Analysis \n",
    "\n",
    "Suppose you work for a landscaping company, and they want to advertise their service online. They create an ad and sit back waiting for the money to roll in. On the first day, the ad sends 100 visitors to the site and 14 of them sign up for landscaping services. Create a generative model to come up with the posterior distribution and produce a visualization of what the posterior distribution would look like given the observed data."
   ]
  },
  {
   "cell_type": "code",
   "execution_count": 30,
   "metadata": {},
   "outputs": [
    {
     "name": "stdout",
     "output_type": "stream",
     "text": [
      "[62, 78, 88, 62, 55, 81, 56, 50, 40, 83]\n"
     ]
    },
    {
     "data": {
      "image/png": "[encoded data removed]",
      "text/plain": [
       "<Figure size 432x288 with 1 Axes>"
      ]
     },
     "metadata": {},
     "output_type": "display_data"
    }
   ],
   "source": [
    "import matplotlib.pyplot as plt\n",
    "import pandas as pd\n",
    "\n",
    "n_draws = 100000\n",
    "prior = pd.Series(np.random.uniform(0, 1, size=n_draws))\n",
    "\n",
    "n_visits = 100\n",
    "signed = 14\n",
    "p= 14/100\n",
    "\n",
    "def generative_model(param):\n",
    "    return np.random.binomial(n_visits, param)\n",
    "    \n",
    "sim_data = list()\n",
    "for p in prior: \n",
    "    sim_data.append(generative_model(p))\n",
    "posterior = prior[list(map(lambda x : x == signed,sim_data))]\n",
    "posterior.hist()"
   ]
  },
  {
   "cell_type": "markdown",
   "metadata": {},
   "source": [
    "Produce a set of descriptive statistics for the posterior distribution."
   ]
  },
  {
   "cell_type": "code",
   "execution_count": 31,
   "metadata": {},
   "outputs": [
    {
     "data": {
      "text/plain": [
       "count    1031.000000\n",
       "mean        0.148461\n",
       "std         0.035316\n",
       "min         0.053330\n",
       "25%         0.123377\n",
       "50%         0.147210\n",
       "75%         0.170694\n",
       "max         0.308157\n",
       "dtype: float64"
      ]
     },
     "execution_count": 31,
     "metadata": {},
     "output_type": "execute_result"
    }
   ],
   "source": [
    "posterior.describe()"
   ]
  },
  {
   "cell_type": "markdown",
   "metadata": {},
   "source": [
    "What is the 90% credible interval range?"
   ]
  },
  {
   "cell_type": "code",
   "execution_count": 32,
   "metadata": {},
   "outputs": [
    {
     "name": "stdout",
     "output_type": "stream",
     "text": [
      "0.08398176550678924 | 0.22034111634180337\n"
     ]
    }
   ],
   "source": [
    "print(posterior.quantile(.025), '|', posterior.quantile(.975))"
   ]
  },
  {
   "cell_type": "markdown",
   "metadata": {},
   "source": [
    "What is the Maximum Likelihood Estimate?"
   ]
  },
  {
   "cell_type": "code",
   "execution_count": 44,
   "metadata": {},
   "outputs": [
    {
     "name": "stdout",
     "output_type": "stream",
     "text": [
      "The MLE is : 0.15\n"
     ]
    }
   ],
   "source": [
    "print(\"The MLE is : {}\".format(posterior.round(2).mode()[0]))"
   ]
  },
  {
   "cell_type": "code",
   "execution_count": null,
   "metadata": {},
   "outputs": [],
   "source": []
  }
 ],
 "metadata": {
  "kernelspec": {
   "display_name": "Python 3",
   "language": "python",
   "name": "python3"
  },
  "language_info": {
   "codemirror_mode": {
    "name": "ipython",
    "version": 3
   },
   "file_extension": ".py",
   "mimetype": "text/x-python",
   "name": "python",
   "nbconvert_exporter": "python",
   "pygments_lexer": "ipython3",
   "version": "3.6.5"
  },
  "toc": {
   "nav_menu": {},
   "number_sections": true,
   "sideBar": true,
   "skip_h1_title": false,
   "title_cell": "Table of Contents",
   "title_sidebar": "Contents",
   "toc_cell": false,
   "toc_position": {},
   "toc_section_display": true,
   "toc_window_display": false
  }
 },
 "nbformat": 4,
 "nbformat_minor": 2
}
