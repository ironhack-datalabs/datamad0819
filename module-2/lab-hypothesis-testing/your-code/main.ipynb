{
 "cells": [
  {
   "cell_type": "markdown",
   "metadata": {},
   "source": [
    "# Before your start:\n",
    "- Read the README.md file\n",
    "- Comment as much as you can and use the resources (README.md file)\n",
    "- Happy learning!"
   ]
  },
  {
   "cell_type": "code",
   "execution_count": 1,
   "metadata": {},
   "outputs": [],
   "source": [
    "# import numpy and pandas\n",
    "import pandas as pd\n",
    "import numpy as np\n"
   ]
  },
  {
   "cell_type": "markdown",
   "metadata": {},
   "source": [
    "# Challenge 1 - Exploring the Data\n",
    "\n",
    "In this challenge, we will examine all salaries of employees of the City of Chicago. We will start by loading the dataset and examining its contents"
   ]
  },
  {
   "cell_type": "code",
   "execution_count": 33,
   "metadata": {},
   "outputs": [],
   "source": [
    "# Run this code:\n",
    "salaries = pd.read_csv('../Current_Employee_Names__Salaries__and_Position_Titles.csv')"
   ]
  },
  {
   "cell_type": "markdown",
   "metadata": {},
   "source": [
    "Examine the `salaries` dataset using the `head` function below."
   ]
  },
  {
   "cell_type": "code",
   "execution_count": 34,
   "metadata": {},
   "outputs": [
    {
     "data": {
      "text/html": [
       "<div>\n",
       "<style scoped>\n",
       "    .dataframe tbody tr th:only-of-type {\n",
       "        vertical-align: middle;\n",
       "    }\n",
       "\n",
       "    .dataframe tbody tr th {\n",
       "        vertical-align: top;\n",
       "    }\n",
       "\n",
       "    .dataframe thead th {\n",
       "        text-align: right;\n",
       "    }\n",
       "</style>\n",
       "<table border=\"1\" class=\"dataframe\">\n",
       "  <thead>\n",
       "    <tr style=\"text-align: right;\">\n",
       "      <th></th>\n",
       "      <th>Name</th>\n",
       "      <th>Job Titles</th>\n",
       "      <th>Department</th>\n",
       "      <th>Full or Part-Time</th>\n",
       "      <th>Salary or Hourly</th>\n",
       "      <th>Typical Hours</th>\n",
       "      <th>Annual Salary</th>\n",
       "      <th>Hourly Rate</th>\n",
       "    </tr>\n",
       "  </thead>\n",
       "  <tbody>\n",
       "    <tr>\n",
       "      <th>0</th>\n",
       "      <td>AARON,  JEFFERY M</td>\n",
       "      <td>SERGEANT</td>\n",
       "      <td>POLICE</td>\n",
       "      <td>F</td>\n",
       "      <td>Salary</td>\n",
       "      <td>NaN</td>\n",
       "      <td>101442.0</td>\n",
       "      <td>NaN</td>\n",
       "    </tr>\n",
       "    <tr>\n",
       "      <th>1</th>\n",
       "      <td>AARON,  KARINA</td>\n",
       "      <td>POLICE OFFICER (ASSIGNED AS DETECTIVE)</td>\n",
       "      <td>POLICE</td>\n",
       "      <td>F</td>\n",
       "      <td>Salary</td>\n",
       "      <td>NaN</td>\n",
       "      <td>94122.0</td>\n",
       "      <td>NaN</td>\n",
       "    </tr>\n",
       "    <tr>\n",
       "      <th>2</th>\n",
       "      <td>AARON,  KIMBERLEI R</td>\n",
       "      <td>CHIEF CONTRACT EXPEDITER</td>\n",
       "      <td>GENERAL SERVICES</td>\n",
       "      <td>F</td>\n",
       "      <td>Salary</td>\n",
       "      <td>NaN</td>\n",
       "      <td>101592.0</td>\n",
       "      <td>NaN</td>\n",
       "    </tr>\n",
       "  </tbody>\n",
       "</table>\n",
       "</div>"
      ],
      "text/plain": [
       "                  Name                              Job Titles  \\\n",
       "0    AARON,  JEFFERY M                                SERGEANT   \n",
       "1      AARON,  KARINA   POLICE OFFICER (ASSIGNED AS DETECTIVE)   \n",
       "2  AARON,  KIMBERLEI R                CHIEF CONTRACT EXPEDITER   \n",
       "\n",
       "         Department Full or Part-Time Salary or Hourly  Typical Hours  \\\n",
       "0            POLICE                 F           Salary            NaN   \n",
       "1            POLICE                 F           Salary            NaN   \n",
       "2  GENERAL SERVICES                 F           Salary            NaN   \n",
       "\n",
       "   Annual Salary  Hourly Rate  \n",
       "0       101442.0          NaN  \n",
       "1        94122.0          NaN  \n",
       "2       101592.0          NaN  "
      ]
     },
     "execution_count": 34,
     "metadata": {},
     "output_type": "execute_result"
    }
   ],
   "source": [
    "# Your code here:\n",
    "salaries.head(3)"
   ]
  },
  {
   "cell_type": "markdown",
   "metadata": {},
   "source": [
    "We see from looking at the `head` function that there is quite a bit of missing data. Let's examine how much missing data is in each column. Produce this output in the cell below"
   ]
  },
  {
   "cell_type": "code",
   "execution_count": 6,
   "metadata": {},
   "outputs": [
    {
     "data": {
      "text/plain": [
       "Name                     0\n",
       "Job Titles               0\n",
       "Department               0\n",
       "Full or Part-Time        0\n",
       "Salary or Hourly         0\n",
       "Typical Hours        25161\n",
       "Annual Salary         8022\n",
       "Hourly Rate          25161\n",
       "dtype: int64"
      ]
     },
     "execution_count": 6,
     "metadata": {},
     "output_type": "execute_result"
    }
   ],
   "source": [
    "# Your code here:\n",
    "salaries.isnull().sum()"
   ]
  },
  {
   "cell_type": "markdown",
   "metadata": {},
   "source": [
    "Let's also look at the count of hourly vs. salaried employees. Write the code in the cell below"
   ]
  },
  {
   "cell_type": "code",
   "execution_count": 7,
   "metadata": {},
   "outputs": [
    {
     "data": {
      "text/plain": [
       "Salary    25161\n",
       "Hourly     8022\n",
       "Name: Salary or Hourly, dtype: int64"
      ]
     },
     "execution_count": 7,
     "metadata": {},
     "output_type": "execute_result"
    }
   ],
   "source": [
    "# Your code here:\n",
    "salaries[\"Salary or Hourly\"].value_counts()"
   ]
  },
  {
   "cell_type": "markdown",
   "metadata": {},
   "source": [
    "What this information indicates is that the table contains information about two types of employees - salaried and hourly. Some columns apply only to one type of employee while other columns only apply to another kind. This is why there are so many missing values. Therefore, we will not do anything to handle the missing values."
   ]
  },
  {
   "cell_type": "markdown",
   "metadata": {},
   "source": [
    "There are different departments in the city. List all departments and the count of employees in each department."
   ]
  },
  {
   "cell_type": "code",
   "execution_count": 13,
   "metadata": {},
   "outputs": [
    {
     "data": {
      "text/plain": [
       "Department\n",
       "POLICE                   13414\n",
       "FIRE                      4641\n",
       "STREETS & SAN             2198\n",
       "OEMC                      2102\n",
       "WATER MGMNT               1879\n",
       "AVIATION                  1629\n",
       "TRANSPORTN                1140\n",
       "PUBLIC LIBRARY            1015\n",
       "GENERAL SERVICES           980\n",
       "FAMILY & SUPPORT           615\n",
       "FINANCE                    560\n",
       "HEALTH                     488\n",
       "CITY COUNCIL               411\n",
       "LAW                        407\n",
       "BUILDINGS                  269\n",
       "COMMUNITY DEVELOPMENT      207\n",
       "BUSINESS AFFAIRS           171\n",
       "COPA                       116\n",
       "BOARD OF ELECTION          107\n",
       "DoIT                        99\n",
       "PROCUREMENT                 92\n",
       "INSPECTOR GEN               87\n",
       "MAYOR'S OFFICE              85\n",
       "CITY CLERK                  84\n",
       "ANIMAL CONTRL               81\n",
       "HUMAN RESOURCES             79\n",
       "CULTURAL AFFAIRS            65\n",
       "BUDGET & MGMT               46\n",
       "ADMIN HEARNG                39\n",
       "DISABILITIES                28\n",
       "TREASURER                   22\n",
       "HUMAN RELATIONS             16\n",
       "BOARD OF ETHICS              8\n",
       "POLICE BOARD                 2\n",
       "LICENSE APPL COMM            1\n",
       "Name: Name, dtype: int64"
      ]
     },
     "execution_count": 13,
     "metadata": {},
     "output_type": "execute_result"
    }
   ],
   "source": [
    "# Your code here:\n",
    "salaries.groupby(\"Department\").count()[\"Name\"].sort_values(ascending=False)\n"
   ]
  },
  {
   "cell_type": "markdown",
   "metadata": {},
   "source": [
    "# Challenge 2 - Hypothesis Tests\n",
    "\n",
    "In this section of the lab, we will test whether the hourly wage of all hourly workers is significantly different from $30/hr. Import the correct one sample test function from scipy and perform the hypothesis test for a 95% two sided confidence interval."
   ]
  },
  {
   "cell_type": "code",
   "execution_count": 83,
   "metadata": {},
   "outputs": [
    {
     "name": "stdout",
     "output_type": "stream",
     "text": [
      "\n",
      "We accept the H1 hypothesis. The hourly wage is significantly different. t= 20.6198057854942, p_value = 4.3230240486229894e-92\n"
     ]
    }
   ],
   "source": [
    "from scipy.stats import ttest_1samp\n",
    "\n",
    "#H1 : hourly wage of all hourly workers is significantly different from mu0: $30/hr\n",
    "#H0: hourly wage of all hourly workers is not significantly different from mu0: $30/hr\n",
    "confi = 0.95\n",
    "mu_0= 30\n",
    "mu = salaries[salaries[\"Hourly Rate\"].notnull()][\"Hourly Rate\"].mean()\n",
    "n = salaries[salaries[\"Hourly Rate\"].notnull()][\"Hourly Rate\"].count()\n",
    "\n",
    "rvs = list(salaries[salaries[\"Hourly Rate\"].notnull()][\"Hourly Rate\"])\n",
    "\n",
    "t,p_value = ttest_1samp(rvs,mu_0)\n",
    "\n",
    "if p_value<1-confi:\n",
    "    print(\"\\nWe accept the H1 hypothesis. The hourly wage is significantly different. t= {}, p_value = {}\".format(t,p_value))\n",
    "\n"
   ]
  },
  {
   "cell_type": "markdown",
   "metadata": {},
   "source": [
    "We are also curious about salaries in the police force. The chief of police in Chicago claimed in a press briefing that salaries this year are higher than last year's mean of $86000/year a year for all salaried employees. Test this one sided hypothesis using a 95% confidence interval.\n",
    "\n",
    "Hint: A one tailed test has a p-value that is half of the two tailed p-value. If our hypothesis is greater than, then to reject, the test statistic must also be positive."
   ]
  },
  {
   "cell_type": "code",
   "execution_count": 88,
   "metadata": {},
   "outputs": [
    {
     "name": "stdout",
     "output_type": "stream",
     "text": [
      "3.081997005712994 0.0020603403550965137\n",
      "\n",
      "We accept the H1 hypothesis. The salaries is significantly greater.  t= 3.081997005712994, p_value = 0.0010301701775482569\n"
     ]
    }
   ],
   "source": [
    "#H1: The salaries are significantly greater \n",
    "#H0: The salaries are NOT significantly greater\n",
    "confi = 0.95\n",
    "mu_0 = 86000\n",
    "rvs = list(salaries[(salaries[\"Department\"] == \"POLICE\") & (salaries[\"Annual Salary\"].notnull())][\"Annual Salary\"])\n",
    "t,p_value = ttest_1samp(rvs,mu_0)\n",
    "print(t,p_value)\n",
    "\n",
    "if t >= 0: \n",
    "    if p_value/2 < 1-confi:\n",
    "         print(\"\\nWe accept the H1 hypothesis. The salaries is significantly greater.  t= {}, p_value = {}\".format(t,p_value/2))\n",
    "    else:\n",
    "         print(\"\\nWe reject the H1 hypothesis. The salaries are NOT significantly greater. t= {}, p_value = {}\".format(t,p_value/2))\n",
    "else:\n",
    "     print(\"\\nWe reject the H1 hypothesis. The salaries are NOT significantly greater. t= {}, p_value = {}\".format(t,p_value/2))\n",
    "\n"
   ]
  },
  {
   "cell_type": "markdown",
   "metadata": {},
   "source": [
    "Using the `crosstab` function, find the department that has the most hourly workers. "
   ]
  },
  {
   "cell_type": "code",
   "execution_count": 57,
   "metadata": {},
   "outputs": [
    {
     "data": {
      "text/html": [
       "<div>\n",
       "<style scoped>\n",
       "    .dataframe tbody tr th:only-of-type {\n",
       "        vertical-align: middle;\n",
       "    }\n",
       "\n",
       "    .dataframe tbody tr th {\n",
       "        vertical-align: top;\n",
       "    }\n",
       "\n",
       "    .dataframe thead th {\n",
       "        text-align: right;\n",
       "    }\n",
       "</style>\n",
       "<table border=\"1\" class=\"dataframe\">\n",
       "  <thead>\n",
       "    <tr style=\"text-align: right;\">\n",
       "      <th>Department</th>\n",
       "      <th>ADMIN HEARNG</th>\n",
       "      <th>ANIMAL CONTRL</th>\n",
       "      <th>AVIATION</th>\n",
       "      <th>BOARD OF ELECTION</th>\n",
       "      <th>BOARD OF ETHICS</th>\n",
       "      <th>BUDGET &amp; MGMT</th>\n",
       "      <th>BUILDINGS</th>\n",
       "      <th>BUSINESS AFFAIRS</th>\n",
       "      <th>CITY CLERK</th>\n",
       "      <th>CITY COUNCIL</th>\n",
       "      <th>...</th>\n",
       "      <th>MAYOR'S OFFICE</th>\n",
       "      <th>OEMC</th>\n",
       "      <th>POLICE</th>\n",
       "      <th>POLICE BOARD</th>\n",
       "      <th>PROCUREMENT</th>\n",
       "      <th>PUBLIC LIBRARY</th>\n",
       "      <th>STREETS &amp; SAN</th>\n",
       "      <th>TRANSPORTN</th>\n",
       "      <th>TREASURER</th>\n",
       "      <th>WATER MGMNT</th>\n",
       "    </tr>\n",
       "    <tr>\n",
       "      <th>Salary or Hourly</th>\n",
       "      <th></th>\n",
       "      <th></th>\n",
       "      <th></th>\n",
       "      <th></th>\n",
       "      <th></th>\n",
       "      <th></th>\n",
       "      <th></th>\n",
       "      <th></th>\n",
       "      <th></th>\n",
       "      <th></th>\n",
       "      <th></th>\n",
       "      <th></th>\n",
       "      <th></th>\n",
       "      <th></th>\n",
       "      <th></th>\n",
       "      <th></th>\n",
       "      <th></th>\n",
       "      <th></th>\n",
       "      <th></th>\n",
       "      <th></th>\n",
       "      <th></th>\n",
       "    </tr>\n",
       "  </thead>\n",
       "  <tbody>\n",
       "    <tr>\n",
       "      <th>Hourly</th>\n",
       "      <td>0</td>\n",
       "      <td>19</td>\n",
       "      <td>1082</td>\n",
       "      <td>0</td>\n",
       "      <td>0</td>\n",
       "      <td>2</td>\n",
       "      <td>0</td>\n",
       "      <td>7</td>\n",
       "      <td>0</td>\n",
       "      <td>64</td>\n",
       "      <td>...</td>\n",
       "      <td>8</td>\n",
       "      <td>1273</td>\n",
       "      <td>10</td>\n",
       "      <td>0</td>\n",
       "      <td>2</td>\n",
       "      <td>299</td>\n",
       "      <td>1862</td>\n",
       "      <td>725</td>\n",
       "      <td>0</td>\n",
       "      <td>1513</td>\n",
       "    </tr>\n",
       "    <tr>\n",
       "      <th>Salary</th>\n",
       "      <td>39</td>\n",
       "      <td>62</td>\n",
       "      <td>547</td>\n",
       "      <td>107</td>\n",
       "      <td>8</td>\n",
       "      <td>44</td>\n",
       "      <td>269</td>\n",
       "      <td>164</td>\n",
       "      <td>84</td>\n",
       "      <td>347</td>\n",
       "      <td>...</td>\n",
       "      <td>77</td>\n",
       "      <td>829</td>\n",
       "      <td>13404</td>\n",
       "      <td>2</td>\n",
       "      <td>90</td>\n",
       "      <td>716</td>\n",
       "      <td>336</td>\n",
       "      <td>415</td>\n",
       "      <td>22</td>\n",
       "      <td>366</td>\n",
       "    </tr>\n",
       "  </tbody>\n",
       "</table>\n",
       "<p>2 rows × 35 columns</p>\n",
       "</div>"
      ],
      "text/plain": [
       "Department        ADMIN HEARNG  ANIMAL CONTRL  AVIATION  BOARD OF ELECTION  \\\n",
       "Salary or Hourly                                                             \n",
       "Hourly                       0             19      1082                  0   \n",
       "Salary                      39             62       547                107   \n",
       "\n",
       "Department        BOARD OF ETHICS  BUDGET & MGMT  BUILDINGS  BUSINESS AFFAIRS  \\\n",
       "Salary or Hourly                                                                \n",
       "Hourly                          0              2          0                 7   \n",
       "Salary                          8             44        269               164   \n",
       "\n",
       "Department        CITY CLERK  CITY COUNCIL     ...       MAYOR'S OFFICE  OEMC  \\\n",
       "Salary or Hourly                               ...                              \n",
       "Hourly                     0            64     ...                    8  1273   \n",
       "Salary                    84           347     ...                   77   829   \n",
       "\n",
       "Department        POLICE  POLICE BOARD  PROCUREMENT  PUBLIC LIBRARY  \\\n",
       "Salary or Hourly                                                      \n",
       "Hourly                10             0            2             299   \n",
       "Salary             13404             2           90             716   \n",
       "\n",
       "Department        STREETS & SAN  TRANSPORTN  TREASURER  WATER MGMNT  \n",
       "Salary or Hourly                                                     \n",
       "Hourly                     1862         725          0         1513  \n",
       "Salary                      336         415         22          366  \n",
       "\n",
       "[2 rows x 35 columns]"
      ]
     },
     "execution_count": 57,
     "metadata": {},
     "output_type": "execute_result"
    }
   ],
   "source": [
    "sal_cross = pd.crosstab(salaries[\"Salary or Hourly\"], salaries[\"Department\"])\n",
    "sal_cross"
   ]
  },
  {
   "cell_type": "code",
   "execution_count": 71,
   "metadata": {},
   "outputs": [
    {
     "name": "stdout",
     "output_type": "stream",
     "text": [
      "The department with the most hourly workers is:  STREETS & SAN\n"
     ]
    }
   ],
   "source": [
    "department = sal_cross.loc[\"Hourly\"].idxmax(axis=1)\n",
    "print(\"The department with the most hourly workers is: \",department)"
   ]
  },
  {
   "cell_type": "markdown",
   "metadata": {},
   "source": [
    "The workers from the department with the most hourly workers have complained that their hourly wage is less than $35/hour. Using a one sample t-test, test this one-sided hypothesis at the 95% confidence level."
   ]
  },
  {
   "cell_type": "code",
   "execution_count": 90,
   "metadata": {},
   "outputs": [
    {
     "name": "stdout",
     "output_type": "stream",
     "text": [
      "\n",
      "We accept the H1 hypothesis. The hourly wage is significantly lower. t= -9.567447887848152, p_value = 1.6689265282353859e-21\n"
     ]
    }
   ],
   "source": [
    "#H1 : Hourly wage is significantly less than $35/h\n",
    "#H0:  Hourly wage is NOT significantly less than $35/h\n",
    "\n",
    "confi = 0.95\n",
    "mu_0 = 35\n",
    "rvs = list(salaries[(salaries[\"Department\"] == department) & (salaries[\"Hourly Rate\"].notnull())][\"Hourly Rate\"])\n",
    "t, p_value = ttest_1samp(rvs, mu_0)\n",
    "\n",
    "if t <0 : \n",
    "    if p_value/2 <= 1-confi:\n",
    "        print(\"\\nWe accept the H1 hypothesis. The hourly wage is significantly lower. t= {}, p_value = {}\".format(t,p_value/2))\n",
    "    else: \n",
    "        print(\"\\nWe reject the H1 hypothesis. The hourly wage is NOT significantly lower. t= {}, p_value = {}\".format(t,p_value/2))\n",
    "else: \n",
    "    print(\"\\nWe reject the H1 hypothesis. The hourly wage is NOT significantly lower. t= {}, p_value = {}\".format(t,p_value/2))"
   ]
  },
  {
   "cell_type": "markdown",
   "metadata": {},
   "source": [
    "# Challenge 3 - Constructing Confidence Intervals\n",
    "\n",
    "While testing our hypothesis is a great way to gather empirical evidence for accepting or rejecting the hypothesis, another way to gather evidence is by creating a confidence interval. A confidence interval gives us information about the true mean of the population. So for a 95% confidence interval, we are 95% sure that the mean of the population is within the confidence interval. \n",
    ").\n",
    "\n",
    "To read more about confidence intervals, click [here](https://en.wikipedia.org/wiki/Confidence_interval).\n",
    "\n",
    "\n",
    "In the cell below, we will construct a 95% confidence interval for the mean hourly wage of all hourly workers. \n",
    "\n",
    "The confidence interval is computed in SciPy using the `t.interval` function. You can read more about this function [here](https://docs.scipy.org/doc/scipy-0.14.0/reference/generated/scipy.stats.t.html).\n",
    "\n",
    "To compute the confidence interval of the hourly wage, use the 0.95 for the confidence level, number of rows - 1 for degrees of freedom, the mean of the sample for the location parameter and the standard error for the scale. The standard error can be computed using [this](https://docs.scipy.org/doc/scipy/reference/generated/scipy.stats.sem.html) function in SciPy."
   ]
  },
  {
   "cell_type": "code",
   "execution_count": 110,
   "metadata": {},
   "outputs": [
    {
     "name": "stdout",
     "output_type": "stream",
     "text": [
      "The population mean should be in between 32.7800771833923 and 32.797038249170264.\n"
     ]
    }
   ],
   "source": [
    "from scipy.stats import sem\n",
    "from scipy.stats import t as t_student\n",
    "\n",
    "rvs = (salaries[salaries[\"Hourly Rate\"].notnull()][\"Hourly Rate\"])\n",
    "\n",
    "conf = 0.95\n",
    "df = len(rvs) - 1\n",
    "mean = rvs.mean()\n",
    "st = sem(rvs)\n",
    "\n",
    "ci_inf, ci_sup = t_student.interval((1-conf),df,mean,st)\n",
    "print(\"The hourly wage should be in between {} and {}.\".format(ci_inf, ci_sup))"
   ]
  },
  {
   "cell_type": "markdown",
   "metadata": {},
   "source": [
    "Now construct the 95% confidence interval for all salaried employeed in the police in the cell below."
   ]
  },
  {
   "cell_type": "code",
   "execution_count": 117,
   "metadata": {},
   "outputs": [
    {
     "name": "stdout",
     "output_type": "stream",
     "text": [
      "The salary should be in between $86476.5176546444 and $86496.31135162238.\n"
     ]
    }
   ],
   "source": [
    "# Your code here:\n",
    "rvs = salaries[(salaries[\"Department\"]==\"POLICE\")&(salaries[\"Annual Salary\"].notnull())][\"Annual Salary\"]\n",
    "\n",
    "conf = 0.95\n",
    "df = len(rvs) - 1\n",
    "mean = rvs.mean()\n",
    "st = sem(rvs)\n",
    "\n",
    "ci_inf, ci_sup = t_student.interval((1-conf),df,mean,st)\n",
    "print(\"The salary should be in between ${} and ${}.\".format(ci_inf, ci_sup))"
   ]
  },
  {
   "cell_type": "markdown",
   "metadata": {},
   "source": [
    "# Challenge 4 - Hypothesis Tests of Proportions\n",
    "\n",
    "Another type of one sample test is a hypothesis test of proportions. In this test, we examine whether the proportion of a group in our sample is significantly different than a fraction. \n",
    "\n",
    "You can read more about one sample proportion tests [here](http://sphweb.bumc.bu.edu/otlt/MPH-Modules/BS/SAS/SAS6-CategoricalData/SAS6-CategoricalData2.html).\n",
    "\n",
    "In the cell below, use the `proportions_ztest` function from `statsmodels` to perform a hypothesis test that will determine whether the number of hourly workers in the City of Chicago is significantly different from 25% at the 95% confidence level."
   ]
  },
  {
   "cell_type": "code",
   "execution_count": 125,
   "metadata": {},
   "outputs": [
    {
     "ename": "TypeError",
     "evalue": "proportions_ztest() missing 1 required positional argument: 'nobs'",
     "output_type": "error",
     "traceback": [
      "\u001b[1;31m---------------------------------------------------------------------------\u001b[0m",
      "\u001b[1;31mTypeError\u001b[0m                                 Traceback (most recent call last)",
      "\u001b[1;32m<ipython-input-125-b458ab5790c0>\u001b[0m in \u001b[0;36m<module>\u001b[1;34m()\u001b[0m\n\u001b[0;32m      3\u001b[0m \u001b[0mcount\u001b[0m \u001b[1;33m=\u001b[0m \u001b[0msalaries\u001b[0m\u001b[1;33m[\u001b[0m\u001b[0msalaries\u001b[0m\u001b[1;33m[\u001b[0m\u001b[1;34m\"Salary or Hourly\"\u001b[0m\u001b[1;33m]\u001b[0m \u001b[1;33m==\u001b[0m \u001b[1;34m\"Hourly\"\u001b[0m\u001b[1;33m]\u001b[0m\u001b[1;33m[\u001b[0m\u001b[1;34m\"Name\"\u001b[0m\u001b[1;33m]\u001b[0m\u001b[1;33m.\u001b[0m\u001b[0mcount\u001b[0m\u001b[1;33m(\u001b[0m\u001b[1;33m)\u001b[0m\u001b[1;33m\u001b[0m\u001b[0m\n\u001b[0;32m      4\u001b[0m \u001b[0mvalue\u001b[0m \u001b[1;33m=\u001b[0m \u001b[1;36m0.25\u001b[0m\u001b[1;33m\u001b[0m\u001b[0m\n\u001b[1;32m----> 5\u001b[1;33m \u001b[0mproportions_ztest\u001b[0m\u001b[1;33m(\u001b[0m\u001b[0mcount\u001b[0m \u001b[1;33m=\u001b[0m \u001b[0mcount\u001b[0m\u001b[1;33m,\u001b[0m \u001b[0mvalue\u001b[0m \u001b[1;33m=\u001b[0m \u001b[0mvalue\u001b[0m\u001b[1;33m)\u001b[0m\u001b[1;33m\u001b[0m\u001b[0m\n\u001b[0m",
      "\u001b[1;31mTypeError\u001b[0m: proportions_ztest() missing 1 required positional argument: 'nobs'"
     ]
    }
   ],
   "source": [
    "from statsmodels.stats.proportion import proportions_ztest\n",
    "\n",
    "count = salaries[salaries[\"Salary or Hourly\"] == \"Hourly\"][\"Name\"].count()\n",
    "value = 0.25\n",
    "proportions_ztest(count = count, nobs = ,value = value)\n"
   ]
  },
  {
   "cell_type": "code",
   "execution_count": null,
   "metadata": {},
   "outputs": [],
   "source": []
  }
 ],
 "metadata": {
  "kernelspec": {
   "display_name": "Python 3",
   "language": "python",
   "name": "python3"
  },
  "language_info": {
   "codemirror_mode": {
    "name": "ipython",
    "version": 3
   },
   "file_extension": ".py",
   "mimetype": "text/x-python",
   "name": "python",
   "nbconvert_exporter": "python",
   "pygments_lexer": "ipython3",
   "version": "3.6.5"
  },
  "toc": {
   "nav_menu": {},
   "number_sections": true,
   "sideBar": true,
   "skip_h1_title": false,
   "title_cell": "Table of Contents",
   "title_sidebar": "Contents",
   "toc_cell": false,
   "toc_position": {},
   "toc_section_display": true,
   "toc_window_display": false
  }
 },
 "nbformat": 4,
 "nbformat_minor": 2
}
