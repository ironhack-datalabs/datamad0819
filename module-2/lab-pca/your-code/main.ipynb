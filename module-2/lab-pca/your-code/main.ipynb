{
 "cells": [
  {
   "cell_type": "markdown",
   "metadata": {},
   "source": [
    "# Before your start:\n",
    "- Read the README.md file\n",
    "- Comment as much as you can and use the resources (README.md file)\n",
    "- Happy learning!"
   ]
  },
  {
   "cell_type": "code",
   "execution_count": 1,
   "metadata": {},
   "outputs": [],
   "source": [
    "# Run this code:\n",
    "\n",
    "%matplotlib inline\n",
    "\n",
    "import matplotlib.pyplot as plt"
   ]
  },
  {
   "cell_type": "code",
   "execution_count": 2,
   "metadata": {},
   "outputs": [],
   "source": [
    "# Import numpy and pandas:\n",
    "import numpy as np\n",
    "import pandas as pd\n"
   ]
  },
  {
   "cell_type": "markdown",
   "metadata": {},
   "source": [
    "# Challenge 1 - Reading and Standardizing the Data\n",
    "\n",
    "In this challenge we will work with image data and reduce the dimensions of the data to create a 2 dimensional plot. While we have not worked much with image data before, it can be represented as a numpy array where each pixel is assigned a numeric value. In this lesson, we will look at a dataset of cats and a dataset of dogs and see whether reducing them to two dimensions allows us to see if the data is separable. We will start by loading and processing the data. Run the cell below to load the two csv files and convert them into numpy arrays."
   ]
  },
  {
   "cell_type": "code",
   "execution_count": 3,
   "metadata": {},
   "outputs": [],
   "source": [
    "# Run this code\n",
    "\n",
    "cats = np.array(pd.read_csv(\"https://raw.githubusercontent.com/bioramble/pca/master/cat.csv\", header=None))\n",
    "dogs = np.array(pd.read_csv(\"https://raw.githubusercontent.com/bioramble/pca/master/dog.csv\", header=None))"
   ]
  },
  {
   "cell_type": "markdown",
   "metadata": {},
   "source": [
    "Next, we'll examine the shape of both the cats and the dogs arrays. Print out both shapes below."
   ]
  },
  {
   "cell_type": "code",
   "execution_count": 4,
   "metadata": {},
   "outputs": [
    {
     "name": "stdout",
     "output_type": "stream",
     "text": [
      "Cats: (4096, 80)\n",
      "Dogs: (4096, 80)\n"
     ]
    }
   ],
   "source": [
    "# Your code here:\n",
    "\n",
    "print(\"Cats:\",cats.shape)\n",
    "print(\"Dogs:\",dogs.shape)\n"
   ]
  },
  {
   "cell_type": "markdown",
   "metadata": {},
   "source": [
    "What this means is that both arrays contain 80 images each (the number of columns). Each image is comprised of 64x64 pixels (so a total of 4096 pixels per image). The images have been flattened such that all 4096 are in a single row.\n",
    "\n",
    "Print out column 0 of the cats array to see what the pixels values look like."
   ]
  },
  {
   "cell_type": "code",
   "execution_count": 5,
   "metadata": {},
   "outputs": [
    {
     "name": "stdout",
     "output_type": "stream",
     "text": [
      "[64 64 64 ... 64 64 61]\n"
     ]
    }
   ],
   "source": [
    "# Your code here:\n",
    "print(cats[:,0])\n",
    "\n"
   ]
  },
  {
   "cell_type": "markdown",
   "metadata": {},
   "source": [
    "Using `matplotlib` we can plot a single cat or a single dog. We do this by reshaping the vector back to a 64x64 image and then using the `imshow` function.\n",
    "\n",
    "Run the code below to look at the first dog and the first cat."
   ]
  },
  {
   "cell_type": "code",
   "execution_count": 6,
   "metadata": {},
   "outputs": [
    {
     "data": {
      "text/plain": [
       "<matplotlib.image.AxesImage at 0x11ae0bb10>"
      ]
     },
     "execution_count": 6,
     "metadata": {},
     "output_type": "execute_result"
    },
    {
     "data": {
      "image/png": "[encoded data removed]",
      "text/plain": [
       "<Figure size 432x288 with 1 Axes>"
      ]
     },
     "metadata": {
      "needs_background": "light"
     },
     "output_type": "display_data"
    }
   ],
   "source": [
    "# Run this code:\n",
    "\n",
    "fig, ax = plt.subplots()\n",
    "ax.imshow(cats[:,0].reshape(64, 64).T, cmap=plt.cm.bone, interpolation='nearest') "
   ]
  },
  {
   "cell_type": "code",
   "execution_count": 7,
   "metadata": {},
   "outputs": [
    {
     "data": {
      "text/plain": [
       "<matplotlib.image.AxesImage at 0x11ae7dad0>"
      ]
     },
     "execution_count": 7,
     "metadata": {},
     "output_type": "execute_result"
    },
    {
     "data": {
      "image/png": "[encoded data removed]",
      "text/plain": [
       "<Figure size 432x288 with 1 Axes>"
      ]
     },
     "metadata": {
      "needs_background": "light"
     },
     "output_type": "display_data"
    }
   ],
   "source": [
    "# Run this code:\n",
    "\n",
    "fig, ax = plt.subplots()\n",
    "ax.imshow(dogs[:,0].reshape(64, 64).T, cmap=plt.cm.bone, interpolation='nearest') "
   ]
  },
  {
   "cell_type": "markdown",
   "metadata": {},
   "source": [
    "Next, we would like to create a standardization function. This function will find the mean and standard deviation of each image. We subtract the mean from each pixel and divide each pixel by the standard deviation. Write the function below.\n",
    "\n",
    "Hint: To find the mean and standard deviation of each image, use `numpy`'s version of mean and stadnard deviation and use `axis=0`."
   ]
  },
  {
   "cell_type": "code",
   "execution_count": 38,
   "metadata": {},
   "outputs": [],
   "source": [
    "# Con liberia\n",
    "#from mlxtend.preprocessing import standardize\n",
    "\n",
    "def standardize(x):\n",
    "    #This function takes as input a numpy array and returns a stadardized numpy array of the same dimensions.\n",
    "    #Sample input: np.array([[1,2,3],[4,5,6]])\n",
    "    #Sample output: np.array([[-1,-1,-1],[1,1,1]])\n",
    "    \n",
    "    return (x - np.mean(x, axis=0)) / np.std(x, axis=0)\n",
    "        \n",
    "\n"
   ]
  },
  {
   "cell_type": "markdown",
   "metadata": {},
   "source": [
    "Now, use the `np.concatenate` function to combine the cats and dogs arrays. Use `axis=1` to combine the two correctly. Make sure to put dogs first."
   ]
  },
  {
   "cell_type": "code",
   "execution_count": 39,
   "metadata": {
    "scrolled": true
   },
   "outputs": [
    {
     "data": {
      "text/plain": [
       "array([[224, 131, 127, ...,  60, 223, 101],\n",
       "       [224, 124, 136, ...,  50, 224, 107],\n",
       "       [224, 104, 127, ...,  63, 225, 106],\n",
       "       ...,\n",
       "       [100, 104, 115, ..., 105, 180, 114],\n",
       "       [100, 124, 104, ..., 118, 182,  91],\n",
       "       [100, 124, 104, ..., 104, 177, 113]])"
      ]
     },
     "metadata": {},
     "output_type": "display_data"
    },
    {
     "data": {
      "text/plain": [
       "(4096, 80)"
      ]
     },
     "metadata": {},
     "output_type": "display_data"
    }
   ],
   "source": [
    "# Your code here:\n",
    "\n",
    "cats_dogs = np.concatenate((dogs, cats), axis = 1)\n",
    "\n",
    "display(cats_dogs)\n",
    "display(cats.shape)"
   ]
  },
  {
   "cell_type": "markdown",
   "metadata": {},
   "source": [
    "Standardize the concatenated array below."
   ]
  },
  {
   "cell_type": "code",
   "execution_count": 45,
   "metadata": {},
   "outputs": [
    {
     "name": "stdout",
     "output_type": "stream",
     "text": [
      "[[ 2  0  0 ... -1  1  0]\n",
      " [ 2  0  1 ... -2  1  0]\n",
      " [ 2  0  0 ... -1  1  0]\n",
      " ...\n",
      " [ 0  0  0 ...  0  0  0]\n",
      " [ 0  0  0 ...  0  0  0]\n",
      " [ 0  0  0 ...  0  0  0]]\n"
     ]
    }
   ],
   "source": [
    "# Your code here:\n",
    "data = standardize1(cats_dogs)\n",
    "print(data)"
   ]
  },
  {
   "cell_type": "markdown",
   "metadata": {},
   "source": [
    "# Challenge 2 - Using PCA\n",
    "\n",
    "Now that we have created a standardized matrix of cats and dogs, we'll find the two most important components in the data.\n",
    "\n",
    "Load the `PCA` function from `statsmodels` (read about this function [here](https://www.statsmodels.org/dev/generated/statsmodels.multivariate.pca.PCA.html)) and apply the function to our standarized data. Create a PCA model with two components."
   ]
  },
  {
   "cell_type": "code",
   "execution_count": 60,
   "metadata": {
    "scrolled": true
   },
   "outputs": [
    {
     "data": {
      "text/plain": [
       "array([[-0.03104758,  0.04003081],\n",
       "       [-0.03163726,  0.0422877 ],\n",
       "       [-0.03031652,  0.03937436],\n",
       "       ...,\n",
       "       [-0.00170168,  0.01049248],\n",
       "       [-0.0033082 ,  0.00976792],\n",
       "       [-0.00346476,  0.00957918]])"
      ]
     },
     "execution_count": 60,
     "metadata": {},
     "output_type": "execute_result"
    }
   ],
   "source": [
    "# Your code here:\n",
    "from statsmodels.multivariate.pca import PCA\n",
    "pc = PCA(data, ncomp=2)\n",
    "#\n",
    "pc.factors"
   ]
  },
  {
   "cell_type": "markdown",
   "metadata": {},
   "source": [
    "Use `numpy` to find to transpose the standardized pet array. This will help us compute the projection."
   ]
  },
  {
   "cell_type": "code",
   "execution_count": 62,
   "metadata": {},
   "outputs": [
    {
     "data": {
      "text/plain": [
       "array([[ 2,  2,  2, ...,  0,  0,  0],\n",
       "       [ 0,  0,  0, ...,  0,  0,  0],\n",
       "       [ 0,  1,  0, ...,  0,  0,  0],\n",
       "       ...,\n",
       "       [-1, -2, -1, ...,  0,  0,  0],\n",
       "       [ 1,  1,  1, ...,  0,  0,  0],\n",
       "       [ 0,  0,  0, ...,  0,  0,  0]])"
      ]
     },
     "execution_count": 62,
     "metadata": {},
     "output_type": "execute_result"
    }
   ],
   "source": [
    "# Your code here:\n",
    "\n",
    "dataT = data.T\n",
    "dataT\n"
   ]
  },
  {
   "cell_type": "markdown",
   "metadata": {},
   "source": [
    "Find the dot product of the transposed standardized pet matrix and the `factors` of the `PCA` model found above. This will be the projection onto 2 dimensions. This means that each cat and dog image will now only have two columns instead of 4096."
   ]
  },
  {
   "cell_type": "code",
   "execution_count": 64,
   "metadata": {},
   "outputs": [
    {
     "data": {
      "text/plain": [
       "array([[-2.81538559e+01,  1.48225792e+01],\n",
       "       [-2.40489875e+01, -1.20831809e+01],\n",
       "       [ 6.83001390e+00, -8.34706740e+00],\n",
       "       [-5.70212419e+00, -2.04092148e+01],\n",
       "       [-1.62839013e+01, -2.70973325e+00],\n",
       "       [ 3.48868621e+00, -2.98885923e+01],\n",
       "       [-1.09708341e+01, -6.19323131e+00],\n",
       "       [-1.20126149e+01, -2.16988238e+01],\n",
       "       [-1.02312386e+01, -2.40014436e+01],\n",
       "       [-2.12662280e+01,  4.59099107e+00],\n",
       "       [ 1.06185058e+00, -2.11911939e+01],\n",
       "       [-1.35919587e+01, -1.41511162e+01],\n",
       "       [-3.98377630e+00, -6.44499792e+00],\n",
       "       [ 5.01599730e-01, -6.52901387e+00],\n",
       "       [-1.14612840e+01, -1.68532877e+01],\n",
       "       [-1.49480055e+01, -2.17636208e+01],\n",
       "       [-9.63564748e+00, -8.65702257e-01],\n",
       "       [-2.63188463e+01, -1.25245657e+01],\n",
       "       [-1.27548240e+01, -1.54908604e+01],\n",
       "       [-1.25076834e+01, -2.60672956e+01],\n",
       "       [ 5.65803237e+00, -2.75797309e+01],\n",
       "       [-2.40946595e+00, -2.51431820e+01],\n",
       "       [-3.44450339e+00, -4.60554572e+00],\n",
       "       [-1.08593119e+01, -2.66306838e+01],\n",
       "       [-2.04073208e+01, -1.89743238e+01],\n",
       "       [-3.09453985e-01, -2.05109867e+01],\n",
       "       [ 9.82599229e-01, -9.55983196e+00],\n",
       "       [ 9.65650335e-01, -1.29677248e+01],\n",
       "       [-6.39262277e+00, -3.04807609e+01],\n",
       "       [-7.01475570e+00, -1.37977020e+01],\n",
       "       [-3.85436167e+00, -1.78944665e+01],\n",
       "       [-5.99250352e+00, -1.59343781e+01],\n",
       "       [-2.19964525e+01, -1.66191466e+01],\n",
       "       [-1.31626601e+01, -2.26864428e+01],\n",
       "       [ 4.08931266e+00, -2.32478527e+01],\n",
       "       [-1.04470245e+01, -5.39266372e+00],\n",
       "       [ 9.82692418e+00, -2.54660367e+01],\n",
       "       [ 5.83671042e-01, -1.66315895e+01],\n",
       "       [ 3.06766729e+00, -2.52467237e+01],\n",
       "       [-2.00217105e+01, -9.16151177e+00],\n",
       "       [-1.24444283e+01, -2.20282644e+01],\n",
       "       [-3.25974657e+00,  1.04390610e+01],\n",
       "       [ 5.34184051e+00, -2.24236305e+01],\n",
       "       [-1.37474889e+01, -1.66869555e+01],\n",
       "       [ 3.30042426e+00, -1.10708393e+01],\n",
       "       [-1.49396994e+01,  1.32478229e+01],\n",
       "       [-1.10213643e+01, -3.14689891e+00],\n",
       "       [ 4.10462857e-01, -6.34575457e+00],\n",
       "       [-7.11956297e+00,  5.03113830e+00],\n",
       "       [ 1.15770351e+01, -1.74302881e+01],\n",
       "       [-1.82047546e+01,  5.07727630e+00],\n",
       "       [-2.71356645e+01,  1.87885386e+01],\n",
       "       [ 2.64538298e+00,  3.47094623e+00],\n",
       "       [ 1.17813046e+01, -2.54854997e+01],\n",
       "       [ 1.13123619e+01, -2.95819911e+00],\n",
       "       [ 9.77363213e+00, -8.39826375e+00],\n",
       "       [-1.35890334e+01,  4.88432059e+00],\n",
       "       [-9.04100185e+00,  6.40883022e+00],\n",
       "       [ 1.11622012e+01, -1.67863420e+01],\n",
       "       [ 2.34461015e+00, -1.47194362e+01],\n",
       "       [-6.99400784e+00, -2.51051167e+01],\n",
       "       [-1.91220494e+01,  1.30263551e+01],\n",
       "       [-2.35928473e+01,  1.57346610e+00],\n",
       "       [ 1.18596007e+01,  9.84543331e-01],\n",
       "       [ 2.24990228e+00, -9.34731678e+00],\n",
       "       [-2.01495327e+01, -3.08845174e+00],\n",
       "       [-2.69682463e+00,  1.16356363e+01],\n",
       "       [ 2.16736868e+01, -8.84045418e+00],\n",
       "       [ 1.32392439e+00, -3.12143620e+00],\n",
       "       [-1.03130637e+01, -1.61386405e+01],\n",
       "       [ 2.45941509e+00, -5.81395402e+00],\n",
       "       [-3.93414414e+00, -1.48383443e+01],\n",
       "       [-1.68433967e+01, -1.43620155e+01],\n",
       "       [ 9.59507860e+00, -1.83812968e+01],\n",
       "       [-4.36239753e+00,  1.04329714e+01],\n",
       "       [-2.60362847e+01,  1.08072533e+01],\n",
       "       [-1.78334098e+01, -1.36410026e+00],\n",
       "       [ 4.91015253e+00, -2.19002900e+01],\n",
       "       [ 2.76255819e+00, -2.40266838e+01],\n",
       "       [-2.86024457e+01, -1.41470916e-01],\n",
       "       [ 1.48316909e+01,  9.97835989e-01],\n",
       "       [ 2.82993136e+01,  2.19596439e+00],\n",
       "       [-2.00077415e+01,  4.95138608e-01],\n",
       "       [-2.28072018e+01, -1.49769842e+00],\n",
       "       [ 1.78970516e+01,  5.61692793e+00],\n",
       "       [ 1.36289381e+01,  1.54511063e+01],\n",
       "       [ 2.87192949e+01, -3.72619992e+00],\n",
       "       [ 7.95881243e+00,  8.43835495e+00],\n",
       "       [ 2.59805518e+01,  3.50960602e+00],\n",
       "       [ 1.12749404e+01,  9.07297316e+00],\n",
       "       [-3.07124421e+00,  2.36350305e+00],\n",
       "       [ 4.59609005e-01,  1.49340527e+00],\n",
       "       [ 3.28369777e+01,  3.68152334e+00],\n",
       "       [ 2.04538090e+01,  5.82571523e+00],\n",
       "       [-1.55343382e+01,  6.81278349e+00],\n",
       "       [ 1.85132002e+01,  8.42395758e+00],\n",
       "       [-1.74400207e+01,  5.39283745e+00],\n",
       "       [ 2.27515194e+01,  8.01051509e+00],\n",
       "       [-2.93238953e+01, -2.85879601e+00],\n",
       "       [ 3.14104884e+01,  2.71375911e+00],\n",
       "       [ 6.86238759e+00,  5.60219703e+00],\n",
       "       [ 2.19139341e+01, -1.05337572e+00],\n",
       "       [ 2.16562446e+01, -4.97271322e+00],\n",
       "       [ 2.27114604e+01, -2.10133839e+01],\n",
       "       [-3.32218078e+01,  6.24057018e+00],\n",
       "       [ 2.14935885e+00, -1.03775203e+01],\n",
       "       [ 1.71096985e+01,  9.08692478e+00],\n",
       "       [ 1.98116287e+01, -1.20363899e+01],\n",
       "       [-1.28497797e+01,  5.21187941e-01],\n",
       "       [ 9.26357769e+00,  6.52698492e+00],\n",
       "       [ 3.45090102e-01,  1.04053127e+01],\n",
       "       [-3.56120003e+00,  6.36308166e+00],\n",
       "       [ 1.46943467e+01,  1.80162660e+01],\n",
       "       [-2.09406986e+01,  4.33197549e+00],\n",
       "       [ 3.57829043e+01, -8.31424684e-01],\n",
       "       [ 4.66250747e+00, -1.57392030e+00],\n",
       "       [-3.29028022e+01, -5.29509563e+00],\n",
       "       [ 2.65535814e+01,  8.25164203e-02],\n",
       "       [ 1.44205012e+01, -7.91553866e+00],\n",
       "       [ 5.71396800e+00,  3.42611606e+00],\n",
       "       [ 3.46682181e+00,  4.78849319e+00],\n",
       "       [ 1.43222010e+01,  2.29548558e+00],\n",
       "       [ 2.34977552e+01, -6.13075530e+00],\n",
       "       [ 1.15022559e+01, -1.42855243e+01],\n",
       "       [ 2.21335091e+01, -9.68727355e+00],\n",
       "       [-1.99251519e+01,  5.84930557e+00],\n",
       "       [-2.23873418e+01, -2.90008308e+00],\n",
       "       [-1.87850138e+01,  3.57494718e+00],\n",
       "       [ 2.76185981e+01, -7.94009565e+00],\n",
       "       [ 4.49908025e+00,  1.78480280e+00],\n",
       "       [ 1.26084757e+01,  1.00010942e+00],\n",
       "       [ 1.08963438e+01, -8.57097769e+00],\n",
       "       [ 2.94290546e+01,  6.17334788e+00],\n",
       "       [ 2.16149220e+01,  5.66908259e+00],\n",
       "       [-1.42959177e+01,  9.91856092e+00],\n",
       "       [ 2.05094250e+01,  7.22393897e+00],\n",
       "       [ 1.85516047e+01,  1.44169407e+01],\n",
       "       [ 9.60650689e+00, -5.24126470e+00],\n",
       "       [-2.15850225e+01,  1.88987151e+01],\n",
       "       [ 1.34445765e+01, -1.88956090e+01],\n",
       "       [ 2.31484376e+00,  7.87657591e-02],\n",
       "       [ 7.07744081e+00,  1.08692974e+01],\n",
       "       [ 2.86350645e+01,  8.25992819e+00],\n",
       "       [ 2.29927340e+01, -9.97735997e+00],\n",
       "       [-1.07903978e+01,  1.43098134e+00],\n",
       "       [ 1.41436199e+00,  1.08432215e+01],\n",
       "       [-3.52659070e+01,  4.09926853e+00],\n",
       "       [ 7.07161831e+00,  1.35035391e+00],\n",
       "       [-1.57571600e+01,  1.26946501e+00],\n",
       "       [-1.69768007e+01, -3.48614622e+00],\n",
       "       [-1.23162293e+01,  4.58711332e+00],\n",
       "       [ 2.24703853e+01, -5.02457647e+00],\n",
       "       [ 5.50085123e+00,  1.24265213e+01],\n",
       "       [ 7.76772795e-03, -5.58519370e-01],\n",
       "       [-9.18114151e+00, -1.30838277e+00],\n",
       "       [ 1.32413484e+01, -1.06573714e+01],\n",
       "       [ 1.51901217e+01, -1.66621044e+01],\n",
       "       [ 2.83716915e+01, -6.98769472e+00],\n",
       "       [-1.33880487e+01, -5.24339710e+00],\n",
       "       [ 2.76064411e+00,  7.23027030e+00]])"
      ]
     },
     "execution_count": 64,
     "metadata": {},
     "output_type": "execute_result"
    }
   ],
   "source": [
    "# Your code here:\n",
    "data_prod=np.dot(dataT,pc.factors)\n",
    "data_prod"
   ]
  },
  {
   "cell_type": "markdown",
   "metadata": {},
   "source": [
    "# Challenge 3 - Plotting the Data\n",
    "\n",
    "Now that we have reduced our cats and dogs arrays, we can easily plot the data in a way that the human eye can understand. We can look at this plot to see whether there are differences between the cat and dog images. \n",
    "\n",
    "In the cell below, turn the two dimensional projection into a pandas dataframe and name the columns `pc1`, and `pc2` respectively."
   ]
  },
  {
   "cell_type": "code",
   "execution_count": 68,
   "metadata": {},
   "outputs": [
    {
     "data": {
      "text/html": [
       "<div>\n",
       "<style scoped>\n",
       "    .dataframe tbody tr th:only-of-type {\n",
       "        vertical-align: middle;\n",
       "    }\n",
       "\n",
       "    .dataframe tbody tr th {\n",
       "        vertical-align: top;\n",
       "    }\n",
       "\n",
       "    .dataframe thead th {\n",
       "        text-align: right;\n",
       "    }\n",
       "</style>\n",
       "<table border=\"1\" class=\"dataframe\">\n",
       "  <thead>\n",
       "    <tr style=\"text-align: right;\">\n",
       "      <th></th>\n",
       "      <th>pc1</th>\n",
       "      <th>pc2</th>\n",
       "    </tr>\n",
       "  </thead>\n",
       "  <tbody>\n",
       "    <tr>\n",
       "      <th>0</th>\n",
       "      <td>-28.153856</td>\n",
       "      <td>14.822579</td>\n",
       "    </tr>\n",
       "    <tr>\n",
       "      <th>1</th>\n",
       "      <td>-24.048988</td>\n",
       "      <td>-12.083181</td>\n",
       "    </tr>\n",
       "    <tr>\n",
       "      <th>2</th>\n",
       "      <td>6.830014</td>\n",
       "      <td>-8.347067</td>\n",
       "    </tr>\n",
       "    <tr>\n",
       "      <th>3</th>\n",
       "      <td>-5.702124</td>\n",
       "      <td>-20.409215</td>\n",
       "    </tr>\n",
       "    <tr>\n",
       "      <th>4</th>\n",
       "      <td>-16.283901</td>\n",
       "      <td>-2.709733</td>\n",
       "    </tr>\n",
       "  </tbody>\n",
       "</table>\n",
       "</div>"
      ],
      "text/plain": [
       "         pc1        pc2\n",
       "0 -28.153856  14.822579\n",
       "1 -24.048988 -12.083181\n",
       "2   6.830014  -8.347067\n",
       "3  -5.702124 -20.409215\n",
       "4 -16.283901  -2.709733"
      ]
     },
     "metadata": {},
     "output_type": "display_data"
    },
    {
     "data": {
      "text/plain": [
       "(160, 2)"
      ]
     },
     "metadata": {},
     "output_type": "display_data"
    }
   ],
   "source": [
    "# Your code here:\n",
    "\n",
    "dataset = pd.DataFrame(data_prod,columns=[\"pc1\",\"pc2\"])\n",
    "\n",
    "display(dataset.head())\n",
    "display(dataset.shape)"
   ]
  },
  {
   "cell_type": "markdown",
   "metadata": {},
   "source": [
    "Create a labels list. This list will be of size 160. The first 80 elements in the list will be the word `blue`, and the last 80 elements will be `red`. This will ensure that all dog observations will be colored in blue and all cats will be colored in red. Name this list `colors`."
   ]
  },
  {
   "cell_type": "code",
   "execution_count": 72,
   "metadata": {},
   "outputs": [
    {
     "name": "stdout",
     "output_type": "stream",
     "text": [
      "['blue', 'blue', 'blue', 'blue', 'blue', 'blue', 'blue', 'blue', 'blue', 'blue', 'blue', 'blue', 'blue', 'blue', 'blue', 'blue', 'blue', 'blue', 'blue', 'blue', 'blue', 'blue', 'blue', 'blue', 'blue', 'blue', 'blue', 'blue', 'blue', 'blue', 'blue', 'blue', 'blue', 'blue', 'blue', 'blue', 'blue', 'blue', 'blue', 'blue', 'blue', 'blue', 'blue', 'blue', 'blue', 'blue', 'blue', 'blue', 'blue', 'blue', 'blue', 'blue', 'blue', 'blue', 'blue', 'blue', 'blue', 'blue', 'blue', 'blue', 'blue', 'blue', 'blue', 'blue', 'blue', 'blue', 'blue', 'blue', 'blue', 'blue', 'blue', 'blue', 'blue', 'blue', 'blue', 'blue', 'blue', 'blue', 'blue', 'blue', 'red', 'red', 'red', 'red', 'red', 'red', 'red', 'red', 'red', 'red', 'red', 'red', 'red', 'red', 'red', 'red', 'red', 'red', 'red', 'red', 'red', 'red', 'red', 'red', 'red', 'red', 'red', 'red', 'red', 'red', 'red', 'red', 'red', 'red', 'red', 'red', 'red', 'red', 'red', 'red', 'red', 'red', 'red', 'red', 'red', 'red', 'red', 'red', 'red', 'red', 'red', 'red', 'red', 'red', 'red', 'red', 'red', 'red', 'red', 'red', 'red', 'red', 'red', 'red', 'red', 'red', 'red', 'red', 'red', 'red', 'red', 'red', 'red', 'red', 'red', 'red', 'red', 'red', 'red', 'red']\n"
     ]
    }
   ],
   "source": [
    "# Your code here:\n",
    "red = [\"red\"]*80\n",
    "blue = [\"blue\"]*80\n",
    "colors = blue + red\n",
    "\n",
    "print(colors)"
   ]
  },
  {
   "cell_type": "markdown",
   "metadata": {},
   "source": [
    "Create a scatter plot of `pc1` and `pc2` below. Use the `colors` list above to color the observations by setting `c=colors`."
   ]
  },
  {
   "cell_type": "code",
   "execution_count": 74,
   "metadata": {},
   "outputs": [
    {
     "data": {
      "text/plain": [
       "<matplotlib.collections.PathCollection at 0x12ffdef90>"
      ]
     },
     "execution_count": 74,
     "metadata": {},
     "output_type": "execute_result"
    },
    {
     "data": {
      "image/png": "[encoded data removed]",
      "text/plain": [
       "<Figure size 432x288 with 1 Axes>"
      ]
     },
     "metadata": {
      "needs_background": "light"
     },
     "output_type": "display_data"
    }
   ],
   "source": [
    "# Your code here:\n",
    "\n",
    "plt.scatter(dataset.pc1,dataset.pc2,c=colors)\n"
   ]
  },
  {
   "cell_type": "markdown",
   "metadata": {},
   "source": [
    "Do you see a clear separation between cats and dogs? Write your answer below."
   ]
  },
  {
   "cell_type": "code",
   "execution_count": 75,
   "metadata": {},
   "outputs": [
    {
     "name": "stdout",
     "output_type": "stream",
     "text": [
      "La separación no es muy efectiva, igual con mas feactur si que se puede separar más.\n"
     ]
    }
   ],
   "source": [
    "# Your conclusions here:\n",
    "print(\"La separación no es muy efectiva, igual con mas feactur si que se puede separar más.\")\n"
   ]
  },
  {
   "cell_type": "code",
   "execution_count": null,
   "metadata": {},
   "outputs": [],
   "source": []
  }
 ],
 "metadata": {
  "kernelspec": {
   "display_name": "Python 3",
   "language": "python",
   "name": "python3"
  },
  "language_info": {
   "codemirror_mode": {
    "name": "ipython",
    "version": 3
   },
   "file_extension": ".py",
   "mimetype": "text/x-python",
   "name": "python",
   "nbconvert_exporter": "python",
   "pygments_lexer": "ipython3",
   "version": "3.7.4"
  }
 },
 "nbformat": 4,
 "nbformat_minor": 2
}
