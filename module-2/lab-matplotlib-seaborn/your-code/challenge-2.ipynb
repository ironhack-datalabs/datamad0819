{
 "cells": [
  {
   "cell_type": "markdown",
   "metadata": {},
   "source": [
    "# Challenge 2"
   ]
  },
  {
   "cell_type": "markdown",
   "metadata": {},
   "source": [
    "In this lab you will partner with another student to conduct **[pair programming](https://en.wikipedia.org/wiki/Pair_programming)**. In the next 60 minutes there will be 2 coding sessions of 30 minutes each. In each sessoin, one student will be the **driver** to write the code to solve the problem while the other student will be the **observer** to watch and review. There will be several iterations of your code because the observer will help the driver review the codes and make improvements until the 15 minute session ends. After the coding session ends, the driver and observer will switch roles."
   ]
  },
  {
   "cell_type": "markdown",
   "metadata": {},
   "source": [
    "#### Import all the libraries that are necessary"
   ]
  },
  {
   "cell_type": "code",
   "execution_count": 1,
   "metadata": {},
   "outputs": [],
   "source": [
    "# import libraries here\n",
    "import pandas as pd\n",
    "import numpy as np\n",
    "import matplotlib.pyplot as plt\n",
    "import seaborn as sns\n",
    "%matplotlib inline\n"
   ]
  },
  {
   "cell_type": "markdown",
   "metadata": {},
   "source": [
    "## Preparation\n",
    "\n",
    "#### Import the `Fitbit2.csv` file and name your dataset `fitbit`"
   ]
  },
  {
   "cell_type": "code",
   "execution_count": 2,
   "metadata": {},
   "outputs": [
    {
     "data": {
      "text/html": [
       "<div>\n",
       "<style scoped>\n",
       "    .dataframe tbody tr th:only-of-type {\n",
       "        vertical-align: middle;\n",
       "    }\n",
       "\n",
       "    .dataframe tbody tr th {\n",
       "        vertical-align: top;\n",
       "    }\n",
       "\n",
       "    .dataframe thead th {\n",
       "        text-align: right;\n",
       "    }\n",
       "</style>\n",
       "<table border=\"1\" class=\"dataframe\">\n",
       "  <thead>\n",
       "    <tr style=\"text-align: right;\">\n",
       "      <th></th>\n",
       "      <th>Date</th>\n",
       "      <th>Calorie burned</th>\n",
       "      <th>Steps</th>\n",
       "      <th>Distance</th>\n",
       "      <th>Floors</th>\n",
       "      <th>Minutes Sedentary</th>\n",
       "      <th>Minutes Lightly Active</th>\n",
       "      <th>Minutes Fairly Active</th>\n",
       "      <th>Minutes Very Active</th>\n",
       "      <th>Activity Calories</th>\n",
       "      <th>...</th>\n",
       "      <th>Distance_miles</th>\n",
       "      <th>Days</th>\n",
       "      <th>Days_encoded</th>\n",
       "      <th>Work_or_Weekend</th>\n",
       "      <th>Hours Sleep</th>\n",
       "      <th>Sleep efficiency</th>\n",
       "      <th>Yesterday_sleep</th>\n",
       "      <th>Yesterday_sleep_efficiency</th>\n",
       "      <th>Months</th>\n",
       "      <th>Months_encoded</th>\n",
       "    </tr>\n",
       "  </thead>\n",
       "  <tbody>\n",
       "    <tr>\n",
       "      <th>0</th>\n",
       "      <td>2015-05-08</td>\n",
       "      <td>1934</td>\n",
       "      <td>905</td>\n",
       "      <td>0.65</td>\n",
       "      <td>0</td>\n",
       "      <td>1.355</td>\n",
       "      <td>46</td>\n",
       "      <td>0</td>\n",
       "      <td>0</td>\n",
       "      <td>1680</td>\n",
       "      <td>...</td>\n",
       "      <td>0.403891</td>\n",
       "      <td>Friday</td>\n",
       "      <td>4.0</td>\n",
       "      <td>1</td>\n",
       "      <td>6.400000</td>\n",
       "      <td>92.086331</td>\n",
       "      <td>0.000000</td>\n",
       "      <td>0.000000</td>\n",
       "      <td>May</td>\n",
       "      <td>5</td>\n",
       "    </tr>\n",
       "    <tr>\n",
       "      <th>1</th>\n",
       "      <td>2015-05-09</td>\n",
       "      <td>3631</td>\n",
       "      <td>18925</td>\n",
       "      <td>14.11</td>\n",
       "      <td>4</td>\n",
       "      <td>611.000</td>\n",
       "      <td>316</td>\n",
       "      <td>61</td>\n",
       "      <td>60</td>\n",
       "      <td>2248</td>\n",
       "      <td>...</td>\n",
       "      <td>8.767545</td>\n",
       "      <td>Saturday</td>\n",
       "      <td>5.0</td>\n",
       "      <td>0</td>\n",
       "      <td>7.566667</td>\n",
       "      <td>92.464358</td>\n",
       "      <td>6.400000</td>\n",
       "      <td>92.086331</td>\n",
       "      <td>May</td>\n",
       "      <td>5</td>\n",
       "    </tr>\n",
       "    <tr>\n",
       "      <th>2</th>\n",
       "      <td>2015-05-10</td>\n",
       "      <td>3204</td>\n",
       "      <td>14228</td>\n",
       "      <td>10.57</td>\n",
       "      <td>1</td>\n",
       "      <td>602.000</td>\n",
       "      <td>226</td>\n",
       "      <td>14</td>\n",
       "      <td>77</td>\n",
       "      <td>1719</td>\n",
       "      <td>...</td>\n",
       "      <td>6.567891</td>\n",
       "      <td>Sunday</td>\n",
       "      <td>6.0</td>\n",
       "      <td>0</td>\n",
       "      <td>6.450000</td>\n",
       "      <td>88.761468</td>\n",
       "      <td>7.566667</td>\n",
       "      <td>92.464358</td>\n",
       "      <td>May</td>\n",
       "      <td>5</td>\n",
       "    </tr>\n",
       "    <tr>\n",
       "      <th>3</th>\n",
       "      <td>2015-05-11</td>\n",
       "      <td>2673</td>\n",
       "      <td>6756</td>\n",
       "      <td>5.02</td>\n",
       "      <td>8</td>\n",
       "      <td>749.000</td>\n",
       "      <td>190</td>\n",
       "      <td>23</td>\n",
       "      <td>4</td>\n",
       "      <td>9620</td>\n",
       "      <td>...</td>\n",
       "      <td>3.119282</td>\n",
       "      <td>Monday</td>\n",
       "      <td>0.0</td>\n",
       "      <td>1</td>\n",
       "      <td>5.183333</td>\n",
       "      <td>88.857143</td>\n",
       "      <td>6.450000</td>\n",
       "      <td>88.761468</td>\n",
       "      <td>May</td>\n",
       "      <td>5</td>\n",
       "    </tr>\n",
       "    <tr>\n",
       "      <th>4</th>\n",
       "      <td>2015-05-12</td>\n",
       "      <td>2495</td>\n",
       "      <td>502</td>\n",
       "      <td>3.73</td>\n",
       "      <td>1</td>\n",
       "      <td>876.000</td>\n",
       "      <td>171</td>\n",
       "      <td>0</td>\n",
       "      <td>0</td>\n",
       "      <td>7360</td>\n",
       "      <td>...</td>\n",
       "      <td>2.317714</td>\n",
       "      <td>Tuesday</td>\n",
       "      <td>1.0</td>\n",
       "      <td>1</td>\n",
       "      <td>6.783333</td>\n",
       "      <td>82.892057</td>\n",
       "      <td>5.183333</td>\n",
       "      <td>88.857143</td>\n",
       "      <td>May</td>\n",
       "      <td>5</td>\n",
       "    </tr>\n",
       "  </tbody>\n",
       "</table>\n",
       "<p>5 rows × 24 columns</p>\n",
       "</div>"
      ],
      "text/plain": [
       "         Date  Calorie burned  Steps  Distance  Floors  Minutes Sedentary  \\\n",
       "0  2015-05-08            1934    905      0.65       0              1.355   \n",
       "1  2015-05-09            3631  18925     14.11       4            611.000   \n",
       "2  2015-05-10            3204  14228     10.57       1            602.000   \n",
       "3  2015-05-11            2673   6756      5.02       8            749.000   \n",
       "4  2015-05-12            2495    502      3.73       1            876.000   \n",
       "\n",
       "   Minutes Lightly Active  Minutes Fairly Active  Minutes Very Active  \\\n",
       "0                      46                      0                    0   \n",
       "1                     316                     61                   60   \n",
       "2                     226                     14                   77   \n",
       "3                     190                     23                    4   \n",
       "4                     171                      0                    0   \n",
       "\n",
       "   Activity Calories  ...  Distance_miles      Days  Days_encoded  \\\n",
       "0               1680  ...        0.403891    Friday           4.0   \n",
       "1               2248  ...        8.767545  Saturday           5.0   \n",
       "2               1719  ...        6.567891    Sunday           6.0   \n",
       "3               9620  ...        3.119282    Monday           0.0   \n",
       "4               7360  ...        2.317714   Tuesday           1.0   \n",
       "\n",
       "   Work_or_Weekend  Hours Sleep Sleep efficiency  Yesterday_sleep  \\\n",
       "0                1     6.400000        92.086331         0.000000   \n",
       "1                0     7.566667        92.464358         6.400000   \n",
       "2                0     6.450000        88.761468         7.566667   \n",
       "3                1     5.183333        88.857143         6.450000   \n",
       "4                1     6.783333        82.892057         5.183333   \n",
       "\n",
       "   Yesterday_sleep_efficiency  Months  Months_encoded  \n",
       "0                    0.000000     May               5  \n",
       "1                   92.086331     May               5  \n",
       "2                   92.464358     May               5  \n",
       "3                   88.761468     May               5  \n",
       "4                   88.857143     May               5  \n",
       "\n",
       "[5 rows x 24 columns]"
      ]
     },
     "execution_count": 2,
     "metadata": {},
     "output_type": "execute_result"
    }
   ],
   "source": [
    "fitbit=pd.read_csv('Fitbit2.csv')\n",
    "\n",
    "fitbit.head()"
   ]
  },
  {
   "cell_type": "markdown",
   "metadata": {},
   "source": [
    "## Coding Session I - 30 minutes\n",
    "\n",
    "From the Fitbit data, we want to visually understand: \n",
    "\n",
    "1. **How the average number of steps change by month. Use the appropriate visualization to show the median steps by month?**\n",
    "1. **Is Fitbitter more active on weekend or workdays?**\n",
    "\n",
    "##### All plots must be in the same jupyter notebook cell.\n",
    "\n",
    "Hints:\n",
    "\n",
    "- Use `Months_encoded` and `Week_or Weekend` columns\n",
    "- Use `matplolib.pyplot` object oriented API\n",
    "- Set your size figure to `12,4`\n",
    "- Explore `plt.sca`\n",
    "- Explore `plt.xticks`\n",
    "- Save your figures"
   ]
  },
  {
   "cell_type": "code",
   "execution_count": 56,
   "metadata": {},
   "outputs": [
    {
     "data": {
      "text/plain": [
       "([<matplotlib.axis.XTick at 0x1e40d8bc780>,\n",
       "  <matplotlib.axis.XTick at 0x1e40d8bc0b8>],\n",
       " <a list of 2 Text xticklabel objects>)"
      ]
     },
     "execution_count": 56,
     "metadata": {},
     "output_type": "execute_result"
    },
    {
     "data": {
      "image/png": "[encoded data removed]",
      "text/plain": [
       "<Figure size 864x288 with 2 Axes>"
      ]
     },
     "metadata": {
      "needs_background": "light"
     },
     "output_type": "display_data"
    }
   ],
   "source": [
    "x = fitbit['Steps'].groupby(fitbit['Months_encoded']).mean()\n",
    "y = fitbit['Steps'].groupby(fitbit['Work_or_Weekend']).mean().sort_values()\n",
    "\n",
    "\n",
    "\n",
    "fig, axes = plt.subplots(1,2,figsize=(12,4))\n",
    "plt.sca(axes[0])\n",
    "x.plot()\n",
    "plt.xticks(list(range(13)),['Jan','Feb','Mar','Apr','May','Jun','Jul','Aug','Sep','Oct','Nov','Dec'])\n",
    "\n",
    "\n",
    "plt.sca(axes[1])\n",
    "y.plot(kind = \"bar\")\n",
    "plt.xticks(list(range(2)),['Week', 'Weeken'])"
   ]
  },
  {
   "cell_type": "code",
   "execution_count": 50,
   "metadata": {},
   "outputs": [
    {
     "data": {
      "text/plain": [
       "January      31\n",
       "March        31\n",
       "December     31\n",
       "May          31\n",
       "October      31\n",
       "July         31\n",
       "August       31\n",
       "April        30\n",
       "November     30\n",
       "February     30\n",
       "September    30\n",
       "June         30\n",
       "Name: Months, dtype: int64"
      ]
     },
     "execution_count": 50,
     "metadata": {},
     "output_type": "execute_result"
    }
   ],
   "source": [
    "fitbit['Months'].value_counts()"
   ]
  },
  {
   "cell_type": "markdown",
   "metadata": {},
   "source": [
    "## Coding Session II - 30 minutes\n",
    "\n",
    "**Write a loop to plot 3 scatter plots of the following features:**\n",
    "\n",
    "1. **`Minutes Lightly Active`  vs `Steps`**\n",
    "1. **`Minutes Very Active` vs `Steps`**\n",
    "1. **`Minutes Sedentary` vs `Steps`**"
   ]
  },
  {
   "cell_type": "code",
   "execution_count": 57,
   "metadata": {},
   "outputs": [],
   "source": [
    "# Driver 2 enter codes here\n",
    "x = fitbit['Steps']\n",
    "t = fitbit['Minutes Lightly Active']\n",
    "y = fitbit['Minutes Very Active']\n",
    "u = fitbit['Minutes Sedentary']\n",
    "\n"
   ]
  }
 ],
 "metadata": {
  "kernelspec": {
   "display_name": "Python 3",
   "language": "python",
   "name": "python3"
  },
  "language_info": {
   "codemirror_mode": {
    "name": "ipython",
    "version": 3
   },
   "file_extension": ".py",
   "mimetype": "text/x-python",
   "name": "python",
   "nbconvert_exporter": "python",
   "pygments_lexer": "ipython3",
   "version": "3.7.3"
  }
 },
 "nbformat": 4,
 "nbformat_minor": 2
}
