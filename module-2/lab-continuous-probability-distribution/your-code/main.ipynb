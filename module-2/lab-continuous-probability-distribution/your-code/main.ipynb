{
 "cells": [
  {
   "cell_type": "markdown",
   "metadata": {},
   "source": [
    "# Before your start:\n",
    "\n",
    "    Read the README.md file\n",
    "    Comment as much as you can and use the resources (README.md file)\n",
    "    Happy learning!"
   ]
  },
  {
   "cell_type": "markdown",
   "metadata": {},
   "source": [
    "In this exercise, we  will generate random numbers from the continuous disributions we learned in the lesson. There are two ways to generate random numbers:\n",
    "\n",
    "1. Using the numpy library \n",
    "1. using the Scipy library \n",
    "\n",
    "Use either or both of the lbraries in this exercise."
   ]
  },
  {
   "cell_type": "markdown",
   "metadata": {},
   "source": [
    "## Uniform Distribution\n",
    "\n",
    "To generate uniform random numbers between any two given values using scipy, we can either use the following code or the code that we have\n",
    "discussed in class:"
   ]
  },
  {
   "cell_type": "code",
   "execution_count": 3,
   "metadata": {},
   "outputs": [
    {
     "name": "stdout",
     "output_type": "stream",
     "text": [
      "[2.8509329  2.19118661 2.74651025 2.37777121 2.53955227 2.14674471\n",
      " 2.36529888 2.50767833 2.4890095  2.01432725]\n"
     ]
    }
   ],
   "source": [
    "from scipy.stats import uniform\n",
    "x = uniform.rvs(size=10)\n",
    "a = 2\n",
    "b = 3\n",
    "randoms  = a + (b-a)*x\n",
    "print(randoms)"
   ]
  },
  {
   "cell_type": "markdown",
   "metadata": {},
   "source": [
    "**Your task:**\n",
    "\n",
    "1. Based on the code above, write a function that generates uniformly distributed random numbers. There are several requirements for your function:\n",
    "    * It should accept 3 parameters: \n",
    "        * `bottom` - the lower boundary of the generated numbers\n",
    "        * `ceiling` - the upper boundary of the generated numbers\n",
    "        * `count` - how many numbers to generate\n",
    "    * It should return an array of uniformly distributed random numbers\n",
    "\n",
    "1. Call your function with 2 sets of params below:\n",
    "    * bottom=10, ceiling=15, count=100\n",
    "    * bottom=10, ceiling=60, count=1,000\n",
    "\n",
    "1. Plot the uniform distributions generated above using histograms, where x axis is the value and y axis is the count. Let the histogram's number of bins be 10.\n",
    "\n",
    "Your output should look like below:\n",
    "\n",
    "![uniform distribution](ud.png)"
   ]
  },
  {
   "cell_type": "code",
   "execution_count": 4,
   "metadata": {},
   "outputs": [
    {
     "data": {
      "text/plain": [
       "Text(0, 0.5, 'Number of samples in each interval')"
      ]
     },
     "execution_count": 4,
     "metadata": {},
     "output_type": "execute_result"
    },
    {
     "data": {
      "image/png": "[encoded data removed]",
      "text/plain": [
       "<Figure size 720x288 with 2 Axes>"
      ]
     },
     "metadata": {
      "needs_background": "light"
     },
     "output_type": "display_data"
    }
   ],
   "source": [
    "# your code here\n",
    "import matplotlib.pyplot as plt\n",
    "def GenerateUniformRandom(bottom,ceiling,count):\n",
    "    from scipy.stats import uniform\n",
    "    x = uniform.rvs(size=count)\n",
    "    randoms  = bottom + (ceiling-bottom)*x\n",
    "    return randoms\n",
    "\n",
    "y1=GenerateUniformRandom(10,15,100)\n",
    "y2=GenerateUniformRandom(10,60,1000)\n",
    "\n",
    "f, axs = plt.subplots(1,2,figsize=(10,4))\n",
    "axs[0].hist(y1,bins=10,rwidth=0.8)\n",
    "axs[0].set_xlabel('bottom=10, ceiling=15, count=100')\n",
    "axs[0].set_ylabel('Number of samples in each interval')\n",
    "axs[1].hist(y2,bins=10,rwidth=0.8)\n",
    "axs[1].set_xlabel('bottom=10, ceiling=60, count=1,000')\n",
    "axs[1].set_ylabel('Number of samples in each interval')\n",
    "\n"
   ]
  },
  {
   "cell_type": "markdown",
   "metadata": {},
   "source": [
    "How are the two distributions different?"
   ]
  },
  {
   "cell_type": "code",
   "execution_count": 5,
   "metadata": {},
   "outputs": [
    {
     "data": {
      "text/plain": [
       "\"\\nThe second experiment which uses 1,000 samples (v.s 100 for the first one) is shaped \\nmore similar to the theoretical probability mass function of a uniform distribution\\n(i.e is flatter). The higher the number of trials of the experiment, the more the\\nhistogram will look like the probability mass function that's generating the random variable.\\n\\n\""
      ]
     },
     "execution_count": 5,
     "metadata": {},
     "output_type": "execute_result"
    }
   ],
   "source": [
    "# your answer below\n",
    "'''\n",
    "The second experiment which uses 1,000 samples (v.s 100 for the first one) is shaped \n",
    "more similar to the theoretical probability mass function of a uniform distribution\n",
    "(i.e is flatter). The higher the number of trials of the experiment, the more the\n",
    "histogram will look like the probability mass function that's generating the random variable.\n",
    "\n",
    "'''"
   ]
  },
  {
   "cell_type": "markdown",
   "metadata": {},
   "source": [
    "## Normal Distribution\n",
    "\n",
    "1. In the same way in the Uniform Distribution challenge, write a function that generates normally distributed random numbers.\n",
    "1. Generate 1,000 normally distributed numbers with the average of 10 and standard deviation of 1\n",
    "1. Generate 1,000 normally distributed numbers with the average of 10 and standard deviation of 50\n",
    "2. Plot the distributions of the data generated.\n",
    "\n",
    "Expected output:\n",
    "\n",
    "![normal distribution](nd.png)"
   ]
  },
  {
   "cell_type": "code",
   "execution_count": 17,
   "metadata": {},
   "outputs": [
    {
     "data": {
      "text/plain": [
       "Text(0, 0.5, 'Number of samples')"
      ]
     },
     "execution_count": 17,
     "metadata": {},
     "output_type": "execute_result"
    },
    {
     "data": {
      "image/png": "[encoded data removed]",
      "text/plain": [
       "<Figure size 720x288 with 2 Axes>"
      ]
     },
     "metadata": {
      "needs_background": "light"
     },
     "output_type": "display_data"
    }
   ],
   "source": [
    "# your code here\n",
    "import numpy as np\n",
    "def GenerateNormalRandom(average,standardDeviation,count):\n",
    "    x = np.random.normal(loc=average, scale=standardDeviation, size=count)\n",
    "    return x\n",
    "y1=GenerateNormalRandom(10,1,1000)\n",
    "y2=GenerateNormalRandom(10,50,1000)\n",
    "\n",
    "f, axs = plt.subplots(1,2,figsize=(10,4))\n",
    "axs[0].hist(y1,bins=50)\n",
    "axs[0].set_xlabel('Experiment with average 10 and stdev=1')\n",
    "axs[0].set_ylabel('Number of samples')\n",
    "axs[1].hist(y2,bins=50)\n",
    "axs[1].set_xlabel('Experiment with average 10 and stdev=50')\n",
    "axs[1].set_ylabel('Number of samples')"
   ]
  },
  {
   "cell_type": "markdown",
   "metadata": {},
   "source": [
    "How are the two distributions different?"
   ]
  },
  {
   "cell_type": "code",
   "execution_count": 20,
   "metadata": {},
   "outputs": [
    {
     "data": {
      "text/plain": [
       "\"\\nGiven the massive standard deviation of the second experiment, it looks like it's centered in cero,\\nalthough it's mean is 10. The first experiment has a much smaller standard deviation which depicts it to be\\nvery clearly centered in 10.\\n\""
      ]
     },
     "execution_count": 20,
     "metadata": {},
     "output_type": "execute_result"
    }
   ],
   "source": [
    "# your answer below\n",
    "\n",
    "'''\n",
    "Given the massive standard deviation of the second experiment, it looks like it's centered in cero,\n",
    "although it's mean is 10. The first experiment has a much smaller standard deviation which depicts it to be\n",
    "very clearly centered in 10.\n",
    "'''"
   ]
  },
  {
   "cell_type": "markdown",
   "metadata": {},
   "source": [
    "## Normal Distribution of Real Data\n",
    "\n",
    "In this challenge we are going to take a look the real data. We will use vehicles.csv file for this exercise"
   ]
  },
  {
   "cell_type": "markdown",
   "metadata": {},
   "source": [
    "First import vehicles.csv.\n",
    "Then plot the histograms for the following variables:\n",
    "\n",
    "1. Fuel Barrels/Year"
   ]
  },
  {
   "cell_type": "code",
   "execution_count": 42,
   "metadata": {},
   "outputs": [
    {
     "name": "stdout",
     "output_type": "stream",
     "text": [
      "35952\n"
     ]
    },
    {
     "data": {
      "image/png": "[encoded data removed]",
      "text/plain": [
       "<Figure size 432x288 with 1 Axes>"
      ]
     },
     "metadata": {
      "needs_background": "light"
     },
     "output_type": "display_data"
    }
   ],
   "source": [
    "# your code here\n",
    "import pandas as pd\n",
    "vehicleDf=pd.read_csv(\"vehicles.csv\")\n",
    "plt.hist(vehicleDf[\"Fuel Barrels/Year\"],bins=40)\n",
    "print(len(vehicleDf[\"Fuel Barrels/Year\"]))"
   ]
  },
  {
   "cell_type": "markdown",
   "metadata": {},
   "source": [
    "2. CO2 Emission Grams/Mile "
   ]
  },
  {
   "cell_type": "code",
   "execution_count": 43,
   "metadata": {},
   "outputs": [
    {
     "data": {
      "text/plain": [
       "(array([5.000e+00, 8.000e+00, 1.200e+01, 9.000e+00, 4.200e+01, 1.070e+02,\n",
       "        1.770e+02, 5.060e+02, 1.228e+03, 2.194e+03, 2.825e+03, 3.958e+03,\n",
       "        3.369e+03, 6.052e+03, 3.649e+03, 2.341e+03, 2.311e+03, 2.190e+02,\n",
       "        2.327e+03, 1.968e+03, 1.240e+03, 3.600e+01, 7.250e+02, 9.000e+00,\n",
       "        9.000e+00, 4.340e+02, 3.000e+00, 1.270e+02, 0.000e+00, 0.000e+00,\n",
       "        3.600e+01, 0.000e+00, 0.000e+00, 0.000e+00, 2.100e+01, 0.000e+00,\n",
       "        0.000e+00, 0.000e+00, 0.000e+00, 5.000e+00]),\n",
       " array([  37.        ,   67.81428571,   98.62857143,  129.44285714,\n",
       "         160.25714286,  191.07142857,  221.88571429,  252.7       ,\n",
       "         283.51428571,  314.32857143,  345.14285714,  375.95714286,\n",
       "         406.77142857,  437.58571429,  468.4       ,  499.21428571,\n",
       "         530.02857143,  560.84285714,  591.65714286,  622.47142857,\n",
       "         653.28571429,  684.1       ,  714.91428571,  745.72857143,\n",
       "         776.54285714,  807.35714286,  838.17142857,  868.98571429,\n",
       "         899.8       ,  930.61428571,  961.42857143,  992.24285714,\n",
       "        1023.05714286, 1053.87142857, 1084.68571429, 1115.5       ,\n",
       "        1146.31428571, 1177.12857143, 1207.94285714, 1238.75714286,\n",
       "        1269.57142857]),\n",
       " <a list of 40 Patch objects>)"
      ]
     },
     "execution_count": 43,
     "metadata": {},
     "output_type": "execute_result"
    },
    {
     "data": {
      "image/png": "[encoded data removed]",
      "text/plain": [
       "<Figure size 432x288 with 1 Axes>"
      ]
     },
     "metadata": {
      "needs_background": "light"
     },
     "output_type": "display_data"
    }
   ],
   "source": [
    "# your code here\n",
    "plt.hist(vehicleDf[\"CO2 Emission Grams/Mile\"],bins=40)"
   ]
  },
  {
   "cell_type": "markdown",
   "metadata": {},
   "source": [
    "3. Combined MPG"
   ]
  },
  {
   "cell_type": "code",
   "execution_count": 50,
   "metadata": {},
   "outputs": [
    {
     "data": {
      "text/plain": [
       "(array([5.000e+00, 2.100e+01, 4.000e+01, 1.310e+02, 4.410e+02, 7.410e+02,\n",
       "        1.255e+03, 1.947e+03, 2.241e+03, 2.315e+03, 2.420e+03, 3.559e+03,\n",
       "        3.282e+03, 3.093e+03, 3.158e+03, 2.247e+03, 1.794e+03, 1.546e+03,\n",
       "        1.278e+03, 1.067e+03, 6.920e+02, 6.390e+02, 4.530e+02, 3.710e+02,\n",
       "        2.610e+02, 1.690e+02, 1.760e+02, 1.620e+02, 7.100e+01, 5.800e+01,\n",
       "        4.100e+01, 4.300e+01, 2.300e+01, 6.500e+01, 3.800e+01, 3.700e+01,\n",
       "        7.000e+00, 5.000e+00, 5.000e+00, 1.100e+01, 1.600e+01, 2.000e+00,\n",
       "        0.000e+00, 1.500e+01, 0.000e+00, 5.000e+00, 4.000e+00, 0.000e+00,\n",
       "        0.000e+00, 2.000e+00]),\n",
       " array([ 7.  ,  7.98,  8.96,  9.94, 10.92, 11.9 , 12.88, 13.86, 14.84,\n",
       "        15.82, 16.8 , 17.78, 18.76, 19.74, 20.72, 21.7 , 22.68, 23.66,\n",
       "        24.64, 25.62, 26.6 , 27.58, 28.56, 29.54, 30.52, 31.5 , 32.48,\n",
       "        33.46, 34.44, 35.42, 36.4 , 37.38, 38.36, 39.34, 40.32, 41.3 ,\n",
       "        42.28, 43.26, 44.24, 45.22, 46.2 , 47.18, 48.16, 49.14, 50.12,\n",
       "        51.1 , 52.08, 53.06, 54.04, 55.02, 56.  ]),\n",
       " <a list of 50 Patch objects>)"
      ]
     },
     "execution_count": 50,
     "metadata": {},
     "output_type": "execute_result"
    },
    {
     "data": {
      "image/png": "[encoded data removed]",
      "text/plain": [
       "<Figure size 432x288 with 1 Axes>"
      ]
     },
     "metadata": {
      "needs_background": "light"
     },
     "output_type": "display_data"
    }
   ],
   "source": [
    "# your code here\n",
    "plt.hist(vehicleDf[\"Combined MPG\"],bins=50)"
   ]
  },
  {
   "cell_type": "markdown",
   "metadata": {},
   "source": [
    "Which one(s) of the variables are nearly normally distributed? How do you know?"
   ]
  },
  {
   "cell_type": "code",
   "execution_count": 47,
   "metadata": {},
   "outputs": [],
   "source": [
    "# your answer here\n",
    "'''\n",
    "Although it's very arguable, the first two could be normally distributed, as they all are roughly simmetrical\n",
    "and have one clear peak in the mean. The variable \"combined MPG\" doesn't seem to be simetrical with respect to the mean.\n",
    "'''0"
   ]
  },
  {
   "cell_type": "markdown",
   "metadata": {},
   "source": [
    "## Exponential Distribution"
   ]
  },
  {
   "cell_type": "markdown",
   "metadata": {},
   "source": [
    "1. Using `numpy.random.exponential`, create a function that returns a list of numbers exponentially distributed with the mean of 10. \n",
    "\n",
    "1. Use the function to generate two number sequences with the size of 10 and 100.\n",
    "\n",
    "1. Plot the distributions as histograms with the nubmer of bins as 100.\n",
    "\n",
    "Your output should look like below:\n",
    "\n",
    "![exponential distribution](ed.png)"
   ]
  },
  {
   "cell_type": "code",
   "execution_count": 53,
   "metadata": {},
   "outputs": [
    {
     "data": {
      "text/plain": [
       "Text(0, 0.5, 'Number of samples')"
      ]
     },
     "execution_count": 53,
     "metadata": {},
     "output_type": "execute_result"
    },
    {
     "data": {
      "image/png": "[encoded data removed]",
      "text/plain": [
       "<Figure size 720x288 with 2 Axes>"
      ]
     },
     "metadata": {
      "needs_background": "light"
     },
     "output_type": "display_data"
    }
   ],
   "source": [
    "# your code here\n",
    "'''\n",
    "Based on the pictures the wording of the excersise is wrong and they're really asking for two experiments with \n",
    "lambda=1 and lambda=1/100 and with a sample size of 1,000 samples for both cases.\n",
    "'''\n",
    "import numpy as np\n",
    "def GenerateExponentialRandom(beta,count):\n",
    "    x = np.random.exponential(scale=beta,size=count)\n",
    "    return x\n",
    "y1=GenerateExponentialRandom(1,1000)\n",
    "y2=GenerateExponentialRandom(100,1000)\n",
    "\n",
    "f, axs = plt.subplots(1,2,figsize=(10,4))\n",
    "axs[0].hist(y1,bins=100)\n",
    "axs[0].set_xlabel('Experiment with lambda 1/10')\n",
    "axs[0].set_ylabel('Number of samples')\n",
    "axs[1].hist(y2,bins=100)\n",
    "axs[1].set_xlabel('Experiment with lambda 1/100')\n",
    "axs[1].set_ylabel('Number of samples')"
   ]
  },
  {
   "cell_type": "markdown",
   "metadata": {},
   "source": [
    "How are the two distributions different?"
   ]
  },
  {
   "cell_type": "code",
   "execution_count": null,
   "metadata": {},
   "outputs": [],
   "source": [
    "# your answer here\n",
    "#The distribution with lamda=1 decays at a much smaller rate than the one with lambda =1/100"
   ]
  },
  {
   "cell_type": "markdown",
   "metadata": {},
   "source": [
    "## Exponential Distribution of Real Data\n",
    "\n",
    "Suppose that the amount of time one spends in a bank is exponentially distributed with mean as 10 minutes (i.e. λ = 1/10). What is the probability that a customer will spend less than fifteen minutes in the bank? \n",
    "\n",
    "Write a code in python to solve this problem"
   ]
  },
  {
   "cell_type": "code",
   "execution_count": 3,
   "metadata": {},
   "outputs": [
    {
     "name": "stdout",
     "output_type": "stream",
     "text": [
      "The probability that a customer spends less than fifteen minutes is: 0.486582880967408\n"
     ]
    }
   ],
   "source": [
    "# your answer here\n",
    "# Hint: This is same as saying P(x<15)\n",
    "from scipy.stats import expon\n",
    "p=expon.cdf(1/15,loc=0,scale=1/10)\n",
    "print(\"The probability that a customer spends less than fifteen minutes is: \"+str(p))"
   ]
  },
  {
   "cell_type": "markdown",
   "metadata": {},
   "source": [
    "What is the probability that the customer will spend more than 15 minutes"
   ]
  },
  {
   "cell_type": "code",
   "execution_count": 4,
   "metadata": {},
   "outputs": [
    {
     "name": "stdout",
     "output_type": "stream",
     "text": [
      "The probability that a customer spends less than fifteen minutes is: 0.513417119032592\n"
     ]
    }
   ],
   "source": [
    "# your answer here\n",
    "print(\"The probability that a customer spends less than fifteen minutes is: \"+str(1-p))"
   ]
  }
 ],
 "metadata": {
  "kernelspec": {
   "display_name": "Python 3",
   "language": "python",
   "name": "python3"
  },
  "language_info": {
   "codemirror_mode": {
    "name": "ipython",
    "version": 3
   },
   "file_extension": ".py",
   "mimetype": "text/x-python",
   "name": "python",
   "nbconvert_exporter": "python",
   "pygments_lexer": "ipython3",
   "version": "3.6.8"
  }
 },
 "nbformat": 4,
 "nbformat_minor": 2
}
