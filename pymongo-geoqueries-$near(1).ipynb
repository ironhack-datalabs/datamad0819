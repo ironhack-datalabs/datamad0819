{
 "cells": [
  {
   "cell_type": "markdown",
   "metadata": {},
   "source": [
    "#### Importación base de datos https://github.com/albertogcmr/pymongo-project\n",
    "Este repositorio de Alberto explica cómo"
   ]
  },
  {
   "cell_type": "markdown",
   "metadata": {},
   "source": [
    "## Proyecto MongoDB"
   ]
  },
  {
   "cell_type": "markdown",
   "metadata": {},
   "source": [
    "* Importar base de datos a MongoDB\n",
    "* Conexión a la base de datos con Pymongo\n",
    "* Extraccion de la base de datos con Pymongo, filtrando según intereses\n",
    "* Limpieza de datos con Pandas\n",
    "* Columna formato geopoint \n",
    "* Guardar como Json\n",
    "* Importar la base de datos a MongoDB\n",
    "* Crear geoindex \n",
    "* Conexión a la nueva base de datos con Pymongo, extracción de todo.\n",
    "* Consultas geoespaciales sobre tu dataframe usando $near"
   ]
  },
  {
   "cell_type": "code",
   "execution_count": 281,
   "metadata": {},
   "outputs": [],
   "source": [
    "from pymongo import MongoClient\n",
    "import pandas as pd"
   ]
  },
  {
   "cell_type": "code",
   "execution_count": null,
   "metadata": {},
   "outputs": [],
   "source": [
    "# conexión con la base de datos de mongo\n",
    "\n",
    "client = MongoClient(\"mongodb://localhost:27017/\")\n",
    "db = client.companies "
   ]
  },
  {
   "cell_type": "code",
   "execution_count": 308,
   "metadata": {},
   "outputs": [],
   "source": [
    "# Query para pedir todo\n",
    "companies = db.companies.find()"
   ]
  },
  {
   "cell_type": "code",
   "execution_count": 309,
   "metadata": {},
   "outputs": [],
   "source": [
    "data_companies = pd.DataFrame(companies)"
   ]
  },
  {
   "cell_type": "code",
   "execution_count": 311,
   "metadata": {},
   "outputs": [
    {
     "data": {
      "text/html": [
       "<div>\n",
       "<style scoped>\n",
       "    .dataframe tbody tr th:only-of-type {\n",
       "        vertical-align: middle;\n",
       "    }\n",
       "\n",
       "    .dataframe tbody tr th {\n",
       "        vertical-align: top;\n",
       "    }\n",
       "\n",
       "    .dataframe thead th {\n",
       "        text-align: right;\n",
       "    }\n",
       "</style>\n",
       "<table border=\"1\" class=\"dataframe\">\n",
       "  <thead>\n",
       "    <tr style=\"text-align: right;\">\n",
       "      <th></th>\n",
       "      <th>_id</th>\n",
       "      <th>acquisition</th>\n",
       "      <th>acquisitions</th>\n",
       "      <th>alias_list</th>\n",
       "      <th>blog_feed_url</th>\n",
       "      <th>blog_url</th>\n",
       "      <th>category_code</th>\n",
       "      <th>competitions</th>\n",
       "      <th>created_at</th>\n",
       "      <th>crunchbase_url</th>\n",
       "      <th>...</th>\n",
       "      <th>phone_number</th>\n",
       "      <th>products</th>\n",
       "      <th>providerships</th>\n",
       "      <th>relationships</th>\n",
       "      <th>screenshots</th>\n",
       "      <th>tag_list</th>\n",
       "      <th>total_money_raised</th>\n",
       "      <th>twitter_username</th>\n",
       "      <th>updated_at</th>\n",
       "      <th>video_embeds</th>\n",
       "    </tr>\n",
       "  </thead>\n",
       "  <tbody>\n",
       "    <tr>\n",
       "      <th>0</th>\n",
       "      <td>52cdef7c4bab8bd675297d8b</td>\n",
       "      <td>None</td>\n",
       "      <td>[]</td>\n",
       "      <td>Zoho ManageEngine</td>\n",
       "      <td></td>\n",
       "      <td></td>\n",
       "      <td>enterprise</td>\n",
       "      <td>[]</td>\n",
       "      <td>2007-05-25 19:24:22</td>\n",
       "      <td>http://www.crunchbase.com/company/adventnet</td>\n",
       "      <td>...</td>\n",
       "      <td>925-924-9500</td>\n",
       "      <td>[]</td>\n",
       "      <td>[{'title': 'DHFH', 'is_past': True, 'provider'...</td>\n",
       "      <td>[{'is_past': True, 'title': 'CEO and Co-Founde...</td>\n",
       "      <td>[{'available_sizes': [[[150, 94], 'assets/imag...</td>\n",
       "      <td></td>\n",
       "      <td>$0</td>\n",
       "      <td>manageengine</td>\n",
       "      <td>Wed Oct 31 18:26:09 UTC 2012</td>\n",
       "      <td>[]</td>\n",
       "    </tr>\n",
       "    <tr>\n",
       "      <th>1</th>\n",
       "      <td>52cdef7c4bab8bd675297d8c</td>\n",
       "      <td>None</td>\n",
       "      <td>[]</td>\n",
       "      <td></td>\n",
       "      <td>http://blogs.zoho.com/feed</td>\n",
       "      <td>http://blogs.zoho.com/</td>\n",
       "      <td>software</td>\n",
       "      <td>[{'competitor': {'name': 'Empressr', 'permalin...</td>\n",
       "      <td>Fri May 25 19:30:28 UTC 2007</td>\n",
       "      <td>http://www.crunchbase.com/company/zoho</td>\n",
       "      <td>...</td>\n",
       "      <td>1-888-204-3539</td>\n",
       "      <td>[{'name': 'Zoho Office Suite', 'permalink': 'z...</td>\n",
       "      <td>[]</td>\n",
       "      <td>[{'is_past': False, 'title': 'CEO and Founder'...</td>\n",
       "      <td>[]</td>\n",
       "      <td>zoho, officesuite, spreadsheet, writer, projec...</td>\n",
       "      <td>$0</td>\n",
       "      <td>zoho</td>\n",
       "      <td>Wed Oct 30 00:07:05 UTC 2013</td>\n",
       "      <td>[{'embed_code': '&lt;object width=\"430\" height=\"2...</td>\n",
       "    </tr>\n",
       "    <tr>\n",
       "      <th>2</th>\n",
       "      <td>52cdef7c4bab8bd675297d8a</td>\n",
       "      <td>{'price_amount': 30000000, 'price_currency_cod...</td>\n",
       "      <td>[]</td>\n",
       "      <td></td>\n",
       "      <td>http://digitalquarters.net/feed/</td>\n",
       "      <td>http://digitalquarters.net/</td>\n",
       "      <td>web</td>\n",
       "      <td>[{'competitor': {'name': 'Wikia', 'permalink':...</td>\n",
       "      <td>2007-05-25 06:51:27</td>\n",
       "      <td>http://www.crunchbase.com/company/wetpaint</td>\n",
       "      <td>...</td>\n",
       "      <td>206.859.6300</td>\n",
       "      <td>[{'name': 'Wikison Wetpaint', 'permalink': 'we...</td>\n",
       "      <td>[]</td>\n",
       "      <td>[{'is_past': False, 'title': 'Co-Founder and V...</td>\n",
       "      <td>[{'available_sizes': [[[150, 86], 'assets/imag...</td>\n",
       "      <td>wiki, seattle, elowitz, media-industry, media-...</td>\n",
       "      <td>$39.8M</td>\n",
       "      <td>BachelrWetpaint</td>\n",
       "      <td>Sun Dec 08 07:15:44 UTC 2013</td>\n",
       "      <td>[]</td>\n",
       "    </tr>\n",
       "  </tbody>\n",
       "</table>\n",
       "<p>3 rows × 42 columns</p>\n",
       "</div>"
      ],
      "text/plain": [
       "                        _id  \\\n",
       "0  52cdef7c4bab8bd675297d8b   \n",
       "1  52cdef7c4bab8bd675297d8c   \n",
       "2  52cdef7c4bab8bd675297d8a   \n",
       "\n",
       "                                         acquisition acquisitions  \\\n",
       "0                                               None           []   \n",
       "1                                               None           []   \n",
       "2  {'price_amount': 30000000, 'price_currency_cod...           []   \n",
       "\n",
       "           alias_list                     blog_feed_url  \\\n",
       "0  Zoho ManageEngine                                      \n",
       "1                            http://blogs.zoho.com/feed   \n",
       "2                      http://digitalquarters.net/feed/   \n",
       "\n",
       "                      blog_url category_code  \\\n",
       "0                                 enterprise   \n",
       "1       http://blogs.zoho.com/      software   \n",
       "2  http://digitalquarters.net/           web   \n",
       "\n",
       "                                        competitions  \\\n",
       "0                                                 []   \n",
       "1  [{'competitor': {'name': 'Empressr', 'permalin...   \n",
       "2  [{'competitor': {'name': 'Wikia', 'permalink':...   \n",
       "\n",
       "                     created_at                               crunchbase_url  \\\n",
       "0           2007-05-25 19:24:22  http://www.crunchbase.com/company/adventnet   \n",
       "1  Fri May 25 19:30:28 UTC 2007       http://www.crunchbase.com/company/zoho   \n",
       "2           2007-05-25 06:51:27   http://www.crunchbase.com/company/wetpaint   \n",
       "\n",
       "   ...    phone_number                                           products  \\\n",
       "0  ...    925-924-9500                                                 []   \n",
       "1  ...  1-888-204-3539  [{'name': 'Zoho Office Suite', 'permalink': 'z...   \n",
       "2  ...    206.859.6300  [{'name': 'Wikison Wetpaint', 'permalink': 'we...   \n",
       "\n",
       "                                       providerships  \\\n",
       "0  [{'title': 'DHFH', 'is_past': True, 'provider'...   \n",
       "1                                                 []   \n",
       "2                                                 []   \n",
       "\n",
       "                                       relationships  \\\n",
       "0  [{'is_past': True, 'title': 'CEO and Co-Founde...   \n",
       "1  [{'is_past': False, 'title': 'CEO and Founder'...   \n",
       "2  [{'is_past': False, 'title': 'Co-Founder and V...   \n",
       "\n",
       "                                         screenshots  \\\n",
       "0  [{'available_sizes': [[[150, 94], 'assets/imag...   \n",
       "1                                                 []   \n",
       "2  [{'available_sizes': [[[150, 86], 'assets/imag...   \n",
       "\n",
       "                                            tag_list total_money_raised  \\\n",
       "0                                                                    $0   \n",
       "1  zoho, officesuite, spreadsheet, writer, projec...                 $0   \n",
       "2  wiki, seattle, elowitz, media-industry, media-...             $39.8M   \n",
       "\n",
       "   twitter_username                    updated_at  \\\n",
       "0      manageengine  Wed Oct 31 18:26:09 UTC 2012   \n",
       "1              zoho  Wed Oct 30 00:07:05 UTC 2013   \n",
       "2   BachelrWetpaint  Sun Dec 08 07:15:44 UTC 2013   \n",
       "\n",
       "                                        video_embeds  \n",
       "0                                                 []  \n",
       "1  [{'embed_code': '<object width=\"430\" height=\"2...  \n",
       "2                                                 []  \n",
       "\n",
       "[3 rows x 42 columns]"
      ]
     },
     "execution_count": 311,
     "metadata": {},
     "output_type": "execute_result"
    }
   ],
   "source": [
    "data_companies.head(3)"
   ]
  },
  {
   "cell_type": "code",
   "execution_count": 303,
   "metadata": {},
   "outputs": [],
   "source": [
    "#Ejemplo filtro de datos con PyMongo\n",
    "\n",
    "acquisition = db.companies.find({\n",
    "    \"acquisition.price_amount\":{\n",
    "        \"$gt\":10000000}}, {\n",
    "    \"name\":1,\n",
    "    \"acquisition.price_amount\":1, \"offices\":1})"
   ]
  },
  {
   "cell_type": "code",
   "execution_count": 304,
   "metadata": {},
   "outputs": [],
   "source": [
    "acquisition = pd.DataFrame(acquisition)"
   ]
  },
  {
   "cell_type": "code",
   "execution_count": 337,
   "metadata": {},
   "outputs": [],
   "source": [
    "#creamos columna con el formato que te pide Mongo para crear el goeindex\n",
    "\n",
    "def geopoint(x): \n",
    "    return {\"type\": \"Point\", \"coordinates\": [20,20]}"
   ]
  },
  {
   "cell_type": "code",
   "execution_count": 338,
   "metadata": {},
   "outputs": [],
   "source": [
    "acquisition['geo']=acquisition['offices'].apply(geopoint)"
   ]
  },
  {
   "cell_type": "code",
   "execution_count": 339,
   "metadata": {},
   "outputs": [
    {
     "data": {
      "text/html": [
       "<div>\n",
       "<style scoped>\n",
       "    .dataframe tbody tr th:only-of-type {\n",
       "        vertical-align: middle;\n",
       "    }\n",
       "\n",
       "    .dataframe tbody tr th {\n",
       "        vertical-align: top;\n",
       "    }\n",
       "\n",
       "    .dataframe thead th {\n",
       "        text-align: right;\n",
       "    }\n",
       "</style>\n",
       "<table border=\"1\" class=\"dataframe\">\n",
       "  <thead>\n",
       "    <tr style=\"text-align: right;\">\n",
       "      <th></th>\n",
       "      <th>_id</th>\n",
       "      <th>acquisition</th>\n",
       "      <th>name</th>\n",
       "      <th>offices</th>\n",
       "      <th>geo</th>\n",
       "    </tr>\n",
       "  </thead>\n",
       "  <tbody>\n",
       "    <tr>\n",
       "      <th>0</th>\n",
       "      <td>52cdef7c4bab8bd675297d8a</td>\n",
       "      <td>{'price_amount': 30000000}</td>\n",
       "      <td>Wetpaint</td>\n",
       "      <td>[{'description': '', 'address1': '710 - 2nd Av...</td>\n",
       "      <td>{'type': 'Point', 'coordinates': [20, 20]}</td>\n",
       "    </tr>\n",
       "    <tr>\n",
       "      <th>1</th>\n",
       "      <td>52cdef7c4bab8bd675297d90</td>\n",
       "      <td>{'price_amount': 625000000}</td>\n",
       "      <td>Postini</td>\n",
       "      <td>[{'description': None, 'address1': '959 Skyway...</td>\n",
       "      <td>{'type': 'Point', 'coordinates': [20, 20]}</td>\n",
       "    </tr>\n",
       "    <tr>\n",
       "      <th>2</th>\n",
       "      <td>52cdef7c4bab8bd675297d92</td>\n",
       "      <td>{'price_amount': 20000000}</td>\n",
       "      <td>Flektor</td>\n",
       "      <td>[{'description': None, 'address1': '8536 Natio...</td>\n",
       "      <td>{'type': 'Point', 'coordinates': [20, 20]}</td>\n",
       "    </tr>\n",
       "    <tr>\n",
       "      <th>3</th>\n",
       "      <td>52cdef7c4bab8bd675297d9a</td>\n",
       "      <td>{'price_amount': 39000000}</td>\n",
       "      <td>Helio</td>\n",
       "      <td>[{'description': None, 'address1': '10960 Wils...</td>\n",
       "      <td>{'type': 'Point', 'coordinates': [20, 20]}</td>\n",
       "    </tr>\n",
       "    <tr>\n",
       "      <th>4</th>\n",
       "      <td>52cdef7c4bab8bd675297d95</td>\n",
       "      <td>{'price_amount': 29000000}</td>\n",
       "      <td>StumbleUpon</td>\n",
       "      <td>[{'description': '', 'address1': '', 'address2...</td>\n",
       "      <td>{'type': 'Point', 'coordinates': [20, 20]}</td>\n",
       "    </tr>\n",
       "  </tbody>\n",
       "</table>\n",
       "</div>"
      ],
      "text/plain": [
       "                        _id                  acquisition         name  \\\n",
       "0  52cdef7c4bab8bd675297d8a   {'price_amount': 30000000}     Wetpaint   \n",
       "1  52cdef7c4bab8bd675297d90  {'price_amount': 625000000}      Postini   \n",
       "2  52cdef7c4bab8bd675297d92   {'price_amount': 20000000}      Flektor   \n",
       "3  52cdef7c4bab8bd675297d9a   {'price_amount': 39000000}        Helio   \n",
       "4  52cdef7c4bab8bd675297d95   {'price_amount': 29000000}  StumbleUpon   \n",
       "\n",
       "                                             offices  \\\n",
       "0  [{'description': '', 'address1': '710 - 2nd Av...   \n",
       "1  [{'description': None, 'address1': '959 Skyway...   \n",
       "2  [{'description': None, 'address1': '8536 Natio...   \n",
       "3  [{'description': None, 'address1': '10960 Wils...   \n",
       "4  [{'description': '', 'address1': '', 'address2...   \n",
       "\n",
       "                                          geo  \n",
       "0  {'type': 'Point', 'coordinates': [20, 20]}  \n",
       "1  {'type': 'Point', 'coordinates': [20, 20]}  \n",
       "2  {'type': 'Point', 'coordinates': [20, 20]}  \n",
       "3  {'type': 'Point', 'coordinates': [20, 20]}  \n",
       "4  {'type': 'Point', 'coordinates': [20, 20]}  "
      ]
     },
     "execution_count": 339,
     "metadata": {},
     "output_type": "execute_result"
    }
   ],
   "source": [
    "acquisition.head()"
   ]
  },
  {
   "cell_type": "code",
   "execution_count": 323,
   "metadata": {},
   "outputs": [],
   "source": [
    "#Importar archivo json a Mongo\n",
    "\n",
    "# mongoimport --db companies --collection prueba --jsonArray oficinas.json dentro de la terminal"
   ]
  },
  {
   "cell_type": "code",
   "execution_count": 324,
   "metadata": {},
   "outputs": [],
   "source": [
    "#Volvemos a conectarnos a la base de datos\n",
    "\n",
    "db = client.companies"
   ]
  },
  {
   "cell_type": "code",
   "execution_count": null,
   "metadata": {},
   "outputs": [],
   "source": [
    "# Cogemos todos los datos\n",
    "\n",
    "near = db.prueba.find()\n",
    "df = pd.DataFrame(near)"
   ]
  },
  {
   "cell_type": "code",
   "execution_count": 341,
   "metadata": {},
   "outputs": [
    {
     "data": {
      "text/plain": [
       "{'type': 'Point', 'coordinates': [-122.247573, 37.506885]}"
      ]
     },
     "execution_count": 341,
     "metadata": {},
     "output_type": "execute_result"
    }
   ],
   "source": [
    "#Seleccionamos un geopoint \n",
    "test = df.iloc[0, ]\n",
    "test.principal_office"
   ]
  },
  {
   "cell_type": "markdown",
   "metadata": {},
   "source": [
    "### Operador $near"
   ]
  },
  {
   "cell_type": "code",
   "execution_count": 331,
   "metadata": {},
   "outputs": [],
   "source": [
    "#Función para encontrar puntos cercanos con $near\n",
    "\n",
    "def geonear(geopoint, maxdistance=1000):\n",
    "    return db.prueba.find({\n",
    "        \"principal_office\":{\n",
    "            \"$near\":{\n",
    "                \"$geometry\":geopoint,\n",
    "                \"$maxDistance\":maxdistance\n",
    "            }}})"
   ]
  },
  {
   "cell_type": "code",
   "execution_count": 336,
   "metadata": {},
   "outputs": [
    {
     "name": "stderr",
     "output_type": "stream",
     "text": [
      "/miniconda3/envs/ironhack/lib/python3.7/site-packages/ipykernel_launcher.py:1: DeprecationWarning: count is deprecated. Use Collection.count_documents instead.\n",
      "  \"\"\"Entry point for launching an IPython kernel.\n"
     ]
    },
    {
     "data": {
      "text/plain": [
       "180"
      ]
     },
     "execution_count": 336,
     "metadata": {},
     "output_type": "execute_result"
    }
   ],
   "source": [
    "geonear(test.principal_office, 100000).count()"
   ]
  }
 ],
 "metadata": {
  "kernelspec": {
   "display_name": "Python 3",
   "language": "python",
   "name": "python3"
  },
  "language_info": {
   "codemirror_mode": {
    "name": "ipython",
    "version": 3
   },
   "file_extension": ".py",
   "mimetype": "text/x-python",
   "name": "python",
   "nbconvert_exporter": "python",
   "pygments_lexer": "ipython3",
   "version": "3.6.8"
  }
 },
 "nbformat": 4,
 "nbformat_minor": 2
}
