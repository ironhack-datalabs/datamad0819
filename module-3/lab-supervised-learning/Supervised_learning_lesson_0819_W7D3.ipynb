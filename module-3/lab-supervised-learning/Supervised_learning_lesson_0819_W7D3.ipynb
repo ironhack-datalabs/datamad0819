{
 "cells": [
  {
   "cell_type": "markdown",
   "metadata": {},
   "source": [
    "# Supervised Learning Guided Lesson\n"
   ]
  },
  {
   "cell_type": "code",
   "execution_count": 126,
   "metadata": {},
   "outputs": [],
   "source": [
    "%matplotlib inline\n",
    "import matplotlib.pyplot as plt\n",
    "import numpy as np\n",
    "import pandas as pd\n",
    "import seaborn as sns\n",
    "from sklearn.metrics import confusion_matrix"
   ]
  },
  {
   "cell_type": "markdown",
   "metadata": {},
   "source": [
    "Now we'll read our dataset with pandas:"
   ]
  },
  {
   "cell_type": "code",
   "execution_count": 41,
   "metadata": {},
   "outputs": [],
   "source": [
    "kickstarter = pd.read_csv('../ks-projects-201801.csv')"
   ]
  },
  {
   "cell_type": "code",
   "execution_count": 42,
   "metadata": {},
   "outputs": [
    {
     "data": {
      "text/html": [
       "<div>\n",
       "<style scoped>\n",
       "    .dataframe tbody tr th:only-of-type {\n",
       "        vertical-align: middle;\n",
       "    }\n",
       "\n",
       "    .dataframe tbody tr th {\n",
       "        vertical-align: top;\n",
       "    }\n",
       "\n",
       "    .dataframe thead th {\n",
       "        text-align: right;\n",
       "    }\n",
       "</style>\n",
       "<table border=\"1\" class=\"dataframe\">\n",
       "  <thead>\n",
       "    <tr style=\"text-align: right;\">\n",
       "      <th></th>\n",
       "      <th>ID</th>\n",
       "      <th>name</th>\n",
       "      <th>category</th>\n",
       "      <th>main_category</th>\n",
       "      <th>currency</th>\n",
       "      <th>deadline</th>\n",
       "      <th>goal</th>\n",
       "      <th>launched</th>\n",
       "      <th>pledged</th>\n",
       "      <th>state</th>\n",
       "      <th>backers</th>\n",
       "      <th>country</th>\n",
       "      <th>usd pledged</th>\n",
       "      <th>usd_pledged_real</th>\n",
       "      <th>usd_goal_real</th>\n",
       "    </tr>\n",
       "  </thead>\n",
       "  <tbody>\n",
       "    <tr>\n",
       "      <th>0</th>\n",
       "      <td>1000002330</td>\n",
       "      <td>The Songs of Adelaide &amp; Abullah</td>\n",
       "      <td>Poetry</td>\n",
       "      <td>Publishing</td>\n",
       "      <td>GBP</td>\n",
       "      <td>2015-10-09</td>\n",
       "      <td>1000.0000</td>\n",
       "      <td>2015-08-11 12:12:28</td>\n",
       "      <td>0.0000</td>\n",
       "      <td>failed</td>\n",
       "      <td>0</td>\n",
       "      <td>GB</td>\n",
       "      <td>0.0000</td>\n",
       "      <td>0.0000</td>\n",
       "      <td>1533.9500</td>\n",
       "    </tr>\n",
       "    <tr>\n",
       "      <th>1</th>\n",
       "      <td>1000003930</td>\n",
       "      <td>Greeting From Earth: ZGAC Arts Capsule For ET</td>\n",
       "      <td>Narrative Film</td>\n",
       "      <td>Film &amp; Video</td>\n",
       "      <td>USD</td>\n",
       "      <td>2017-11-01</td>\n",
       "      <td>30000.0000</td>\n",
       "      <td>2017-09-02 04:43:57</td>\n",
       "      <td>2421.0000</td>\n",
       "      <td>failed</td>\n",
       "      <td>15</td>\n",
       "      <td>US</td>\n",
       "      <td>100.0000</td>\n",
       "      <td>2421.0000</td>\n",
       "      <td>30000.0000</td>\n",
       "    </tr>\n",
       "    <tr>\n",
       "      <th>2</th>\n",
       "      <td>1000004038</td>\n",
       "      <td>Where is Hank?</td>\n",
       "      <td>Narrative Film</td>\n",
       "      <td>Film &amp; Video</td>\n",
       "      <td>USD</td>\n",
       "      <td>2013-02-26</td>\n",
       "      <td>45000.0000</td>\n",
       "      <td>2013-01-12 00:20:50</td>\n",
       "      <td>220.0000</td>\n",
       "      <td>failed</td>\n",
       "      <td>3</td>\n",
       "      <td>US</td>\n",
       "      <td>220.0000</td>\n",
       "      <td>220.0000</td>\n",
       "      <td>45000.0000</td>\n",
       "    </tr>\n",
       "    <tr>\n",
       "      <th>3</th>\n",
       "      <td>1000007540</td>\n",
       "      <td>ToshiCapital Rekordz Needs Help to Complete Album</td>\n",
       "      <td>Music</td>\n",
       "      <td>Music</td>\n",
       "      <td>USD</td>\n",
       "      <td>2012-04-16</td>\n",
       "      <td>5000.0000</td>\n",
       "      <td>2012-03-17 03:24:11</td>\n",
       "      <td>1.0000</td>\n",
       "      <td>failed</td>\n",
       "      <td>1</td>\n",
       "      <td>US</td>\n",
       "      <td>1.0000</td>\n",
       "      <td>1.0000</td>\n",
       "      <td>5000.0000</td>\n",
       "    </tr>\n",
       "    <tr>\n",
       "      <th>4</th>\n",
       "      <td>1000011046</td>\n",
       "      <td>Community Film Project: The Art of Neighborhoo...</td>\n",
       "      <td>Film &amp; Video</td>\n",
       "      <td>Film &amp; Video</td>\n",
       "      <td>USD</td>\n",
       "      <td>2015-08-29</td>\n",
       "      <td>19500.0000</td>\n",
       "      <td>2015-07-04 08:35:03</td>\n",
       "      <td>1283.0000</td>\n",
       "      <td>canceled</td>\n",
       "      <td>14</td>\n",
       "      <td>US</td>\n",
       "      <td>1283.0000</td>\n",
       "      <td>1283.0000</td>\n",
       "      <td>19500.0000</td>\n",
       "    </tr>\n",
       "  </tbody>\n",
       "</table>\n",
       "</div>"
      ],
      "text/plain": [
       "           ID                                               name  \\\n",
       "0  1000002330                    The Songs of Adelaide & Abullah   \n",
       "1  1000003930      Greeting From Earth: ZGAC Arts Capsule For ET   \n",
       "2  1000004038                                     Where is Hank?   \n",
       "3  1000007540  ToshiCapital Rekordz Needs Help to Complete Album   \n",
       "4  1000011046  Community Film Project: The Art of Neighborhoo...   \n",
       "\n",
       "         category main_category currency    deadline       goal  \\\n",
       "0          Poetry    Publishing      GBP  2015-10-09  1000.0000   \n",
       "1  Narrative Film  Film & Video      USD  2017-11-01 30000.0000   \n",
       "2  Narrative Film  Film & Video      USD  2013-02-26 45000.0000   \n",
       "3           Music         Music      USD  2012-04-16  5000.0000   \n",
       "4    Film & Video  Film & Video      USD  2015-08-29 19500.0000   \n",
       "\n",
       "              launched   pledged     state  backers country  usd pledged  \\\n",
       "0  2015-08-11 12:12:28    0.0000    failed        0      GB       0.0000   \n",
       "1  2017-09-02 04:43:57 2421.0000    failed       15      US     100.0000   \n",
       "2  2013-01-12 00:20:50  220.0000    failed        3      US     220.0000   \n",
       "3  2012-03-17 03:24:11    1.0000    failed        1      US       1.0000   \n",
       "4  2015-07-04 08:35:03 1283.0000  canceled       14      US    1283.0000   \n",
       "\n",
       "   usd_pledged_real  usd_goal_real  \n",
       "0            0.0000      1533.9500  \n",
       "1         2421.0000     30000.0000  \n",
       "2          220.0000     45000.0000  \n",
       "3            1.0000      5000.0000  \n",
       "4         1283.0000     19500.0000  "
      ]
     },
     "execution_count": 42,
     "metadata": {},
     "output_type": "execute_result"
    }
   ],
   "source": [
    "kickstarter.head()"
   ]
  },
  {
   "cell_type": "markdown",
   "metadata": {},
   "source": [
    "Let's start by looking at the shape of our data and the column types."
   ]
  },
  {
   "cell_type": "code",
   "execution_count": 17,
   "metadata": {},
   "outputs": [
    {
     "data": {
      "text/plain": [
       "(378661, 15)"
      ]
     },
     "execution_count": 17,
     "metadata": {},
     "output_type": "execute_result"
    }
   ],
   "source": [
    "kickstarter.shape"
   ]
  },
  {
   "cell_type": "code",
   "execution_count": 43,
   "metadata": {},
   "outputs": [
    {
     "data": {
      "text/plain": [
       "ID                    int64\n",
       "name                 object\n",
       "category             object\n",
       "main_category        object\n",
       "currency             object\n",
       "deadline             object\n",
       "goal                float64\n",
       "launched             object\n",
       "pledged             float64\n",
       "state                object\n",
       "backers               int64\n",
       "country              object\n",
       "usd pledged         float64\n",
       "usd_pledged_real    float64\n",
       "usd_goal_real       float64\n",
       "dtype: object"
      ]
     },
     "execution_count": 43,
     "metadata": {},
     "output_type": "execute_result"
    }
   ],
   "source": [
    "kickstarter.dtypes"
   ]
  },
  {
   "cell_type": "markdown",
   "metadata": {},
   "source": [
    "We should also look at the summary statistics for all the numeric columns using the describe function. "
   ]
  },
  {
   "cell_type": "code",
   "execution_count": 20,
   "metadata": {},
   "outputs": [
    {
     "data": {
      "text/html": [
       "<div>\n",
       "<style scoped>\n",
       "    .dataframe tbody tr th:only-of-type {\n",
       "        vertical-align: middle;\n",
       "    }\n",
       "\n",
       "    .dataframe tbody tr th {\n",
       "        vertical-align: top;\n",
       "    }\n",
       "\n",
       "    .dataframe thead th {\n",
       "        text-align: right;\n",
       "    }\n",
       "</style>\n",
       "<table border=\"1\" class=\"dataframe\">\n",
       "  <thead>\n",
       "    <tr style=\"text-align: right;\">\n",
       "      <th></th>\n",
       "      <th>ID</th>\n",
       "      <th>goal</th>\n",
       "      <th>pledged</th>\n",
       "      <th>backers</th>\n",
       "      <th>usd pledged</th>\n",
       "      <th>usd_pledged_real</th>\n",
       "      <th>usd_goal_real</th>\n",
       "    </tr>\n",
       "  </thead>\n",
       "  <tbody>\n",
       "    <tr>\n",
       "      <th>count</th>\n",
       "      <td>378661.0000</td>\n",
       "      <td>378661.0000</td>\n",
       "      <td>378661.0000</td>\n",
       "      <td>378661.0000</td>\n",
       "      <td>374864.0000</td>\n",
       "      <td>378661.0000</td>\n",
       "      <td>378661.0000</td>\n",
       "    </tr>\n",
       "    <tr>\n",
       "      <th>mean</th>\n",
       "      <td>1074731191.9888</td>\n",
       "      <td>49080.7915</td>\n",
       "      <td>9682.9793</td>\n",
       "      <td>105.6175</td>\n",
       "      <td>7036.7289</td>\n",
       "      <td>9058.9241</td>\n",
       "      <td>45454.4015</td>\n",
       "    </tr>\n",
       "    <tr>\n",
       "      <th>std</th>\n",
       "      <td>619086204.3226</td>\n",
       "      <td>1183391.2591</td>\n",
       "      <td>95636.0100</td>\n",
       "      <td>907.1850</td>\n",
       "      <td>78639.7453</td>\n",
       "      <td>90973.3431</td>\n",
       "      <td>1152950.0551</td>\n",
       "    </tr>\n",
       "    <tr>\n",
       "      <th>min</th>\n",
       "      <td>5971.0000</td>\n",
       "      <td>0.0100</td>\n",
       "      <td>0.0000</td>\n",
       "      <td>0.0000</td>\n",
       "      <td>0.0000</td>\n",
       "      <td>0.0000</td>\n",
       "      <td>0.0100</td>\n",
       "    </tr>\n",
       "    <tr>\n",
       "      <th>25%</th>\n",
       "      <td>538263516.0000</td>\n",
       "      <td>2000.0000</td>\n",
       "      <td>30.0000</td>\n",
       "      <td>2.0000</td>\n",
       "      <td>16.9800</td>\n",
       "      <td>31.0000</td>\n",
       "      <td>2000.0000</td>\n",
       "    </tr>\n",
       "    <tr>\n",
       "      <th>50%</th>\n",
       "      <td>1075275634.0000</td>\n",
       "      <td>5200.0000</td>\n",
       "      <td>620.0000</td>\n",
       "      <td>12.0000</td>\n",
       "      <td>394.7200</td>\n",
       "      <td>624.3300</td>\n",
       "      <td>5500.0000</td>\n",
       "    </tr>\n",
       "    <tr>\n",
       "      <th>75%</th>\n",
       "      <td>1610148624.0000</td>\n",
       "      <td>16000.0000</td>\n",
       "      <td>4076.0000</td>\n",
       "      <td>56.0000</td>\n",
       "      <td>3034.0900</td>\n",
       "      <td>4050.0000</td>\n",
       "      <td>15500.0000</td>\n",
       "    </tr>\n",
       "    <tr>\n",
       "      <th>max</th>\n",
       "      <td>2147476221.0000</td>\n",
       "      <td>100000000.0000</td>\n",
       "      <td>20338986.2700</td>\n",
       "      <td>219382.0000</td>\n",
       "      <td>20338986.2700</td>\n",
       "      <td>20338986.2700</td>\n",
       "      <td>166361390.7100</td>\n",
       "    </tr>\n",
       "  </tbody>\n",
       "</table>\n",
       "</div>"
      ],
      "text/plain": [
       "                   ID           goal       pledged     backers   usd pledged  \\\n",
       "count     378661.0000    378661.0000   378661.0000 378661.0000   374864.0000   \n",
       "mean  1074731191.9888     49080.7915     9682.9793    105.6175     7036.7289   \n",
       "std    619086204.3226   1183391.2591    95636.0100    907.1850    78639.7453   \n",
       "min         5971.0000         0.0100        0.0000      0.0000        0.0000   \n",
       "25%    538263516.0000      2000.0000       30.0000      2.0000       16.9800   \n",
       "50%   1075275634.0000      5200.0000      620.0000     12.0000      394.7200   \n",
       "75%   1610148624.0000     16000.0000     4076.0000     56.0000     3034.0900   \n",
       "max   2147476221.0000 100000000.0000 20338986.2700 219382.0000 20338986.2700   \n",
       "\n",
       "       usd_pledged_real  usd_goal_real  \n",
       "count       378661.0000    378661.0000  \n",
       "mean          9058.9241     45454.4015  \n",
       "std          90973.3431   1152950.0551  \n",
       "min              0.0000         0.0100  \n",
       "25%             31.0000      2000.0000  \n",
       "50%            624.3300      5500.0000  \n",
       "75%           4050.0000     15500.0000  \n",
       "max       20338986.2700 166361390.7100  "
      ]
     },
     "execution_count": 20,
     "metadata": {},
     "output_type": "execute_result"
    }
   ],
   "source": [
    "kickstarter.describe()"
   ]
  },
  {
   "cell_type": "code",
   "execution_count": 21,
   "metadata": {},
   "outputs": [
    {
     "data": {
      "text/plain": [
       "failed        197719\n",
       "successful    133956\n",
       "canceled       38779\n",
       "undefined       3562\n",
       "live            2799\n",
       "suspended       1846\n",
       "Name: state, dtype: int64"
      ]
     },
     "execution_count": 21,
     "metadata": {},
     "output_type": "execute_result"
    }
   ],
   "source": [
    "kickstarter.state.value_counts()"
   ]
  },
  {
   "cell_type": "markdown",
   "metadata": {},
   "source": [
    "We can evaluate the percent of projects in each group as well by setting normalize to True in the function. "
   ]
  },
  {
   "cell_type": "code",
   "execution_count": 22,
   "metadata": {},
   "outputs": [
    {
     "data": {
      "text/plain": [
       "failed       0.5222\n",
       "successful   0.3538\n",
       "canceled     0.1024\n",
       "undefined    0.0094\n",
       "live         0.0074\n",
       "suspended    0.0049\n",
       "Name: state, dtype: float64"
      ]
     },
     "execution_count": 22,
     "metadata": {},
     "output_type": "execute_result"
    }
   ],
   "source": [
    "kickstarter.state.value_counts(normalize=True)"
   ]
  },
  {
   "cell_type": "markdown",
   "metadata": {},
   "source": [
    "It seems that about 52% of projects while about 35% have succeeded. The rest have classifications that really aren't relevant for our analysis. Therefore, we should remove these rows from our data."
   ]
  },
  {
   "cell_type": "code",
   "execution_count": 44,
   "metadata": {},
   "outputs": [
    {
     "data": {
      "text/plain": [
       "failed       0.5961\n",
       "successful   0.4039\n",
       "Name: state, dtype: float64"
      ]
     },
     "execution_count": 44,
     "metadata": {},
     "output_type": "execute_result"
    }
   ],
   "source": [
    "kickstarter_classify = kickstarter[kickstarter.state.isin(['failed', 'successful'])]\n",
    "kickstarter_classify.state.value_counts(normalize=True)"
   ]
  },
  {
   "cell_type": "markdown",
   "metadata": {},
   "source": [
    "Next we look at the main_category column. We use the value_counts function to evaluate how many projects are in each category. "
   ]
  },
  {
   "cell_type": "code",
   "execution_count": 24,
   "metadata": {},
   "outputs": [
    {
     "data": {
      "text/plain": [
       "Film & Video    56527\n",
       "Music           45949\n",
       "Publishing      35445\n",
       "Games           28521\n",
       "Technology      27050\n",
       "Art             25641\n",
       "Design          25364\n",
       "Food            22054\n",
       "Fashion         19775\n",
       "Theater         10242\n",
       "Comics           9878\n",
       "Photography      9689\n",
       "Crafts           7818\n",
       "Journalism       4149\n",
       "Dance            3573\n",
       "Name: main_category, dtype: int64"
      ]
     },
     "execution_count": 24,
     "metadata": {},
     "output_type": "execute_result"
    }
   ],
   "source": [
    "kickstarter_classify.main_category.value_counts()"
   ]
  },
  {
   "cell_type": "markdown",
   "metadata": {},
   "source": [
    "We can use the crosstab function to see how successful projects are in each category. "
   ]
  },
  {
   "cell_type": "code",
   "execution_count": 25,
   "metadata": {},
   "outputs": [
    {
     "data": {
      "text/html": [
       "<div>\n",
       "<style scoped>\n",
       "    .dataframe tbody tr th:only-of-type {\n",
       "        vertical-align: middle;\n",
       "    }\n",
       "\n",
       "    .dataframe tbody tr th {\n",
       "        vertical-align: top;\n",
       "    }\n",
       "\n",
       "    .dataframe thead th {\n",
       "        text-align: right;\n",
       "    }\n",
       "</style>\n",
       "<table border=\"1\" class=\"dataframe\">\n",
       "  <thead>\n",
       "    <tr style=\"text-align: right;\">\n",
       "      <th>state</th>\n",
       "      <th>failed</th>\n",
       "      <th>successful</th>\n",
       "    </tr>\n",
       "    <tr>\n",
       "      <th>main_category</th>\n",
       "      <th></th>\n",
       "      <th></th>\n",
       "    </tr>\n",
       "  </thead>\n",
       "  <tbody>\n",
       "    <tr>\n",
       "      <th>Art</th>\n",
       "      <td>14131</td>\n",
       "      <td>11510</td>\n",
       "    </tr>\n",
       "    <tr>\n",
       "      <th>Comics</th>\n",
       "      <td>4036</td>\n",
       "      <td>5842</td>\n",
       "    </tr>\n",
       "    <tr>\n",
       "      <th>Crafts</th>\n",
       "      <td>5703</td>\n",
       "      <td>2115</td>\n",
       "    </tr>\n",
       "    <tr>\n",
       "      <th>Dance</th>\n",
       "      <td>1235</td>\n",
       "      <td>2338</td>\n",
       "    </tr>\n",
       "    <tr>\n",
       "      <th>Design</th>\n",
       "      <td>14814</td>\n",
       "      <td>10550</td>\n",
       "    </tr>\n",
       "    <tr>\n",
       "      <th>Fashion</th>\n",
       "      <td>14182</td>\n",
       "      <td>5593</td>\n",
       "    </tr>\n",
       "    <tr>\n",
       "      <th>Film &amp; Video</th>\n",
       "      <td>32904</td>\n",
       "      <td>23623</td>\n",
       "    </tr>\n",
       "    <tr>\n",
       "      <th>Food</th>\n",
       "      <td>15969</td>\n",
       "      <td>6085</td>\n",
       "    </tr>\n",
       "    <tr>\n",
       "      <th>Games</th>\n",
       "      <td>16003</td>\n",
       "      <td>12518</td>\n",
       "    </tr>\n",
       "    <tr>\n",
       "      <th>Journalism</th>\n",
       "      <td>3137</td>\n",
       "      <td>1012</td>\n",
       "    </tr>\n",
       "    <tr>\n",
       "      <th>Music</th>\n",
       "      <td>21752</td>\n",
       "      <td>24197</td>\n",
       "    </tr>\n",
       "    <tr>\n",
       "      <th>Photography</th>\n",
       "      <td>6384</td>\n",
       "      <td>3305</td>\n",
       "    </tr>\n",
       "    <tr>\n",
       "      <th>Publishing</th>\n",
       "      <td>23145</td>\n",
       "      <td>12300</td>\n",
       "    </tr>\n",
       "    <tr>\n",
       "      <th>Technology</th>\n",
       "      <td>20616</td>\n",
       "      <td>6434</td>\n",
       "    </tr>\n",
       "    <tr>\n",
       "      <th>Theater</th>\n",
       "      <td>3708</td>\n",
       "      <td>6534</td>\n",
       "    </tr>\n",
       "  </tbody>\n",
       "</table>\n",
       "</div>"
      ],
      "text/plain": [
       "state          failed  successful\n",
       "main_category                    \n",
       "Art             14131       11510\n",
       "Comics           4036        5842\n",
       "Crafts           5703        2115\n",
       "Dance            1235        2338\n",
       "Design          14814       10550\n",
       "Fashion         14182        5593\n",
       "Film & Video    32904       23623\n",
       "Food            15969        6085\n",
       "Games           16003       12518\n",
       "Journalism       3137        1012\n",
       "Music           21752       24197\n",
       "Photography      6384        3305\n",
       "Publishing      23145       12300\n",
       "Technology      20616        6434\n",
       "Theater          3708        6534"
      ]
     },
     "execution_count": 25,
     "metadata": {},
     "output_type": "execute_result"
    }
   ],
   "source": [
    "pd.crosstab(kickstarter_classify.main_category,kickstarter_classify.state)"
   ]
  },
  {
   "cell_type": "markdown",
   "metadata": {},
   "source": [
    "We can also add the success rate for each category."
   ]
  },
  {
   "cell_type": "code",
   "execution_count": 26,
   "metadata": {},
   "outputs": [
    {
     "data": {
      "text/html": [
       "<div>\n",
       "<style scoped>\n",
       "    .dataframe tbody tr th:only-of-type {\n",
       "        vertical-align: middle;\n",
       "    }\n",
       "\n",
       "    .dataframe tbody tr th {\n",
       "        vertical-align: top;\n",
       "    }\n",
       "\n",
       "    .dataframe thead th {\n",
       "        text-align: right;\n",
       "    }\n",
       "</style>\n",
       "<table border=\"1\" class=\"dataframe\">\n",
       "  <thead>\n",
       "    <tr style=\"text-align: right;\">\n",
       "      <th>state</th>\n",
       "      <th>failed</th>\n",
       "      <th>successful</th>\n",
       "      <th>success_rate</th>\n",
       "    </tr>\n",
       "    <tr>\n",
       "      <th>main_category</th>\n",
       "      <th></th>\n",
       "      <th></th>\n",
       "      <th></th>\n",
       "    </tr>\n",
       "  </thead>\n",
       "  <tbody>\n",
       "    <tr>\n",
       "      <th>Art</th>\n",
       "      <td>14131</td>\n",
       "      <td>11510</td>\n",
       "      <td>0.4489</td>\n",
       "    </tr>\n",
       "    <tr>\n",
       "      <th>Comics</th>\n",
       "      <td>4036</td>\n",
       "      <td>5842</td>\n",
       "      <td>0.5914</td>\n",
       "    </tr>\n",
       "    <tr>\n",
       "      <th>Crafts</th>\n",
       "      <td>5703</td>\n",
       "      <td>2115</td>\n",
       "      <td>0.2705</td>\n",
       "    </tr>\n",
       "    <tr>\n",
       "      <th>Dance</th>\n",
       "      <td>1235</td>\n",
       "      <td>2338</td>\n",
       "      <td>0.6544</td>\n",
       "    </tr>\n",
       "    <tr>\n",
       "      <th>Design</th>\n",
       "      <td>14814</td>\n",
       "      <td>10550</td>\n",
       "      <td>0.4159</td>\n",
       "    </tr>\n",
       "    <tr>\n",
       "      <th>Fashion</th>\n",
       "      <td>14182</td>\n",
       "      <td>5593</td>\n",
       "      <td>0.2828</td>\n",
       "    </tr>\n",
       "    <tr>\n",
       "      <th>Film &amp; Video</th>\n",
       "      <td>32904</td>\n",
       "      <td>23623</td>\n",
       "      <td>0.4179</td>\n",
       "    </tr>\n",
       "    <tr>\n",
       "      <th>Food</th>\n",
       "      <td>15969</td>\n",
       "      <td>6085</td>\n",
       "      <td>0.2759</td>\n",
       "    </tr>\n",
       "    <tr>\n",
       "      <th>Games</th>\n",
       "      <td>16003</td>\n",
       "      <td>12518</td>\n",
       "      <td>0.4389</td>\n",
       "    </tr>\n",
       "    <tr>\n",
       "      <th>Journalism</th>\n",
       "      <td>3137</td>\n",
       "      <td>1012</td>\n",
       "      <td>0.2439</td>\n",
       "    </tr>\n",
       "    <tr>\n",
       "      <th>Music</th>\n",
       "      <td>21752</td>\n",
       "      <td>24197</td>\n",
       "      <td>0.5266</td>\n",
       "    </tr>\n",
       "    <tr>\n",
       "      <th>Photography</th>\n",
       "      <td>6384</td>\n",
       "      <td>3305</td>\n",
       "      <td>0.3411</td>\n",
       "    </tr>\n",
       "    <tr>\n",
       "      <th>Publishing</th>\n",
       "      <td>23145</td>\n",
       "      <td>12300</td>\n",
       "      <td>0.3470</td>\n",
       "    </tr>\n",
       "    <tr>\n",
       "      <th>Technology</th>\n",
       "      <td>20616</td>\n",
       "      <td>6434</td>\n",
       "      <td>0.2379</td>\n",
       "    </tr>\n",
       "    <tr>\n",
       "      <th>Theater</th>\n",
       "      <td>3708</td>\n",
       "      <td>6534</td>\n",
       "      <td>0.6380</td>\n",
       "    </tr>\n",
       "  </tbody>\n",
       "</table>\n",
       "</div>"
      ],
      "text/plain": [
       "state          failed  successful  success_rate\n",
       "main_category                                  \n",
       "Art             14131       11510        0.4489\n",
       "Comics           4036        5842        0.5914\n",
       "Crafts           5703        2115        0.2705\n",
       "Dance            1235        2338        0.6544\n",
       "Design          14814       10550        0.4159\n",
       "Fashion         14182        5593        0.2828\n",
       "Film & Video    32904       23623        0.4179\n",
       "Food            15969        6085        0.2759\n",
       "Games           16003       12518        0.4389\n",
       "Journalism       3137        1012        0.2439\n",
       "Music           21752       24197        0.5266\n",
       "Photography      6384        3305        0.3411\n",
       "Publishing      23145       12300        0.3470\n",
       "Technology      20616        6434        0.2379\n",
       "Theater          3708        6534        0.6380"
      ]
     },
     "execution_count": 26,
     "metadata": {},
     "output_type": "execute_result"
    }
   ],
   "source": [
    "category_crosstab = pd.crosstab(kickstarter_classify.main_category,kickstarter_classify.state)\n",
    "category_crosstab['success_rate'] = category_crosstab.successful/(category_crosstab.successful+category_crosstab.failed)\n",
    "category_crosstab"
   ]
  },
  {
   "cell_type": "code",
   "execution_count": 27,
   "metadata": {},
   "outputs": [
    {
     "data": {
      "text/plain": [
       "USD    261511\n",
       "GBP     29476\n",
       "EUR     14378\n",
       "CAD     12375\n",
       "AUD      6621\n",
       "SEK      1510\n",
       "MXN      1411\n",
       "NZD      1274\n",
       "DKK       929\n",
       "CHF       652\n",
       "NOK       584\n",
       "HKD       477\n",
       "SGD       454\n",
       "JPY        23\n",
       "Name: currency, dtype: int64"
      ]
     },
     "execution_count": 27,
     "metadata": {},
     "output_type": "execute_result"
    }
   ],
   "source": [
    "kickstarter_classify.currency.value_counts()"
   ]
  },
  {
   "cell_type": "markdown",
   "metadata": {},
   "source": [
    "Clearly, the most popular currency is the US Dollar."
   ]
  },
  {
   "cell_type": "code",
   "execution_count": 28,
   "metadata": {},
   "outputs": [
    {
     "data": {
      "text/html": [
       "<div>\n",
       "<style scoped>\n",
       "    .dataframe tbody tr th:only-of-type {\n",
       "        vertical-align: middle;\n",
       "    }\n",
       "\n",
       "    .dataframe tbody tr th {\n",
       "        vertical-align: top;\n",
       "    }\n",
       "\n",
       "    .dataframe thead th {\n",
       "        text-align: right;\n",
       "    }\n",
       "</style>\n",
       "<table border=\"1\" class=\"dataframe\">\n",
       "  <thead>\n",
       "    <tr style=\"text-align: right;\">\n",
       "      <th>state</th>\n",
       "      <th>failed</th>\n",
       "      <th>successful</th>\n",
       "      <th>success_rate</th>\n",
       "    </tr>\n",
       "    <tr>\n",
       "      <th>currency</th>\n",
       "      <th></th>\n",
       "      <th></th>\n",
       "      <th></th>\n",
       "    </tr>\n",
       "  </thead>\n",
       "  <tbody>\n",
       "    <tr>\n",
       "      <th>AUD</th>\n",
       "      <td>4610</td>\n",
       "      <td>2011</td>\n",
       "      <td>0.3037</td>\n",
       "    </tr>\n",
       "    <tr>\n",
       "      <th>CAD</th>\n",
       "      <td>8238</td>\n",
       "      <td>4137</td>\n",
       "      <td>0.3343</td>\n",
       "    </tr>\n",
       "    <tr>\n",
       "      <th>CHF</th>\n",
       "      <td>465</td>\n",
       "      <td>187</td>\n",
       "      <td>0.2868</td>\n",
       "    </tr>\n",
       "    <tr>\n",
       "      <th>DKK</th>\n",
       "      <td>567</td>\n",
       "      <td>362</td>\n",
       "      <td>0.3897</td>\n",
       "    </tr>\n",
       "    <tr>\n",
       "      <th>EUR</th>\n",
       "      <td>10496</td>\n",
       "      <td>3882</td>\n",
       "      <td>0.2700</td>\n",
       "    </tr>\n",
       "    <tr>\n",
       "      <th>GBP</th>\n",
       "      <td>17395</td>\n",
       "      <td>12081</td>\n",
       "      <td>0.4099</td>\n",
       "    </tr>\n",
       "    <tr>\n",
       "      <th>HKD</th>\n",
       "      <td>261</td>\n",
       "      <td>216</td>\n",
       "      <td>0.4528</td>\n",
       "    </tr>\n",
       "    <tr>\n",
       "      <th>JPY</th>\n",
       "      <td>16</td>\n",
       "      <td>7</td>\n",
       "      <td>0.3043</td>\n",
       "    </tr>\n",
       "    <tr>\n",
       "      <th>MXN</th>\n",
       "      <td>1015</td>\n",
       "      <td>396</td>\n",
       "      <td>0.2807</td>\n",
       "    </tr>\n",
       "    <tr>\n",
       "      <th>NOK</th>\n",
       "      <td>421</td>\n",
       "      <td>163</td>\n",
       "      <td>0.2791</td>\n",
       "    </tr>\n",
       "    <tr>\n",
       "      <th>NZD</th>\n",
       "      <td>826</td>\n",
       "      <td>448</td>\n",
       "      <td>0.3516</td>\n",
       "    </tr>\n",
       "    <tr>\n",
       "      <th>SEK</th>\n",
       "      <td>1001</td>\n",
       "      <td>509</td>\n",
       "      <td>0.3371</td>\n",
       "    </tr>\n",
       "    <tr>\n",
       "      <th>SGD</th>\n",
       "      <td>276</td>\n",
       "      <td>178</td>\n",
       "      <td>0.3921</td>\n",
       "    </tr>\n",
       "    <tr>\n",
       "      <th>USD</th>\n",
       "      <td>152132</td>\n",
       "      <td>109379</td>\n",
       "      <td>0.4183</td>\n",
       "    </tr>\n",
       "  </tbody>\n",
       "</table>\n",
       "</div>"
      ],
      "text/plain": [
       "state     failed  successful  success_rate\n",
       "currency                                  \n",
       "AUD         4610        2011        0.3037\n",
       "CAD         8238        4137        0.3343\n",
       "CHF          465         187        0.2868\n",
       "DKK          567         362        0.3897\n",
       "EUR        10496        3882        0.2700\n",
       "GBP        17395       12081        0.4099\n",
       "HKD          261         216        0.4528\n",
       "JPY           16           7        0.3043\n",
       "MXN         1015         396        0.2807\n",
       "NOK          421         163        0.2791\n",
       "NZD          826         448        0.3516\n",
       "SEK         1001         509        0.3371\n",
       "SGD          276         178        0.3921\n",
       "USD       152132      109379        0.4183"
      ]
     },
     "execution_count": 28,
     "metadata": {},
     "output_type": "execute_result"
    }
   ],
   "source": [
    "currency_crosstab = pd.crosstab(kickstarter_classify.currency,kickstarter_classify.state)\n",
    "currency_crosstab['success_rate'] = currency_crosstab.successful/(currency_crosstab.successful+currency_crosstab.failed)\n",
    "currency_crosstab"
   ]
  },
  {
   "cell_type": "markdown",
   "metadata": {},
   "source": [
    "# Visualizing the Data\n"
   ]
  },
  {
   "cell_type": "code",
   "execution_count": 49,
   "metadata": {},
   "outputs": [],
   "source": [
    "kick_classify=kickstarter_classify.copy()\n",
    "kick_classify['launched_date'] = pd.to_datetime(kick_classify.launched)\n",
    "kick_classify['deadline_date'] = pd.to_datetime(kick_classify.deadline)"
   ]
  },
  {
   "cell_type": "code",
   "execution_count": 50,
   "metadata": {},
   "outputs": [],
   "source": [
    "kick_classify['duration'] = (kick_classify.deadline_date - kick_classify.launched_date).dt.days"
   ]
  },
  {
   "cell_type": "markdown",
   "metadata": {},
   "source": [
    "Initially, we plot the histogram of all durations.\n",
    "\n"
   ]
  },
  {
   "cell_type": "code",
   "execution_count": 54,
   "metadata": {},
   "outputs": [
    {
     "data": {
      "image/png": "[encoded data removed]",
      "text/plain": [
       "<Figure size 432x288 with 1 Axes>"
      ]
     },
     "metadata": {
      "needs_background": "light"
     },
     "output_type": "display_data"
    }
   ],
   "source": [
    "kick_classify.duration.hist();"
   ]
  },
  {
   "cell_type": "markdown",
   "metadata": {},
   "source": [
    "Let's plot the successful and failed projects side by side to see if their distributions differ."
   ]
  },
  {
   "cell_type": "code",
   "execution_count": 31,
   "metadata": {},
   "outputs": [
    {
     "data": {
      "image/png": "[encoded data removed]",
      "text/plain": [
       "<Figure size 432x288 with 2 Axes>"
      ]
     },
     "metadata": {
      "needs_background": "light"
     },
     "output_type": "display_data"
    }
   ],
   "source": [
    "kick_classify.duration.hist(by=kick_classify.state);"
   ]
  },
  {
   "cell_type": "code",
   "execution_count": 34,
   "metadata": {},
   "outputs": [
    {
     "data": {
      "text/plain": [
       "166361390.71"
      ]
     },
     "execution_count": 34,
     "metadata": {},
     "output_type": "execute_result"
    }
   ],
   "source": [
    "max(kick_classify.usd_goal_real)"
   ]
  },
  {
   "cell_type": "code",
   "execution_count": 60,
   "metadata": {},
   "outputs": [
    {
     "data": {
      "text/html": [
       "<div>\n",
       "<style scoped>\n",
       "    .dataframe tbody tr th:only-of-type {\n",
       "        vertical-align: middle;\n",
       "    }\n",
       "\n",
       "    .dataframe tbody tr th {\n",
       "        vertical-align: top;\n",
       "    }\n",
       "\n",
       "    .dataframe thead th {\n",
       "        text-align: right;\n",
       "    }\n",
       "</style>\n",
       "<table border=\"1\" class=\"dataframe\">\n",
       "  <thead>\n",
       "    <tr style=\"text-align: right;\">\n",
       "      <th></th>\n",
       "      <th>ID</th>\n",
       "      <th>name</th>\n",
       "      <th>category</th>\n",
       "      <th>main_category</th>\n",
       "      <th>currency</th>\n",
       "      <th>deadline</th>\n",
       "      <th>goal</th>\n",
       "      <th>launched</th>\n",
       "      <th>pledged</th>\n",
       "      <th>state</th>\n",
       "      <th>backers</th>\n",
       "      <th>country</th>\n",
       "      <th>usd pledged</th>\n",
       "      <th>usd_pledged_real</th>\n",
       "      <th>usd_goal_real</th>\n",
       "      <th>launched_date</th>\n",
       "      <th>deadline_date</th>\n",
       "      <th>duration</th>\n",
       "    </tr>\n",
       "  </thead>\n",
       "  <tbody>\n",
       "    <tr>\n",
       "      <th>340</th>\n",
       "      <td>1001542282</td>\n",
       "      <td>You in a novel</td>\n",
       "      <td>Publishing</td>\n",
       "      <td>Publishing</td>\n",
       "      <td>EUR</td>\n",
       "      <td>2015-11-09</td>\n",
       "      <td>1000000.0000</td>\n",
       "      <td>2015-09-10 23:03:21</td>\n",
       "      <td>10.0000</td>\n",
       "      <td>failed</td>\n",
       "      <td>1</td>\n",
       "      <td>IT</td>\n",
       "      <td>11.1800</td>\n",
       "      <td>10.7600</td>\n",
       "      <td>1076403.0900</td>\n",
       "      <td>2015-09-10 23:03:21</td>\n",
       "      <td>2015-11-09</td>\n",
       "      <td>59</td>\n",
       "    </tr>\n",
       "    <tr>\n",
       "      <th>971</th>\n",
       "      <td>1004941506</td>\n",
       "      <td>Maori MBT Awareness Centre</td>\n",
       "      <td>Web</td>\n",
       "      <td>Journalism</td>\n",
       "      <td>CAD</td>\n",
       "      <td>2017-10-18</td>\n",
       "      <td>2000000.0000</td>\n",
       "      <td>2017-08-19 22:13:55</td>\n",
       "      <td>2242.0000</td>\n",
       "      <td>failed</td>\n",
       "      <td>19</td>\n",
       "      <td>CA</td>\n",
       "      <td>1160.6700</td>\n",
       "      <td>1794.4600</td>\n",
       "      <td>1600768.3700</td>\n",
       "      <td>2017-08-19 22:13:55</td>\n",
       "      <td>2017-10-18</td>\n",
       "      <td>59</td>\n",
       "    </tr>\n",
       "    <tr>\n",
       "      <th>1042</th>\n",
       "      <td>1005237669</td>\n",
       "      <td>The Old Soul of a Lion</td>\n",
       "      <td>Film &amp; Video</td>\n",
       "      <td>Film &amp; Video</td>\n",
       "      <td>USD</td>\n",
       "      <td>2014-10-14</td>\n",
       "      <td>3000000.0000</td>\n",
       "      <td>2014-08-15 20:16:22</td>\n",
       "      <td>4.0000</td>\n",
       "      <td>failed</td>\n",
       "      <td>2</td>\n",
       "      <td>US</td>\n",
       "      <td>4.0000</td>\n",
       "      <td>4.0000</td>\n",
       "      <td>3000000.0000</td>\n",
       "      <td>2014-08-15 20:16:22</td>\n",
       "      <td>2014-10-14</td>\n",
       "      <td>59</td>\n",
       "    </tr>\n",
       "    <tr>\n",
       "      <th>1144</th>\n",
       "      <td>1005820080</td>\n",
       "      <td>The Million Pound Shirt</td>\n",
       "      <td>Fashion</td>\n",
       "      <td>Fashion</td>\n",
       "      <td>GBP</td>\n",
       "      <td>2015-11-25</td>\n",
       "      <td>1000000.0000</td>\n",
       "      <td>2015-10-21 22:00:04</td>\n",
       "      <td>10.0000</td>\n",
       "      <td>failed</td>\n",
       "      <td>1</td>\n",
       "      <td>GB</td>\n",
       "      <td>15.4700</td>\n",
       "      <td>15.0500</td>\n",
       "      <td>1505185.3600</td>\n",
       "      <td>2015-10-21 22:00:04</td>\n",
       "      <td>2015-11-25</td>\n",
       "      <td>34</td>\n",
       "    </tr>\n",
       "    <tr>\n",
       "      <th>1795</th>\n",
       "      <td>1009207145</td>\n",
       "      <td>** GOLIATH **</td>\n",
       "      <td>Product Design</td>\n",
       "      <td>Design</td>\n",
       "      <td>CAD</td>\n",
       "      <td>2014-07-21</td>\n",
       "      <td>3850000.0000</td>\n",
       "      <td>2014-06-21 22:34:21</td>\n",
       "      <td>285.0000</td>\n",
       "      <td>failed</td>\n",
       "      <td>5</td>\n",
       "      <td>CA</td>\n",
       "      <td>263.4100</td>\n",
       "      <td>264.6700</td>\n",
       "      <td>3575408.6200</td>\n",
       "      <td>2014-06-21 22:34:21</td>\n",
       "      <td>2014-07-21</td>\n",
       "      <td>29</td>\n",
       "    </tr>\n",
       "  </tbody>\n",
       "</table>\n",
       "</div>"
      ],
      "text/plain": [
       "              ID                        name        category main_category  \\\n",
       "340   1001542282              You in a novel      Publishing    Publishing   \n",
       "971   1004941506  Maori MBT Awareness Centre             Web    Journalism   \n",
       "1042  1005237669      The Old Soul of a Lion    Film & Video  Film & Video   \n",
       "1144  1005820080     The Million Pound Shirt         Fashion       Fashion   \n",
       "1795  1009207145               ** GOLIATH **  Product Design        Design   \n",
       "\n",
       "     currency    deadline         goal             launched   pledged   state  \\\n",
       "340       EUR  2015-11-09 1000000.0000  2015-09-10 23:03:21   10.0000  failed   \n",
       "971       CAD  2017-10-18 2000000.0000  2017-08-19 22:13:55 2242.0000  failed   \n",
       "1042      USD  2014-10-14 3000000.0000  2014-08-15 20:16:22    4.0000  failed   \n",
       "1144      GBP  2015-11-25 1000000.0000  2015-10-21 22:00:04   10.0000  failed   \n",
       "1795      CAD  2014-07-21 3850000.0000  2014-06-21 22:34:21  285.0000  failed   \n",
       "\n",
       "      backers country  usd pledged  usd_pledged_real  usd_goal_real  \\\n",
       "340         1      IT      11.1800           10.7600   1076403.0900   \n",
       "971        19      CA    1160.6700         1794.4600   1600768.3700   \n",
       "1042        2      US       4.0000            4.0000   3000000.0000   \n",
       "1144        1      GB      15.4700           15.0500   1505185.3600   \n",
       "1795        5      CA     263.4100          264.6700   3575408.6200   \n",
       "\n",
       "           launched_date deadline_date  duration  \n",
       "340  2015-09-10 23:03:21    2015-11-09        59  \n",
       "971  2017-08-19 22:13:55    2017-10-18        59  \n",
       "1042 2014-08-15 20:16:22    2014-10-14        59  \n",
       "1144 2015-10-21 22:00:04    2015-11-25        34  \n",
       "1795 2014-06-21 22:34:21    2014-07-21        29  "
      ]
     },
     "execution_count": 60,
     "metadata": {},
     "output_type": "execute_result"
    }
   ],
   "source": [
    "kick_classify[kick_classify.usd_goal_real > 1000000].head()"
   ]
  },
  {
   "cell_type": "code",
   "execution_count": 23,
   "metadata": {},
   "outputs": [
    {
     "data": {
      "text/plain": [
       "failed        829\n",
       "successful     11\n",
       "Name: state, dtype: int64"
      ]
     },
     "execution_count": 23,
     "metadata": {},
     "output_type": "execute_result"
    }
   ],
   "source": [
    "kick_classify[kick_classify.usd_goal_real > 1000000].state.value_counts()"
   ]
  },
  {
   "cell_type": "markdown",
   "metadata": {},
   "source": [
    "The next step is to look at the correlation between the numeric variables to determine that there are no highly correlated variables."
   ]
  },
  {
   "cell_type": "code",
   "execution_count": 62,
   "metadata": {},
   "outputs": [
    {
     "data": {
      "text/html": [
       "<div>\n",
       "<style scoped>\n",
       "    .dataframe tbody tr th:only-of-type {\n",
       "        vertical-align: middle;\n",
       "    }\n",
       "\n",
       "    .dataframe tbody tr th {\n",
       "        vertical-align: top;\n",
       "    }\n",
       "\n",
       "    .dataframe thead th {\n",
       "        text-align: right;\n",
       "    }\n",
       "</style>\n",
       "<table border=\"1\" class=\"dataframe\">\n",
       "  <thead>\n",
       "    <tr style=\"text-align: right;\">\n",
       "      <th></th>\n",
       "      <th>ID</th>\n",
       "      <th>goal</th>\n",
       "      <th>pledged</th>\n",
       "      <th>backers</th>\n",
       "      <th>usd pledged</th>\n",
       "      <th>usd_pledged_real</th>\n",
       "      <th>usd_goal_real</th>\n",
       "      <th>duration</th>\n",
       "    </tr>\n",
       "  </thead>\n",
       "  <tbody>\n",
       "    <tr>\n",
       "      <th>ID</th>\n",
       "      <td>1.0000</td>\n",
       "      <td>0.0019</td>\n",
       "      <td>0.0009</td>\n",
       "      <td>0.0008</td>\n",
       "      <td>-0.0003</td>\n",
       "      <td>0.0003</td>\n",
       "      <td>0.0018</td>\n",
       "      <td>0.0028</td>\n",
       "    </tr>\n",
       "    <tr>\n",
       "      <th>goal</th>\n",
       "      <td>0.0019</td>\n",
       "      <td>1.0000</td>\n",
       "      <td>0.0080</td>\n",
       "      <td>0.0048</td>\n",
       "      <td>0.0064</td>\n",
       "      <td>0.0060</td>\n",
       "      <td>0.9526</td>\n",
       "      <td>0.0227</td>\n",
       "    </tr>\n",
       "    <tr>\n",
       "      <th>pledged</th>\n",
       "      <td>0.0009</td>\n",
       "      <td>0.0080</td>\n",
       "      <td>1.0000</td>\n",
       "      <td>0.7173</td>\n",
       "      <td>0.8580</td>\n",
       "      <td>0.9536</td>\n",
       "      <td>0.0057</td>\n",
       "      <td>0.0081</td>\n",
       "    </tr>\n",
       "    <tr>\n",
       "      <th>backers</th>\n",
       "      <td>0.0008</td>\n",
       "      <td>0.0048</td>\n",
       "      <td>0.7173</td>\n",
       "      <td>1.0000</td>\n",
       "      <td>0.6975</td>\n",
       "      <td>0.7523</td>\n",
       "      <td>0.0052</td>\n",
       "      <td>-0.0000</td>\n",
       "    </tr>\n",
       "    <tr>\n",
       "      <th>usd pledged</th>\n",
       "      <td>-0.0003</td>\n",
       "      <td>0.0064</td>\n",
       "      <td>0.8580</td>\n",
       "      <td>0.6975</td>\n",
       "      <td>1.0000</td>\n",
       "      <td>0.9077</td>\n",
       "      <td>0.0070</td>\n",
       "      <td>0.0077</td>\n",
       "    </tr>\n",
       "    <tr>\n",
       "      <th>usd_pledged_real</th>\n",
       "      <td>0.0003</td>\n",
       "      <td>0.0060</td>\n",
       "      <td>0.9536</td>\n",
       "      <td>0.7523</td>\n",
       "      <td>0.9077</td>\n",
       "      <td>1.0000</td>\n",
       "      <td>0.0064</td>\n",
       "      <td>0.0087</td>\n",
       "    </tr>\n",
       "    <tr>\n",
       "      <th>usd_goal_real</th>\n",
       "      <td>0.0018</td>\n",
       "      <td>0.9526</td>\n",
       "      <td>0.0057</td>\n",
       "      <td>0.0052</td>\n",
       "      <td>0.0070</td>\n",
       "      <td>0.0064</td>\n",
       "      <td>1.0000</td>\n",
       "      <td>0.0216</td>\n",
       "    </tr>\n",
       "    <tr>\n",
       "      <th>duration</th>\n",
       "      <td>0.0028</td>\n",
       "      <td>0.0227</td>\n",
       "      <td>0.0081</td>\n",
       "      <td>-0.0000</td>\n",
       "      <td>0.0077</td>\n",
       "      <td>0.0087</td>\n",
       "      <td>0.0216</td>\n",
       "      <td>1.0000</td>\n",
       "    </tr>\n",
       "  </tbody>\n",
       "</table>\n",
       "</div>"
      ],
      "text/plain": [
       "                      ID   goal  pledged  backers  usd pledged  \\\n",
       "ID                1.0000 0.0019   0.0009   0.0008      -0.0003   \n",
       "goal              0.0019 1.0000   0.0080   0.0048       0.0064   \n",
       "pledged           0.0009 0.0080   1.0000   0.7173       0.8580   \n",
       "backers           0.0008 0.0048   0.7173   1.0000       0.6975   \n",
       "usd pledged      -0.0003 0.0064   0.8580   0.6975       1.0000   \n",
       "usd_pledged_real  0.0003 0.0060   0.9536   0.7523       0.9077   \n",
       "usd_goal_real     0.0018 0.9526   0.0057   0.0052       0.0070   \n",
       "duration          0.0028 0.0227   0.0081  -0.0000       0.0077   \n",
       "\n",
       "                  usd_pledged_real  usd_goal_real  duration  \n",
       "ID                          0.0003         0.0018    0.0028  \n",
       "goal                        0.0060         0.9526    0.0227  \n",
       "pledged                     0.9536         0.0057    0.0081  \n",
       "backers                     0.7523         0.0052   -0.0000  \n",
       "usd pledged                 0.9077         0.0070    0.0077  \n",
       "usd_pledged_real            1.0000         0.0064    0.0087  \n",
       "usd_goal_real               0.0064         1.0000    0.0216  \n",
       "duration                    0.0087         0.0216    1.0000  "
      ]
     },
     "execution_count": 62,
     "metadata": {},
     "output_type": "execute_result"
    }
   ],
   "source": [
    "kick_classify.corr()"
   ]
  },
  {
   "cell_type": "code",
   "execution_count": 39,
   "metadata": {},
   "outputs": [
    {
     "data": {
      "image/png": "[encoded data removed]",
      "text/plain": [
       "<Figure size 864x720 with 2 Axes>"
      ]
     },
     "metadata": {
      "needs_background": "light"
     },
     "output_type": "display_data"
    }
   ],
   "source": [
    "plt.figure(figsize=(12,10))\n",
    "sns.heatmap(kick_classify.corr(), cmap='viridis', annot=True);"
   ]
  },
  {
   "cell_type": "code",
   "execution_count": 63,
   "metadata": {},
   "outputs": [
    {
     "data": {
      "text/plain": [
       "ID                    0\n",
       "name                  3\n",
       "category              0\n",
       "main_category         0\n",
       "currency              0\n",
       "deadline              0\n",
       "goal                  0\n",
       "launched              0\n",
       "pledged               0\n",
       "state                 0\n",
       "backers               0\n",
       "country               0\n",
       "usd pledged         210\n",
       "usd_pledged_real      0\n",
       "usd_goal_real         0\n",
       "launched_date         0\n",
       "deadline_date         0\n",
       "duration              0\n",
       "dtype: int64"
      ]
     },
     "execution_count": 63,
     "metadata": {},
     "output_type": "execute_result"
    }
   ],
   "source": [
    "kick_classify.isnull().sum(axis = 0)"
   ]
  },
  {
   "cell_type": "code",
   "execution_count": null,
   "metadata": {},
   "outputs": [],
   "source": []
  },
  {
   "cell_type": "markdown",
   "metadata": {},
   "source": [
    "The only variable containing missing data is the amount of pledged dollars. This confirms that we should remove this column.\n",
    "\n",
    "\n",
    "\n",
    "# Preparing the Data\n"
   ]
  },
  {
   "cell_type": "code",
   "execution_count": 67,
   "metadata": {},
   "outputs": [],
   "source": [
    "kickstarter_variables = kick_classify[['usd_goal_real', 'backers', 'main_category', 'duration', 'currency']]\n",
    "kickstarter_y = pd.get_dummies(data=kickstarter_classify['state'], drop_first=True)"
   ]
  },
  {
   "cell_type": "markdown",
   "metadata": {},
   "source": [
    "The next step in our data processing is to convert the categorical variables to dummy variables using the get_dummies function. "
   ]
  },
  {
   "cell_type": "code",
   "execution_count": 70,
   "metadata": {},
   "outputs": [
    {
     "data": {
      "text/plain": [
       "(331675, 30)"
      ]
     },
     "execution_count": 70,
     "metadata": {},
     "output_type": "execute_result"
    }
   ],
   "source": [
    "kickstarter_x = pd.get_dummies(data=kickstarter_variables, columns=['main_category', 'currency'], drop_first=True)\n",
    "kickstarter_x.shape"
   ]
  },
  {
   "cell_type": "code",
   "execution_count": 125,
   "metadata": {},
   "outputs": [
    {
     "data": {
      "text/html": [
       "<div>\n",
       "<style scoped>\n",
       "    .dataframe tbody tr th:only-of-type {\n",
       "        vertical-align: middle;\n",
       "    }\n",
       "\n",
       "    .dataframe tbody tr th {\n",
       "        vertical-align: top;\n",
       "    }\n",
       "\n",
       "    .dataframe thead th {\n",
       "        text-align: right;\n",
       "    }\n",
       "</style>\n",
       "<table border=\"1\" class=\"dataframe\">\n",
       "  <thead>\n",
       "    <tr style=\"text-align: right;\">\n",
       "      <th></th>\n",
       "      <th>usd_goal_real</th>\n",
       "      <th>backers</th>\n",
       "      <th>duration</th>\n",
       "      <th>main_category_Comics</th>\n",
       "      <th>main_category_Crafts</th>\n",
       "      <th>main_category_Dance</th>\n",
       "      <th>main_category_Design</th>\n",
       "      <th>main_category_Fashion</th>\n",
       "      <th>main_category_Film &amp; Video</th>\n",
       "      <th>main_category_Food</th>\n",
       "      <th>...</th>\n",
       "      <th>currency_EUR</th>\n",
       "      <th>currency_GBP</th>\n",
       "      <th>currency_HKD</th>\n",
       "      <th>currency_JPY</th>\n",
       "      <th>currency_MXN</th>\n",
       "      <th>currency_NOK</th>\n",
       "      <th>currency_NZD</th>\n",
       "      <th>currency_SEK</th>\n",
       "      <th>currency_SGD</th>\n",
       "      <th>currency_USD</th>\n",
       "    </tr>\n",
       "  </thead>\n",
       "  <tbody>\n",
       "    <tr>\n",
       "      <th>0</th>\n",
       "      <td>1533.9500</td>\n",
       "      <td>0</td>\n",
       "      <td>58</td>\n",
       "      <td>0</td>\n",
       "      <td>0</td>\n",
       "      <td>0</td>\n",
       "      <td>0</td>\n",
       "      <td>0</td>\n",
       "      <td>0</td>\n",
       "      <td>0</td>\n",
       "      <td>...</td>\n",
       "      <td>0</td>\n",
       "      <td>1</td>\n",
       "      <td>0</td>\n",
       "      <td>0</td>\n",
       "      <td>0</td>\n",
       "      <td>0</td>\n",
       "      <td>0</td>\n",
       "      <td>0</td>\n",
       "      <td>0</td>\n",
       "      <td>0</td>\n",
       "    </tr>\n",
       "    <tr>\n",
       "      <th>1</th>\n",
       "      <td>30000.0000</td>\n",
       "      <td>15</td>\n",
       "      <td>59</td>\n",
       "      <td>0</td>\n",
       "      <td>0</td>\n",
       "      <td>0</td>\n",
       "      <td>0</td>\n",
       "      <td>0</td>\n",
       "      <td>1</td>\n",
       "      <td>0</td>\n",
       "      <td>...</td>\n",
       "      <td>0</td>\n",
       "      <td>0</td>\n",
       "      <td>0</td>\n",
       "      <td>0</td>\n",
       "      <td>0</td>\n",
       "      <td>0</td>\n",
       "      <td>0</td>\n",
       "      <td>0</td>\n",
       "      <td>0</td>\n",
       "      <td>1</td>\n",
       "    </tr>\n",
       "    <tr>\n",
       "      <th>2</th>\n",
       "      <td>45000.0000</td>\n",
       "      <td>3</td>\n",
       "      <td>44</td>\n",
       "      <td>0</td>\n",
       "      <td>0</td>\n",
       "      <td>0</td>\n",
       "      <td>0</td>\n",
       "      <td>0</td>\n",
       "      <td>1</td>\n",
       "      <td>0</td>\n",
       "      <td>...</td>\n",
       "      <td>0</td>\n",
       "      <td>0</td>\n",
       "      <td>0</td>\n",
       "      <td>0</td>\n",
       "      <td>0</td>\n",
       "      <td>0</td>\n",
       "      <td>0</td>\n",
       "      <td>0</td>\n",
       "      <td>0</td>\n",
       "      <td>1</td>\n",
       "    </tr>\n",
       "    <tr>\n",
       "      <th>3</th>\n",
       "      <td>5000.0000</td>\n",
       "      <td>1</td>\n",
       "      <td>29</td>\n",
       "      <td>0</td>\n",
       "      <td>0</td>\n",
       "      <td>0</td>\n",
       "      <td>0</td>\n",
       "      <td>0</td>\n",
       "      <td>0</td>\n",
       "      <td>0</td>\n",
       "      <td>...</td>\n",
       "      <td>0</td>\n",
       "      <td>0</td>\n",
       "      <td>0</td>\n",
       "      <td>0</td>\n",
       "      <td>0</td>\n",
       "      <td>0</td>\n",
       "      <td>0</td>\n",
       "      <td>0</td>\n",
       "      <td>0</td>\n",
       "      <td>1</td>\n",
       "    </tr>\n",
       "    <tr>\n",
       "      <th>5</th>\n",
       "      <td>50000.0000</td>\n",
       "      <td>224</td>\n",
       "      <td>34</td>\n",
       "      <td>0</td>\n",
       "      <td>0</td>\n",
       "      <td>0</td>\n",
       "      <td>0</td>\n",
       "      <td>0</td>\n",
       "      <td>0</td>\n",
       "      <td>1</td>\n",
       "      <td>...</td>\n",
       "      <td>0</td>\n",
       "      <td>0</td>\n",
       "      <td>0</td>\n",
       "      <td>0</td>\n",
       "      <td>0</td>\n",
       "      <td>0</td>\n",
       "      <td>0</td>\n",
       "      <td>0</td>\n",
       "      <td>0</td>\n",
       "      <td>1</td>\n",
       "    </tr>\n",
       "  </tbody>\n",
       "</table>\n",
       "<p>5 rows × 30 columns</p>\n",
       "</div>"
      ],
      "text/plain": [
       "   usd_goal_real  backers  duration  main_category_Comics  \\\n",
       "0      1533.9500        0        58                     0   \n",
       "1     30000.0000       15        59                     0   \n",
       "2     45000.0000        3        44                     0   \n",
       "3      5000.0000        1        29                     0   \n",
       "5     50000.0000      224        34                     0   \n",
       "\n",
       "   main_category_Crafts  main_category_Dance  main_category_Design  \\\n",
       "0                     0                    0                     0   \n",
       "1                     0                    0                     0   \n",
       "2                     0                    0                     0   \n",
       "3                     0                    0                     0   \n",
       "5                     0                    0                     0   \n",
       "\n",
       "   main_category_Fashion  main_category_Film & Video  main_category_Food  ...  \\\n",
       "0                      0                           0                   0  ...   \n",
       "1                      0                           1                   0  ...   \n",
       "2                      0                           1                   0  ...   \n",
       "3                      0                           0                   0  ...   \n",
       "5                      0                           0                   1  ...   \n",
       "\n",
       "   currency_EUR  currency_GBP  currency_HKD  currency_JPY  currency_MXN  \\\n",
       "0             0             1             0             0             0   \n",
       "1             0             0             0             0             0   \n",
       "2             0             0             0             0             0   \n",
       "3             0             0             0             0             0   \n",
       "5             0             0             0             0             0   \n",
       "\n",
       "   currency_NOK  currency_NZD  currency_SEK  currency_SGD  currency_USD  \n",
       "0             0             0             0             0             0  \n",
       "1             0             0             0             0             1  \n",
       "2             0             0             0             0             1  \n",
       "3             0             0             0             0             1  \n",
       "5             0             0             0             0             1  \n",
       "\n",
       "[5 rows x 30 columns]"
      ]
     },
     "execution_count": 125,
     "metadata": {},
     "output_type": "execute_result"
    }
   ],
   "source": [
    "kickstarter_x.head()"
   ]
  },
  {
   "cell_type": "markdown",
   "metadata": {},
   "source": [
    "Using the head function shows us that we have increased the number of columns from the 5 that we initially selected to 30 columns total.\n",
    "\n",
    "The final step in the processing phase is to separate the data into test and train datasets.  We randomly select 80% of the data for the training dataset and the remaining 20% is used for the test dataset."
   ]
  },
  {
   "cell_type": "code",
   "execution_count": 81,
   "metadata": {},
   "outputs": [],
   "source": [
    "from sklearn.model_selection import train_test_split\n",
    "\n",
    "X_train, X_test, y_train, y_test = train_test_split(kickstarter_x, kickstarter_y, test_size=0.2)"
   ]
  },
  {
   "cell_type": "markdown",
   "metadata": {},
   "source": [
    "# Creating the Model\n",
    "\n",
    "Since this is a classification problem, there are a number of algorithms at our disposal. Logistic regression is a good choice for our problem. Another good choice is random forest. SVM is also a suitable option for this type of problem.\n",
    "\n",
    "**Logistic Regression**\n",
    "\n",
    "First we generate our model and then we will proceed to evaluate it."
   ]
  },
  {
   "cell_type": "code",
   "execution_count": 84,
   "metadata": {},
   "outputs": [
    {
     "name": "stderr",
     "output_type": "stream",
     "text": [
      "/miniconda3/envs/diamonds/lib/python3.7/site-packages/sklearn/utils/validation.py:724: DataConversionWarning: A column-vector y was passed when a 1d array was expected. Please change the shape of y to (n_samples, ), for example using ravel().\n",
      "  y = column_or_1d(y, warn=True)\n"
     ]
    }
   ],
   "source": [
    "from sklearn.linear_model import LogisticRegression\n",
    "\n",
    "#y_train=y_train.reshape(len(y_train),)\n",
    "\n",
    "ks_model = LogisticRegression(solver='lbfgs', max_iter=200).fit(X_train, y_train)"
   ]
  },
  {
   "cell_type": "code",
   "execution_count": 85,
   "metadata": {},
   "outputs": [
    {
     "data": {
      "text/plain": [
       "LogisticRegression(C=1.0, class_weight=None, dual=False, fit_intercept=True,\n",
       "                   intercept_scaling=1, l1_ratio=None, max_iter=200,\n",
       "                   multi_class='warn', n_jobs=None, penalty='l2',\n",
       "                   random_state=None, solver='lbfgs', tol=0.0001, verbose=0,\n",
       "                   warm_start=False)"
      ]
     },
     "execution_count": 85,
     "metadata": {},
     "output_type": "execute_result"
    }
   ],
   "source": [
    "ks_model #Parameters"
   ]
  },
  {
   "cell_type": "markdown",
   "metadata": {},
   "source": [
    "One way to evaluate the model is using a confusion matrix. The confusion matrix specifies how many observations were correctly classified and how many were incorrectly classified.\n",
    "\n"
   ]
  },
  {
   "cell_type": "code",
   "execution_count": 87,
   "metadata": {},
   "outputs": [],
   "source": [
    "y_pred_test = ks_model.predict(X_test)"
   ]
  },
  {
   "cell_type": "code",
   "execution_count": 89,
   "metadata": {},
   "outputs": [
    {
     "data": {
      "text/plain": [
       "array([1, 1, 0, 1, 1, 0, 0, 0, 0, 0], dtype=uint8)"
      ]
     },
     "execution_count": 89,
     "metadata": {},
     "output_type": "execute_result"
    }
   ],
   "source": [
    "y_pred_test[:10]"
   ]
  },
  {
   "cell_type": "code",
   "execution_count": 98,
   "metadata": {},
   "outputs": [
    {
     "data": {
      "text/plain": [
       "[array([1], dtype=uint8),\n",
       " array([1], dtype=uint8),\n",
       " array([1], dtype=uint8),\n",
       " array([1], dtype=uint8),\n",
       " array([1], dtype=uint8),\n",
       " array([0], dtype=uint8),\n",
       " array([0], dtype=uint8),\n",
       " array([0], dtype=uint8),\n",
       " array([0], dtype=uint8),\n",
       " array([0], dtype=uint8)]"
      ]
     },
     "execution_count": 98,
     "metadata": {},
     "output_type": "execute_result"
    }
   ],
   "source": [
    "list(y_test[:10].values)"
   ]
  },
  {
   "cell_type": "code",
   "execution_count": 106,
   "metadata": {},
   "outputs": [
    {
     "data": {
      "text/plain": [
       "<matplotlib.axes._subplots.AxesSubplot at 0x12296ae48>"
      ]
     },
     "execution_count": 106,
     "metadata": {},
     "output_type": "execute_result"
    },
    {
     "data": {
      "image/png": "[encoded data removed]",
      "text/plain": [
       "<Figure size 432x288 with 2 Axes>"
      ]
     },
     "metadata": {
      "needs_background": "light"
     },
     "output_type": "display_data"
    }
   ],
   "source": [
    "matrix_pred = confusion_matrix(y_test, y_pred_test)\n",
    "\n",
    "matrix_per = matrix_pred/len(y_test)\n",
    "\n",
    "sns.heatmap(matrix_per, annot=True)"
   ]
  },
  {
   "cell_type": "code",
   "execution_count": 107,
   "metadata": {},
   "outputs": [
    {
     "data": {
      "image/png": "[encoded data removed]",
      "text/plain": [
       "<Figure size 432x288 with 1 Axes>"
      ]
     },
     "metadata": {
      "needs_background": "light"
     },
     "output_type": "display_data"
    }
   ],
   "source": [
    "import warnings\n",
    "warnings.filterwarnings(\"ignore\", category=RuntimeWarning) \n",
    "\n",
    "from sklearn import metrics\n",
    "\n",
    "y_pred_proba = ks_model.predict_proba(X_test)[::,1]\n",
    "fpr, tpr, _ = metrics.roc_curve(y_test,  y_pred_proba)\n",
    "auc = metrics.roc_auc_score(y_test, y_pred_proba)\n",
    "\n",
    "plt.plot(fpr,tpr);"
   ]
  },
  {
   "cell_type": "code",
   "execution_count": 108,
   "metadata": {},
   "outputs": [
    {
     "data": {
      "text/plain": [
       "array([9.99179495e-001, 9.99997557e-001, 1.24891974e-002, ...,\n",
       "       6.80711423e-100, 1.07299891e-001, 9.66796953e-001])"
      ]
     },
     "execution_count": 108,
     "metadata": {},
     "output_type": "execute_result"
    }
   ],
   "source": [
    "y_pred_proba"
   ]
  },
  {
   "cell_type": "code",
   "execution_count": 32,
   "metadata": {},
   "outputs": [
    {
     "data": {
      "text/plain": [
       "0.9568587216249149"
      ]
     },
     "execution_count": 32,
     "metadata": {},
     "output_type": "execute_result"
    }
   ],
   "source": [
    "auc"
   ]
  },
  {
   "cell_type": "markdown",
   "metadata": {},
   "source": [
    "The area under the curve is over 0.95. This is a decent number, but perhaps we could do better with a different algorithm.\n",
    "\n",
    "\n",
    "**Random Forest**\n",
    "\n",
    "Random forest is an ensemble algorithm. This means that it resamples the data multiple times and generates a decision tree from each sample. We then think of the trees as a group of algorithms. We base our decision on the outcome of the majority of algorithms in the ensemble."
   ]
  },
  {
   "cell_type": "code",
   "execution_count": 109,
   "metadata": {},
   "outputs": [
    {
     "name": "stderr",
     "output_type": "stream",
     "text": [
      "/miniconda3/envs/diamonds/lib/python3.7/site-packages/ipykernel_launcher.py:3: DataConversionWarning: A column-vector y was passed when a 1d array was expected. Please change the shape of y to (n_samples,), for example using ravel().\n",
      "  This is separate from the ipykernel package so we can avoid doing imports until\n"
     ]
    }
   ],
   "source": [
    "from sklearn.ensemble import RandomForestClassifier\n",
    "\n",
    "ks_rf = RandomForestClassifier(n_estimators=100).fit(X_train, y_train)"
   ]
  },
  {
   "cell_type": "code",
   "execution_count": 110,
   "metadata": {},
   "outputs": [
    {
     "data": {
      "text/plain": [
       "RandomForestClassifier(bootstrap=True, class_weight=None, criterion='gini',\n",
       "                       max_depth=None, max_features='auto', max_leaf_nodes=None,\n",
       "                       min_impurity_decrease=0.0, min_impurity_split=None,\n",
       "                       min_samples_leaf=1, min_samples_split=2,\n",
       "                       min_weight_fraction_leaf=0.0, n_estimators=100,\n",
       "                       n_jobs=None, oob_score=False, random_state=None,\n",
       "                       verbose=0, warm_start=False)"
      ]
     },
     "execution_count": 110,
     "metadata": {},
     "output_type": "execute_result"
    }
   ],
   "source": [
    "ks_rf"
   ]
  },
  {
   "cell_type": "markdown",
   "metadata": {},
   "source": [
    "Here is our confusion matrix:"
   ]
  },
  {
   "cell_type": "code",
   "execution_count": 111,
   "metadata": {},
   "outputs": [
    {
     "data": {
      "text/plain": [
       "array([[36862,  2604],\n",
       "       [ 2404, 24465]])"
      ]
     },
     "execution_count": 111,
     "metadata": {},
     "output_type": "execute_result"
    }
   ],
   "source": [
    "y_pred_test_rf = ks_rf.predict(X_test)\n",
    "confusion_matrix(y_test, y_pred_test_rf)"
   ]
  },
  {
   "cell_type": "code",
   "execution_count": 112,
   "metadata": {},
   "outputs": [
    {
     "data": {
      "text/plain": [
       "<matplotlib.axes._subplots.AxesSubplot at 0x122367a20>"
      ]
     },
     "execution_count": 112,
     "metadata": {},
     "output_type": "execute_result"
    },
    {
     "data": {
      "image/png": "[encoded data removed]",
      "text/plain": [
       "<Figure size 432x288 with 2 Axes>"
      ]
     },
     "metadata": {
      "needs_background": "light"
     },
     "output_type": "display_data"
    }
   ],
   "source": [
    "# Matrix with Random forest\n",
    "\n",
    "matrix_pred_random = confusion_matrix(y_test, y_pred_test_rf)\n",
    "\n",
    "matrix_per_random = matrix_pred_random/len(y_test)\n",
    "\n",
    "sns.heatmap(matrix_per_random, annot=True)"
   ]
  },
  {
   "cell_type": "code",
   "execution_count": 113,
   "metadata": {},
   "outputs": [
    {
     "data": {
      "text/plain": [
       "<matplotlib.axes._subplots.AxesSubplot at 0x122501a58>"
      ]
     },
     "execution_count": 113,
     "metadata": {},
     "output_type": "execute_result"
    },
    {
     "data": {
      "image/png": "[encoded data removed]",
      "text/plain": [
       "<Figure size 432x288 with 2 Axes>"
      ]
     },
     "metadata": {
      "needs_background": "light"
     },
     "output_type": "display_data"
    }
   ],
   "source": [
    "# Matrix with Logistic Regression\n",
    "\n",
    "sns.heatmap(matrix_per, annot=True)"
   ]
  },
  {
   "cell_type": "markdown",
   "metadata": {},
   "source": [
    "Let's plot the ROC curve for the random forest that we have generated."
   ]
  },
  {
   "cell_type": "code",
   "execution_count": 123,
   "metadata": {},
   "outputs": [
    {
     "data": {
      "image/png": "[encoded data removed]",
      "text/plain": [
       "<Figure size 432x288 with 1 Axes>"
      ]
     },
     "metadata": {
      "needs_background": "light"
     },
     "output_type": "display_data"
    }
   ],
   "source": [
    "y_pred_proba_rf = ks_rf.predict_proba(X_test)[::,1]\n",
    "fpr, tpr, _ = metrics.roc_curve(y_test,  y_pred_proba_rf)\n",
    "auc = metrics.roc_auc_score(y_test, y_pred_proba_rf)\n",
    "\n",
    "plt.plot(fpr,tpr);"
   ]
  },
  {
   "cell_type": "code",
   "execution_count": 124,
   "metadata": {},
   "outputs": [
    {
     "data": {
      "text/plain": [
       "0.975351951756666"
      ]
     },
     "execution_count": 124,
     "metadata": {},
     "output_type": "execute_result"
    }
   ],
   "source": [
    "auc"
   ]
  },
  {
   "cell_type": "markdown",
   "metadata": {},
   "source": [
    "While our AUC was already high, we have improved the score using the random forest algorithm."
   ]
  }
 ],
 "metadata": {
  "kernelspec": {
   "display_name": "Python 3",
   "language": "python",
   "name": "python3"
  },
  "language_info": {
   "codemirror_mode": {
    "name": "ipython",
    "version": 3
   },
   "file_extension": ".py",
   "mimetype": "text/x-python",
   "name": "python",
   "nbconvert_exporter": "python",
   "pygments_lexer": "ipython3",
   "version": "3.6.8"
  }
 },
 "nbformat": 4,
 "nbformat_minor": 2
}
