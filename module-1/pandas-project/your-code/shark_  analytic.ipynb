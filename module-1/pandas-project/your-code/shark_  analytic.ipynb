{
 "cells": [
  {
   "cell_type": "code",
   "execution_count": 1,
   "metadata": {},
   "outputs": [],
   "source": [
    "import pandas as pd\n",
    "import numpy as np"
   ]
  },
  {
   "cell_type": "code",
   "execution_count": 2,
   "metadata": {},
   "outputs": [
    {
     "name": "stdout",
     "output_type": "stream",
     "text": [
      "Empezamos el analisis una vez con el dataset lo mas limpio posible\n"
     ]
    }
   ],
   "source": [
    "print(\"Empezamos el analisis una vez con el dataset lo mas limpio posible\")\n",
    "dataset = pd.read_csv(\"./output/clean.csv\") # D\n"
   ]
  },
  {
   "cell_type": "code",
   "execution_count": 3,
   "metadata": {},
   "outputs": [
    {
     "name": "stdout",
     "output_type": "stream",
     "text": [
      "En primer lugar hago una comparación con los accidentes Fatales \n",
      "Accidentes con muertes: 1563\n",
      "Accidentes sin muertes: 4331\n",
      "Accidentes desconocidos: 98\n"
     ]
    },
    {
     "data": {
      "text/plain": [
       "<matplotlib.axes._subplots.AxesSubplot at 0x117eca208>"
      ]
     },
     "metadata": {},
     "output_type": "display_data"
    },
    {
     "data": {
      "text/plain": [
       "<matplotlib.axes._subplots.AxesSubplot at 0x117eca208>"
      ]
     },
     "metadata": {},
     "output_type": "display_data"
    }
   ],
   "source": [
    "print(\"En primer lugar hago una comparación con los accidentes Fatales \")\n",
    "\n",
    "\n",
    "\n",
    "filtered_no_fatal =  dataset[ (dataset.fatal == \"N\" )]\n",
    "filtered_fatal =  dataset[ (dataset.fatal == \"Y\" )]\n",
    "filtered_unknown =  dataset[ (dataset.fatal == \"UNKNOWN\" )]\n",
    "                \n",
    "print(\"Accidentes con muertes: \" + str(filtered_fatal.fatal.count()))\n",
    "print(\"Accidentes sin muertes: \" + str(filtered_no_fatal.fatal.count()))\n",
    "print(\"Accidentes desconocidos: \" + str(filtered_unknown.fatal.count()))\n",
    "\n",
    "display(filtered_no_fatal.fatal.hist(color=\"#BD544B\"))                         \n",
    "display(filtered_fatal.fatal.hist(color=\"#C8FAC8\"))\n",
    "\n",
    "                          \n",
    "\n",
    "                             \n",
    "                             "
   ]
  },
  {
   "cell_type": "code",
   "execution_count": 4,
   "metadata": {
    "scrolled": true
   },
   "outputs": [
    {
     "name": "stdout",
     "output_type": "stream",
     "text": [
      "En primer lugar se va analizar los accidentesviendo en que periodos del año se producen mas. \n"
     ]
    },
    {
     "data": {
      "text/plain": [
       "<matplotlib.axes._subplots.AxesSubplot at 0x118148978>"
      ]
     },
     "metadata": {},
     "output_type": "display_data"
    },
    {
     "data": {
      "text/plain": [
       "<matplotlib.axes._subplots.AxesSubplot at 0x118148978>"
      ]
     },
     "metadata": {},
     "output_type": "display_data"
    },
    {
     "name": "stdout",
     "output_type": "stream",
     "text": [
      "Se observa que donde se produce mas accidentes es en verano tanto mortales como no mortales, aunque en mortales es parecido a las demas estaciones.\n"
     ]
    },
    {
     "data": {
      "image/png": "[encoded data removed]",
      "text/plain": [
       "<Figure size 432x288 with 1 Axes>"
      ]
     },
     "metadata": {
      "needs_background": "light"
     },
     "output_type": "display_data"
    }
   ],
   "source": [
    "print(\"En primer lugar se va analizar los accidentesviendo en que periodos del año se producen mas. \")\n",
    "\n",
    "\n",
    "\n",
    "\n",
    "filtered_fatal_season = filtered_fatal[( filtered_fatal.season != \"UNKNOWN\"  )]\n",
    "filtered_no_fatal_season = filtered_no_fatal[( filtered_no_fatal.season != \"UNKNOWN\"  )]\n",
    "\n",
    "display(filtered_no_fatal_season.season.hist(color=\"#C8FAC8\"))\n",
    "display(filtered_fatal_season.season.hist(color=\"#BD544B\")) #rojo \n",
    "\n",
    "print(\"Se observa que donde se produce mas accidentes es en verano tanto mortales como no mortales, aunque en mortales \\\n",
    "es parecido a las demas estaciones.\")\n",
    "\n",
    "\n",
    "\n"
   ]
  },
  {
   "cell_type": "code",
   "execution_count": 5,
   "metadata": {},
   "outputs": [
    {
     "name": "stdout",
     "output_type": "stream",
     "text": [
      "Siendo mas detallistas vamos hacer la comparación con los meses del año.\n"
     ]
    },
    {
     "data": {
      "text/plain": [
       "<matplotlib.axes._subplots.AxesSubplot at 0x1182cddd8>"
      ]
     },
     "metadata": {},
     "output_type": "display_data"
    },
    {
     "data": {
      "text/plain": [
       "<matplotlib.axes._subplots.AxesSubplot at 0x1182cddd8>"
      ]
     },
     "metadata": {},
     "output_type": "display_data"
    },
    {
     "name": "stdout",
     "output_type": "stream",
     "text": [
      "Se pued eobseervar que los meses con mayores accidenes es septiembre, tanto mortales como no mortales.\n"
     ]
    },
    {
     "data": {
      "image/png": "[encoded data removed]",
      "text/plain": [
       "<Figure size 432x288 with 1 Axes>"
      ]
     },
     "metadata": {
      "needs_background": "light"
     },
     "output_type": "display_data"
    }
   ],
   "source": [
    "print(\"Siendo mas detallistas vamos hacer la comparación con los meses del año.\")\n",
    "\n",
    "filtered_fatal_month = filtered_fatal[( filtered_fatal.month != \"UNKNOWN\"  )]\n",
    "filtered_no_fatal_month = filtered_no_fatal[( filtered_no_fatal.month != \"UNKNOWN\"  )]\n",
    "\n",
    "display(filtered_no_fatal_month.month.hist(color=\"#C8FAC8\"))\n",
    "display(filtered_fatal_month.month.hist(color=\"#BD544B\"))\n",
    "\n",
    "print(\"Se pued eobseervar que los meses con mayores accidenes es septiembre, tanto mortales como no mortales.\")\n"
   ]
  },
  {
   "cell_type": "code",
   "execution_count": 6,
   "metadata": {
    "scrolled": true
   },
   "outputs": [
    {
     "name": "stdout",
     "output_type": "stream",
     "text": [
      "Una vez establecido en que epocas del año hay mas accidentes, es hora de averiguar las actividades que hacen.\n"
     ]
    },
    {
     "data": {
      "text/plain": [
       "<matplotlib.axes._subplots.AxesSubplot at 0x1184ae240>"
      ]
     },
     "metadata": {},
     "output_type": "display_data"
    },
    {
     "data": {
      "text/plain": [
       "<matplotlib.axes._subplots.AxesSubplot at 0x1184ae240>"
      ]
     },
     "metadata": {},
     "output_type": "display_data"
    },
    {
     "name": "stdout",
     "output_type": "stream",
     "text": [
      "See puede ver que donde hay mas accidentes es surfeando y pescando, sin embargo, donde hay mas mortales es nadando, uno de los motivos puede ser que no tengan superficie la que apoyarse cuando son atacados.\n"
     ]
    },
    {
     "data": {
      "image/png": "[encoded data removed]",
      "text/plain": [
       "<Figure size 432x288 with 1 Axes>"
      ]
     },
     "metadata": {
      "needs_background": "light"
     },
     "output_type": "display_data"
    }
   ],
   "source": [
    "print(\"Una vez establecido en que epocas del año hay mas accidentes, es hora de averiguar las actividades que hacen.\")\n",
    "\n",
    "filtered_fatal_activity = filtered_fatal[( filtered_fatal.activity != \"UNKNOWN\"  )]\n",
    "filtered_no_fatal_activity = filtered_no_fatal[( filtered_no_fatal.activity != \"UNKNOWN\"  )]\n",
    "\n",
    "display(filtered_no_fatal_activity.activity.hist(color=\"#C8FAC8\"))\n",
    "display(filtered_fatal_activity.activity.hist(color=\"#BD544B\"))\n",
    "\n",
    "print(\"See puede ver que donde hay mas accidentes es surfeando y pescando, sin embargo, donde hay mas mortales es \\\n",
    "nadando, uno de los motivos puede ser que no tengan superficie la que apoyarse cuando son atacados.\")\n",
    "\n"
   ]
  },
  {
   "cell_type": "code",
   "execution_count": 7,
   "metadata": {},
   "outputs": [
    {
     "name": "stdout",
     "output_type": "stream",
     "text": [
      "Una vez mirado las las actividades voy a ver en que genero hay más accidentes.\n"
     ]
    },
    {
     "data": {
      "text/plain": [
       "<matplotlib.axes._subplots.AxesSubplot at 0x118597ef0>"
      ]
     },
     "metadata": {},
     "output_type": "display_data"
    },
    {
     "data": {
      "text/plain": [
       "<matplotlib.axes._subplots.AxesSubplot at 0x118597ef0>"
      ]
     },
     "metadata": {},
     "output_type": "display_data"
    },
    {
     "name": "stdout",
     "output_type": "stream",
     "text": [
      "Mostrando una comparativa, see puede ver que donde hay mas accidentes es en los honbres tanto mortales como no mortales.\n"
     ]
    },
    {
     "data": {
      "image/png": "[encoded data removed]",
      "text/plain": [
       "<Figure size 432x288 with 1 Axes>"
      ]
     },
     "metadata": {
      "needs_background": "light"
     },
     "output_type": "display_data"
    }
   ],
   "source": [
    "print(\"Una vez mirado las las actividades voy a ver en que genero hay más accidentes.\")\n",
    "\n",
    "\n",
    "\n",
    "filtered_fatal_sex = filtered_fatal[( filtered_fatal.sex != \"UNKNOWN\"  )]\n",
    "filtered_no_fatal_sex = filtered_no_fatal[( filtered_no_fatal.sex != \"UNKNOWN\"  )]\n",
    "\n",
    "display(filtered_no_fatal_sex.sex.hist(color=\"#C8FAC8\"))\n",
    "display(filtered_fatal_sex.sex.hist(color=\"#BD544B\"))\n",
    "\n",
    "print(\"Mostrando una comparativa, see puede ver que donde hay mas accidentes es en los honbres tanto mortales como \\\n",
    "no mortales.\")"
   ]
  },
  {
   "cell_type": "code",
   "execution_count": 8,
   "metadata": {},
   "outputs": [
    {
     "name": "stdout",
     "output_type": "stream",
     "text": [
      "Se puede obvervar que los accidentes mortales se dan mas en el mar y sin provocar.\n"
     ]
    },
    {
     "data": {
      "text/plain": [
       "<matplotlib.axes._subplots.AxesSubplot at 0x1187b0e80>"
      ]
     },
     "metadata": {},
     "output_type": "display_data"
    },
    {
     "data": {
      "text/plain": [
       "<matplotlib.axes._subplots.AxesSubplot at 0x1187b0e80>"
      ]
     },
     "metadata": {},
     "output_type": "display_data"
    },
    {
     "data": {
      "image/png": "[encoded data removed]",
      "text/plain": [
       "<Figure size 432x288 with 1 Axes>"
      ]
     },
     "metadata": {
      "needs_background": "light"
     },
     "output_type": "display_data"
    }
   ],
   "source": [
    "print(\"Se puede obvervar que los accidentes mortales se dan mas en el mar y sin provocar.\")\n",
    "\n",
    "filtered_fatal_type = filtered_fatal[( filtered_fatal.type != \"UNKNOWN\"  )]\n",
    "filtered_no_fatal_type = filtered_no_fatal[( filtered_no_fatal.type != \"UNKNOWN\"  )]\n",
    "\n",
    "display(filtered_no_fatal_type.type.hist(color=\"#C8FAC8\"))\n",
    "display(filtered_fatal_type.type.hist(color=\"#BD544B\"))\n"
   ]
  },
  {
   "cell_type": "code",
   "execution_count": 9,
   "metadata": {},
   "outputs": [
    {
     "name": "stdout",
     "output_type": "stream",
     "text": [
      "A continuación voy a hacer un estudio de que tiburones dan mas accidentes\n"
     ]
    },
    {
     "data": {
      "text/plain": [
       "<matplotlib.axes._subplots.AxesSubplot at 0x118971860>"
      ]
     },
     "metadata": {},
     "output_type": "display_data"
    },
    {
     "data": {
      "text/plain": [
       "<matplotlib.axes._subplots.AxesSubplot at 0x118971860>"
      ]
     },
     "metadata": {},
     "output_type": "display_data"
    },
    {
     "name": "stdout",
     "output_type": "stream",
     "text": [
      "Se puede ver que los tiburones mas mortales son white,tigeer y bull, además de los quee dan más accidentes.\n"
     ]
    },
    {
     "data": {
      "image/png": "[encoded data removed]",
      "text/plain": [
       "<Figure size 720x504 with 1 Axes>"
      ]
     },
     "metadata": {
      "needs_background": "light"
     },
     "output_type": "display_data"
    }
   ],
   "source": [
    "print(\"A continuación voy a hacer un estudio de que tiburones dan mas accidentes\")\n",
    "\n",
    "filtered_fatal_species = filtered_fatal[( filtered_fatal.species != \"UNKNOWN\"  )]\n",
    "filtered_no_fatal_species = filtered_no_fatal[( filtered_no_fatal.species != \"UNKNOWN\"  )]\n",
    "\n",
    "display(filtered_no_fatal_species.species.hist(color=\"#C8FAC8\",figsize = (10,7)))\n",
    "display(filtered_fatal_species.species.hist(color=\"#BD544B\",figsize = (10,7)))\n",
    "\n",
    "\n",
    "print(\"Se puede ver que los tiburones mas mortales son white,tigeer y bull, además de los quee dan más accidentes.\")"
   ]
  },
  {
   "cell_type": "code",
   "execution_count": 21,
   "metadata": {},
   "outputs": [
    {
     "name": "stdout",
     "output_type": "stream",
     "text": [
      "A continuación voy a hacer un estudio de en que rango de edades hay mas accidentes\n"
     ]
    },
    {
     "data": {
      "text/plain": [
       "<matplotlib.axes._subplots.AxesSubplot at 0x1182cdfd0>"
      ]
     },
     "metadata": {},
     "output_type": "display_data"
    },
    {
     "data": {
      "text/plain": [
       "<matplotlib.axes._subplots.AxesSubplot at 0x1182cdfd0>"
      ]
     },
     "metadata": {},
     "output_type": "display_data"
    },
    {
     "name": "stdout",
     "output_type": "stream",
     "text": [
      "Se puede ver que las edades donde hay mas muertes seria en un rango de 10-30 además de donde hay mas accidentes\n"
     ]
    },
    {
     "data": {
      "image/png": "[encoded data removed]",
      "text/plain": [
       "<Figure size 720x504 with 1 Axes>"
      ]
     },
     "metadata": {
      "needs_background": "light"
     },
     "output_type": "display_data"
    }
   ],
   "source": [
    "print(\"A continuación voy a hacer un estudio de en que rango de edades hay mas accidentes\")\n",
    "\n",
    "filtered_fatal_age = filtered_fatal[( filtered_fatal.range_age != \"UNKNOWN\"  )]\n",
    "filtered_fatal_age = filtered_fatal_age.sort_values(by ='age' )\n",
    "\n",
    "filtered_no_fatal_age = filtered_no_fatal[( filtered_no_fatal.range_age != \"UNKNOWN\"  )]\n",
    "filtered_no_fatal_age = filtered_no_fatal_age.sort_values(by ='age' )\n",
    "\n",
    "\n",
    "\n",
    "display(filtered_no_fatal_age.range_age.hist(color=\"#C8FAC8\",figsize = (10,7)))\n",
    "display(filtered_fatal_age.range_age.hist(color=\"#BD544B\",figsize = (10,7)))\n",
    "print(\"Se puede ver que las edades donde hay mas muertes seria en un rango de 10-30 además de donde hay mas accidentes\")\n"
   ]
  },
  {
   "cell_type": "code",
   "execution_count": null,
   "metadata": {},
   "outputs": [],
   "source": []
  },
  {
   "cell_type": "code",
   "execution_count": null,
   "metadata": {},
   "outputs": [],
   "source": []
  }
 ],
 "metadata": {
  "kernelspec": {
   "display_name": "Python 3",
   "language": "python",
   "name": "python3"
  },
  "language_info": {
   "codemirror_mode": {
    "name": "ipython",
    "version": 3
   },
   "file_extension": ".py",
   "mimetype": "text/x-python",
   "name": "python",
   "nbconvert_exporter": "python",
   "pygments_lexer": "ipython3",
   "version": "3.7.3"
  }
 },
 "nbformat": 4,
 "nbformat_minor": 2
}
