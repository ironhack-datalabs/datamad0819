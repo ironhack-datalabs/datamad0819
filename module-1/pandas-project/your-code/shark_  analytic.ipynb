{
 "cells": [
  {
   "cell_type": "code",
   "execution_count": 1,
   "metadata": {},
   "outputs": [],
   "source": [
    "import pandas as pd\n",
    "import numpy as np"
   ]
  },
  {
   "cell_type": "code",
   "execution_count": 2,
   "metadata": {},
   "outputs": [
    {
     "name": "stdout",
     "output_type": "stream",
     "text": [
      "Empezamos el analisis una vez con el dataset lo mas limpio posible\n"
     ]
    }
   ],
   "source": [
    "print(\"Empezamos el analisis una vez con el dataset lo mas limpio posible\")\n",
    "dataset = pd.read_csv(\"./output/clean.csv\") # D\n"
   ]
  },
  {
   "cell_type": "code",
   "execution_count": 3,
   "metadata": {},
   "outputs": [
    {
     "name": "stdout",
     "output_type": "stream",
     "text": [
      "En primer lugar hago una comparación con los accidentes Fatales \n",
      "Accidentes con muertes: 1563\n",
      "Accidentes sin muertes: 4331\n",
      "Accidentes desconocidos: 98\n"
     ]
    },
    {
     "data": {
      "text/plain": [
       "<matplotlib.axes._subplots.AxesSubplot at 0x118a6fef0>"
      ]
     },
     "metadata": {},
     "output_type": "display_data"
    },
    {
     "data": {
      "text/plain": [
       "<matplotlib.axes._subplots.AxesSubplot at 0x118a6fef0>"
      ]
     },
     "metadata": {},
     "output_type": "display_data"
    }
   ],
   "source": [
    "print(\"En primer lugar hago una comparación con los accidentes Fatales \")\n",
    "\n",
    "\n",
    "\n",
    "filtered_no_fatal =  dataset[ (dataset.fatal == \"N\" )]\n",
    "filtered_fatal =  dataset[ (dataset.fatal == \"Y\" )]\n",
    "filtered_unknown =  dataset[ (dataset.fatal == \"UNKNOWN\" )]\n",
    "                \n",
    "print(\"Accidentes con muertes: \" + str(filtered_fatal.fatal.count()))\n",
    "print(\"Accidentes sin muertes: \" + str(filtered_no_fatal.fatal.count()))\n",
    "print(\"Accidentes desconocidos: \" + str(filtered_unknown.fatal.count()))\n",
    "\n",
    "display(filtered_no_fatal.fatal.hist(color=\"#BD544B\"))                         \n",
    "display(filtered_fatal.fatal.hist(color=\"#C8FAC8\"))\n",
    "\n",
    "                          \n",
    "\n",
    "                             \n",
    "                             "
   ]
  },
  {
   "cell_type": "code",
   "execution_count": 4,
   "metadata": {
    "scrolled": true
   },
   "outputs": [
    {
     "name": "stdout",
     "output_type": "stream",
     "text": [
      "En primer lugar se va analizar los accidentesviendo en que periodos del año se producen mas. \n"
     ]
    },
    {
     "data": {
      "text/plain": [
       "<matplotlib.axes._subplots.AxesSubplot at 0x118d0a748>"
      ]
     },
     "metadata": {},
     "output_type": "display_data"
    },
    {
     "data": {
      "text/plain": [
       "<matplotlib.axes._subplots.AxesSubplot at 0x118d0a748>"
      ]
     },
     "metadata": {},
     "output_type": "display_data"
    },
    {
     "name": "stdout",
     "output_type": "stream",
     "text": [
      "Se observa que donde se produce mas accidentes es en verano tanto mortales como no mortales, aunque en mortales es parecido a las demas estaciones.\n"
     ]
    },
    {
     "data": {
      "image/png": "[encoded data removed]",
      "text/plain": [
       "<Figure size 432x288 with 1 Axes>"
      ]
     },
     "metadata": {
      "needs_background": "light"
     },
     "output_type": "display_data"
    }
   ],
   "source": [
    "print(\"En primer lugar se va analizar los accidentesviendo en que periodos del año se producen mas. \")\n",
    "\n",
    "\n",
    "\n",
    "\n",
    "filtered_fatal_season = filtered_fatal[( filtered_fatal.season != \"UNKNOWN\"  )]\n",
    "filtered_no_fatal_season = filtered_no_fatal[( filtered_no_fatal.season != \"UNKNOWN\"  )]\n",
    "\n",
    "display(filtered_no_fatal_season.season.hist(color=\"#C8FAC8\"))\n",
    "display(filtered_fatal_season.season.hist(color=\"#BD544B\")) #rojo \n",
    "\n",
    "print(\"Se observa que donde se produce mas accidentes es en verano tanto mortales como no mortales, aunque en mortales \\\n",
    "es parecido a las demas estaciones.\")\n",
    "\n",
    "\n",
    "\n"
   ]
  },
  {
   "cell_type": "code",
   "execution_count": 5,
   "metadata": {},
   "outputs": [
    {
     "name": "stdout",
     "output_type": "stream",
     "text": [
      "Siendo mas detallistas vamos hacer la comparación con los meses del año.\n"
     ]
    },
    {
     "data": {
      "text/plain": [
       "<matplotlib.axes._subplots.AxesSubplot at 0x118ed0160>"
      ]
     },
     "metadata": {},
     "output_type": "display_data"
    },
    {
     "data": {
      "text/plain": [
       "<matplotlib.axes._subplots.AxesSubplot at 0x118ed0160>"
      ]
     },
     "metadata": {},
     "output_type": "display_data"
    },
    {
     "name": "stdout",
     "output_type": "stream",
     "text": [
      "Se pued eobseervar que los meses con mayores accidenes es septiembre, tanto mortales como no mortales.\n"
     ]
    },
    {
     "data": {
      "image/png": "[encoded data removed]",
      "text/plain": [
       "<Figure size 432x288 with 1 Axes>"
      ]
     },
     "metadata": {
      "needs_background": "light"
     },
     "output_type": "display_data"
    }
   ],
   "source": [
    "print(\"Siendo mas detallistas vamos hacer la comparación con los meses del año.\")\n",
    "\n",
    "filtered_fatal_month = filtered_fatal[( filtered_fatal.month != \"UNKNOWN\"  )]\n",
    "filtered_no_fatal_month = filtered_no_fatal[( filtered_no_fatal.month != \"UNKNOWN\"  )]\n",
    "\n",
    "display(filtered_no_fatal_month.month.hist(color=\"#C8FAC8\"))\n",
    "display(filtered_fatal_month.month.hist(color=\"#BD544B\"))\n",
    "\n",
    "print(\"Se pued eobseervar que los meses con mayores accidenes es septiembre, tanto mortales como no mortales.\")\n"
   ]
  },
  {
   "cell_type": "code",
   "execution_count": 6,
   "metadata": {
    "scrolled": true
   },
   "outputs": [
    {
     "name": "stdout",
     "output_type": "stream",
     "text": [
      "Una vez establecido en que epocas del año hay mas accidentes, es hora de averiguar las actividades que hacen.\n"
     ]
    },
    {
     "data": {
      "text/plain": [
       "<matplotlib.axes._subplots.AxesSubplot at 0x119064358>"
      ]
     },
     "metadata": {},
     "output_type": "display_data"
    },
    {
     "data": {
      "text/plain": [
       "<matplotlib.axes._subplots.AxesSubplot at 0x119064358>"
      ]
     },
     "metadata": {},
     "output_type": "display_data"
    },
    {
     "name": "stdout",
     "output_type": "stream",
     "text": [
      "See puede ver que donde hay mas accidentes es surfeando y pescando, sin embargo, donde hay mas mortales es nadando, uno de los motivos puede ser que no tengan superficie la que apoyarse cuando son atacados.\n"
     ]
    },
    {
     "data": {
      "image/png": "[encoded data removed]",
      "text/plain": [
       "<Figure size 432x288 with 1 Axes>"
      ]
     },
     "metadata": {
      "needs_background": "light"
     },
     "output_type": "display_data"
    }
   ],
   "source": [
    "print(\"Una vez establecido en que epocas del año hay mas accidentes, es hora de averiguar las actividades que hacen.\")\n",
    "\n",
    "filtered_fatal_activity = filtered_fatal[( filtered_fatal.activity != \"UNKNOWN\"  )]\n",
    "filtered_no_fatal_activity = filtered_no_fatal[( filtered_no_fatal.activity != \"UNKNOWN\"  )]\n",
    "\n",
    "display(filtered_no_fatal_activity.activity.hist(color=\"#C8FAC8\"))\n",
    "display(filtered_fatal_activity.activity.hist(color=\"#BD544B\"))\n",
    "\n",
    "print(\"See puede ver que donde hay mas accidentes es surfeando y pescando, sin embargo, donde hay mas mortales es \\\n",
    "nadando, uno de los motivos puede ser que no tengan superficie la que apoyarse cuando son atacados.\")\n",
    "\n"
   ]
  },
  {
   "cell_type": "code",
   "execution_count": 7,
   "metadata": {},
   "outputs": [
    {
     "name": "stdout",
     "output_type": "stream",
     "text": [
      "Una vez mirado las las actividades voy a ver en que genero hay más accidentes.\n"
     ]
    },
    {
     "data": {
      "text/plain": [
       "<matplotlib.axes._subplots.AxesSubplot at 0x11913e780>"
      ]
     },
     "metadata": {},
     "output_type": "display_data"
    },
    {
     "data": {
      "text/plain": [
       "<matplotlib.axes._subplots.AxesSubplot at 0x11913e780>"
      ]
     },
     "metadata": {},
     "output_type": "display_data"
    },
    {
     "name": "stdout",
     "output_type": "stream",
     "text": [
      "Mostrando una comparativa, see puede ver que donde hay mas accidentes es en los honbres tanto mortales como no mortales.\n"
     ]
    },
    {
     "data": {
      "image/png": "[encoded data removed]",
      "text/plain": [
       "<Figure size 432x288 with 1 Axes>"
      ]
     },
     "metadata": {
      "needs_background": "light"
     },
     "output_type": "display_data"
    }
   ],
   "source": [
    "print(\"Una vez mirado las las actividades voy a ver en que genero hay más accidentes.\")\n",
    "\n",
    "\n",
    "\n",
    "filtered_fatal_sex = filtered_fatal[( filtered_fatal.sex != \"UNKNOWN\"  )]\n",
    "filtered_no_fatal_sex = filtered_no_fatal[( filtered_no_fatal.sex != \"UNKNOWN\"  )]\n",
    "\n",
    "display(filtered_no_fatal_sex.sex.hist(color=\"#C8FAC8\"))\n",
    "display(filtered_fatal_sex.sex.hist(color=\"#BD544B\"))\n",
    "\n",
    "print(\"Mostrando una comparativa, see puede ver que donde hay mas accidentes es en los honbres tanto mortales como \\\n",
    "no mortales.\")"
   ]
  },
  {
   "cell_type": "code",
   "execution_count": 8,
   "metadata": {},
   "outputs": [
    {
     "name": "stdout",
     "output_type": "stream",
     "text": [
      "El siguiente paso es evaluar la edad de los atacantes..\n"
     ]
    },
    {
     "data": {
      "text/plain": [
       "<matplotlib.axes._subplots.AxesSubplot at 0x119360748>"
      ]
     },
     "metadata": {},
     "output_type": "display_data"
    },
    {
     "data": {
      "text/plain": [
       "<matplotlib.axes._subplots.AxesSubplot at 0x119360748>"
      ]
     },
     "metadata": {},
     "output_type": "display_data"
    },
    {
     "name": "stdout",
     "output_type": "stream",
     "text": [
      "A tener tantas etiqueta no see puede distinguir bien\n"
     ]
    },
    {
     "data": {
      "image/png": "[encoded data removed]",
      "text/plain": [
       "<Figure size 432x288 with 1 Axes>"
      ]
     },
     "metadata": {
      "needs_background": "light"
     },
     "output_type": "display_data"
    }
   ],
   "source": [
    "print(\"El siguiente paso es evaluar la edad de los atacantes..\")\n",
    "\n",
    "\n",
    "\n",
    "filtered_fatal_age = filtered_fatal[( filtered_fatal.age != \"UNKNOWN\"  )]\n",
    "filtered_no_fatal_age = filtered_no_fatal[( filtered_no_fatal.age != \"UNKNOWN\"  )]\n",
    "\n",
    "display(filtered_no_fatal_age.age.hist(color=\"#C8FAC8\"))\n",
    "display(filtered_fatal_age.age.hist(color=\"#BD544B\"))\n",
    "\n",
    "print(\"A tener tantas etiqueta no see puede distinguir bien\")"
   ]
  },
  {
   "cell_type": "code",
   "execution_count": 9,
   "metadata": {},
   "outputs": [
    {
     "name": "stdout",
     "output_type": "stream",
     "text": [
      "Anaolisis de paieses\n"
     ]
    },
    {
     "data": {
      "text/plain": [
       "<matplotlib.axes._subplots.AxesSubplot at 0x118de94a8>"
      ]
     },
     "metadata": {},
     "output_type": "display_data"
    },
    {
     "data": {
      "text/plain": [
       "<matplotlib.axes._subplots.AxesSubplot at 0x118de94a8>"
      ]
     },
     "metadata": {},
     "output_type": "display_data"
    },
    {
     "name": "stdout",
     "output_type": "stream",
     "text": [
      "Igual que en las graficas de años, a tener tantas etiqueta no see puede distinguir bien\n"
     ]
    },
    {
     "data": {
      "image/png": "[encoded data removed]",
      "text/plain": [
       "<Figure size 432x288 with 1 Axes>"
      ]
     },
     "metadata": {
      "needs_background": "light"
     },
     "output_type": "display_data"
    }
   ],
   "source": [
    "print(\"Anaolisis de paieses\")\n",
    "\n",
    "\n",
    "\n",
    "filtered_fatal_country = filtered_fatal[( filtered_fatal.country != \"UNKNOWN\"  )]\n",
    "filtered_no_fatal_country = filtered_no_fatal[( filtered_no_fatal.country != \"UNKNOWN\"  )]\n",
    "\n",
    "display(filtered_no_fatal_country.country.hist(color=\"#C8FAC8\"))\n",
    "display(filtered_fatal_country.country.hist(color=\"#BD544B\"))\n",
    "\n",
    "\n",
    "print(\"Igual que en las graficas de años, a tener tantas etiqueta no see puede distinguir bien\")"
   ]
  },
  {
   "cell_type": "code",
   "execution_count": null,
   "metadata": {},
   "outputs": [],
   "source": []
  }
 ],
 "metadata": {
  "kernelspec": {
   "display_name": "Python 3",
   "language": "python",
   "name": "python3"
  },
  "language_info": {
   "codemirror_mode": {
    "name": "ipython",
    "version": 3
   },
   "file_extension": ".py",
   "mimetype": "text/x-python",
   "name": "python",
   "nbconvert_exporter": "python",
   "pygments_lexer": "ipython3",
   "version": "3.7.3"
  }
 },
 "nbformat": 4,
 "nbformat_minor": 2
}
