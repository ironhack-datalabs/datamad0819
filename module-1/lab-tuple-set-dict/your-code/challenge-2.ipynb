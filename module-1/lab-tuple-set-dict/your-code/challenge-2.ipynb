{
 "cells": [
  {
   "cell_type": "markdown",
   "metadata": {},
   "source": [
    "## Challenge 2: Sets\n",
    "\n",
    "There are a lot to learn about Python Sets and the information presented in the lesson is limited due to its length. To learn Python Sets in depth you are strongly encouraged to review the W3Schools tutorial on [Python Sets Examples and Methods](https://www.w3schools.com/python/python_sets.asp) before you work on this lab. Some difficult questions in this lab have their solutions in the W3Schools tutorial.\n",
    "\n",
    "#### First, import the Python `random` libary"
   ]
  },
  {
   "cell_type": "code",
   "execution_count": 2,
   "metadata": {},
   "outputs": [],
   "source": [
    "import random"
   ]
  },
  {
   "cell_type": "markdown",
   "metadata": {},
   "source": [
    "#### In the cell below, create a list named `sample_list_1` with 80 random values. \n",
    "\n",
    "Requirements:\n",
    "\n",
    "* Each value is an integer falling between 0 and 100.\n",
    "* Each value in the list is unique.\n",
    "\n",
    "Print `sample_list_1` to review its values\n",
    "\n",
    "*Hint: use `random.sample` ([reference](https://docs.python.org/3/library/random.html#random.sample)).*"
   ]
  },
  {
   "cell_type": "code",
   "execution_count": 20,
   "metadata": {},
   "outputs": [
    {
     "name": "stdout",
     "output_type": "stream",
     "text": [
      "[89, 83, 11, 29, 65, 40, 36, 7, 82, 10, 74, 84, 28, 33, 90, 79, 87, 39, 46, 52, 86, 70, 13, 63, 91, 94, 4, 92, 67, 98, 96, 0, 69, 27, 59, 45, 23, 54, 49, 8, 22, 62, 72, 17, 78, 38, 81, 85, 16, 2, 30, 25, 43, 99, 50, 75, 35, 77, 56, 19, 14, 6, 55, 44, 66, 71, 58, 68, 9, 32, 20, 47, 61, 88, 42, 18, 64, 76, 1, 57]\n"
     ]
    }
   ],
   "source": [
    "misample=random.sample(range(100),80)\n",
    "print (misample)\n"
   ]
  },
  {
   "cell_type": "markdown",
   "metadata": {},
   "source": [
    "#### Convert `sample_list_1` to a set called `set1`. Print the length of the set. Is its length still 80?"
   ]
  },
  {
   "cell_type": "code",
   "execution_count": 84,
   "metadata": {},
   "outputs": [
    {
     "name": "stdout",
     "output_type": "stream",
     "text": [
      "set1= {0, 1, 2, 4, 6, 7, 8, 9, 10, 11, 13, 14, 16, 17, 18, 19, 20, 22, 23, 25, 27, 28, 29, 30, 32, 33, 35, 36, 38, 39, 40, 42, 43, 44, 45, 46, 47, 49, 50, 52, 54, 55, 56, 57, 58, 59, 61, 62, 63, 64, 65, 66, 67, 68, 69, 70, 71, 72, 74, 75, 76, 77, 78, 79, 81, 82, 83, 84, 85, 86, 87, 88, 89, 90, 91, 92, 94, 96, 98, 99}\n",
      "\n",
      "length set1: 80\n",
      "\n",
      "<class 'set'>\n"
     ]
    }
   ],
   "source": [
    "set1=set(misample)\n",
    "print(\"set1=\",set1)\n",
    "print()\n",
    "print(\"length set1:\",len(set1))\n",
    "print()\n",
    "print(type(set1))\n"
   ]
  },
  {
   "cell_type": "markdown",
   "metadata": {},
   "source": [
    "#### Create another list named `sample_list_2` with 80 random values.\n",
    "\n",
    "Requirements:\n",
    "\n",
    "* Each value is an integer falling between 0 and 100.\n",
    "* The values in the list don't have to be unique.\n",
    "\n",
    "*Hint: Use a FOR loop.*"
   ]
  },
  {
   "cell_type": "code",
   "execution_count": 85,
   "metadata": {},
   "outputs": [
    {
     "name": "stdout",
     "output_type": "stream",
     "text": [
      "[80, 80, 66, 55, 16, 16, 55, 23, 41, 93, 52, 31, 2, 45, 31, 82, 38, 25, 91, 87, 44, 63, 79, 1, 26, 42, 54, 75, 59, 9, 29, 69, 71, 93, 44, 11, 56, 16, 86, 59, 1, 42, 13, 42, 83, 8, 56, 34, 51, 3, 96, 2, 78, 81, 87, 33, 66, 65, 79, 53, 91, 8, 40, 26, 43, 72, 44, 5, 92, 68, 35, 58, 35, 98, 3, 20, 84, 64, 94, 20]\n",
      "\n",
      "Longitud de sample_list_2: 80\n"
     ]
    }
   ],
   "source": [
    "sample_list_2=list(random.sample(range(100),1))\n",
    "for i in range(79):\n",
    "    sample_list_2.append(random.sample(range(100),1)[0])\n",
    "print(sample_list_2)\n",
    "print()\n",
    "print(\"Longitud de sample_list_2:\",len(sample_list_2))\n",
    "\n",
    "    \n",
    "    "
   ]
  },
  {
   "cell_type": "markdown",
   "metadata": {},
   "source": [
    "#### Convert `sample_list_2` to a set called `set2`. Print the length of the set. Is its length still 80?"
   ]
  },
  {
   "cell_type": "code",
   "execution_count": 86,
   "metadata": {},
   "outputs": [
    {
     "name": "stdout",
     "output_type": "stream",
     "text": [
      "set2= {1, 2, 3, 5, 8, 9, 11, 13, 16, 20, 23, 25, 26, 29, 31, 33, 34, 35, 38, 40, 41, 42, 43, 44, 45, 51, 52, 53, 54, 55, 56, 58, 59, 63, 64, 65, 66, 68, 69, 71, 72, 75, 78, 79, 80, 81, 82, 83, 84, 86, 87, 91, 92, 93, 94, 96, 98}\n",
      "\n",
      "length set2: 57\n"
     ]
    }
   ],
   "source": [
    "set2=set(sample_list_2)\n",
    "print(\"set2=\",set2)\n",
    "print()\n",
    "print(\"length set2:\",len(set2))\n"
   ]
  },
  {
   "cell_type": "markdown",
   "metadata": {},
   "source": [
    "#### Identify the elements present in `set1` but not in `set2`. Assign the elements to a new set named `set3`."
   ]
  },
  {
   "cell_type": "code",
   "execution_count": 87,
   "metadata": {},
   "outputs": [
    {
     "name": "stdout",
     "output_type": "stream",
     "text": [
      "set3= {0, 4, 6, 7, 10, 14, 17, 18, 19, 22, 27, 28, 30, 32, 36, 39, 46, 47, 49, 50, 57, 61, 62, 67, 70, 74, 76, 77, 85, 88, 89, 90, 99}\n",
      "\n",
      "length set3: 33\n"
     ]
    }
   ],
   "source": [
    "set3=set1.difference(set2)\n",
    "print(\"set3=\",set3)\n",
    "print()\n",
    "print(\"length set3:\",len(set3))"
   ]
  },
  {
   "cell_type": "markdown",
   "metadata": {},
   "source": [
    "#### Identify the elements present in `set2` but not in `set1`. Assign the elements to a new set named `set4`."
   ]
  },
  {
   "cell_type": "code",
   "execution_count": 88,
   "metadata": {},
   "outputs": [
    {
     "name": "stdout",
     "output_type": "stream",
     "text": [
      "set4= {34, 3, 5, 41, 80, 51, 53, 26, 93, 31}\n",
      "\n",
      "length set4: 10\n"
     ]
    }
   ],
   "source": [
    "set4=set2.difference(set1)\n",
    "print(\"set4=\",set4)\n",
    "print()\n",
    "print(\"length set4:\",len(set4))\n"
   ]
  },
  {
   "cell_type": "markdown",
   "metadata": {},
   "source": [
    "#### Now Identify the elements shared between `set1` and `set2`. Assign the elements to a new set named `set5`."
   ]
  },
  {
   "cell_type": "code",
   "execution_count": 89,
   "metadata": {},
   "outputs": [
    {
     "name": "stdout",
     "output_type": "stream",
     "text": [
      "longitud UnionDosSets: 90\n",
      "\n",
      "set5= {1, 2, 8, 9, 11, 13, 16, 20, 23, 25, 29, 33, 35, 38, 40, 42, 43, 44, 45, 52, 54, 55, 56, 58, 59, 63, 64, 65, 66, 68, 69, 71, 72, 75, 78, 79, 81, 82, 83, 84, 86, 87, 91, 92, 94, 96, 98}\n",
      "\n",
      "length set5: 47\n"
     ]
    }
   ],
   "source": [
    "UnionDosSets=set1.union(set2)\n",
    "print(\"longitud UnionDosSets:\",len(UnionDosSets))\n",
    "set5=UnionDosSets.difference(set3).difference(set4)\n",
    "print()\n",
    "print(\"set5=\",set5)\n",
    "print()\n",
    "print(\"length set5:\",len(set5))\n"
   ]
  },
  {
   "cell_type": "markdown",
   "metadata": {},
   "source": [
    "#### What is the relationship among the following values:\n",
    "\n",
    "* len(set1)\n",
    "* len(set2)\n",
    "* len(set3)\n",
    "* len(set4)\n",
    "* len(set5)\n",
    "\n",
    "Use a math formular to represent that relationship. Test your formular with Python code."
   ]
  },
  {
   "cell_type": "code",
   "execution_count": 99,
   "metadata": {},
   "outputs": [
    {
     "name": "stdout",
     "output_type": "stream",
     "text": [
      "longitud set1 80\n",
      "longitud set2 57\n",
      "longitud set3 33\n",
      "longitud set4 10\n",
      "longitud set5 47\n",
      "\n",
      "set1+set2=set3+set4+2*set5\n",
      "set1+set2= 137\n",
      "set3+set4+2*set5= 137\n"
     ]
    }
   ],
   "source": [
    "print (\"longitud set1\",len(set1))\n",
    "print (\"longitud set2\",len(set2))\n",
    "print (\"longitud set3\",len(set3))\n",
    "print (\"longitud set4\",len(set4))\n",
    "print (\"longitud set5\",len(set5))\n",
    "print()\n",
    "print(\"set1+set2=set3+set4+2*set5\")\n",
    "print(\"set1+set2=\",len(set1)+len(set2))\n",
    "print(\"set3+set4+2*set5=\",len(set3)+len(set4)+2*len(set5))\n"
   ]
  },
  {
   "cell_type": "markdown",
   "metadata": {},
   "source": [
    "#### Create an empty set called `set6`."
   ]
  },
  {
   "cell_type": "code",
   "execution_count": 70,
   "metadata": {},
   "outputs": [
    {
     "name": "stdout",
     "output_type": "stream",
     "text": [
      "<class 'set'>\n"
     ]
    }
   ],
   "source": [
    "set6=set()\n",
    "print(type(set6))\n"
   ]
  },
  {
   "cell_type": "markdown",
   "metadata": {},
   "source": [
    "#### Add `set3` and `set5` to `set6` using the Python Set `update` method."
   ]
  },
  {
   "cell_type": "code",
   "execution_count": 101,
   "metadata": {},
   "outputs": [
    {
     "name": "stdout",
     "output_type": "stream",
     "text": [
      "set6= set()\n",
      "\n",
      "set6= {0, 4, 6, 7, 10, 14, 17, 18, 19, 22, 27, 28, 30, 32, 36, 39, 46, 47, 49, 50, 57, 61, 62, 67, 70, 74, 76, 77, 85, 88, 89, 90, 99}\n",
      "\n",
      "set6= {0, 1, 2, 4, 6, 7, 8, 9, 10, 11, 13, 14, 16, 17, 18, 19, 20, 22, 23, 25, 27, 28, 29, 30, 32, 33, 35, 36, 38, 39, 40, 42, 43, 44, 45, 46, 47, 49, 50, 52, 54, 55, 56, 57, 58, 59, 61, 62, 63, 64, 65, 66, 67, 68, 69, 70, 71, 72, 74, 75, 76, 77, 78, 79, 81, 82, 83, 84, 85, 86, 87, 88, 89, 90, 91, 92, 94, 96, 98, 99}\n"
     ]
    }
   ],
   "source": [
    "set6=set()\n",
    "print(\"set6=\",set6)\n",
    "set6.update(set3)\n",
    "print()\n",
    "print(\"set6=\",set6)\n",
    "set6.update(set5)\n",
    "print()\n",
    "print(\"set6=\",set6)\n"
   ]
  },
  {
   "cell_type": "markdown",
   "metadata": {},
   "source": [
    "#### Check if `set1` and `set6` are equal."
   ]
  },
  {
   "cell_type": "code",
   "execution_count": 102,
   "metadata": {},
   "outputs": [
    {
     "name": "stdout",
     "output_type": "stream",
     "text": [
      "true\n"
     ]
    }
   ],
   "source": [
    "if(set1==set6):\n",
    "    print(\"true\")\n",
    "else:\n",
    "    print(\"false\")\n"
   ]
  },
  {
   "cell_type": "markdown",
   "metadata": {},
   "source": [
    "#### Check if `set1` contains `set2` using the Python Set `issubset` method. Then check if `set1` contains `set3`.*"
   ]
  },
  {
   "cell_type": "code",
   "execution_count": 103,
   "metadata": {},
   "outputs": [
    {
     "name": "stdout",
     "output_type": "stream",
     "text": [
      "False\n",
      "True\n"
     ]
    }
   ],
   "source": [
    "print(set2.issubset(set1))\n",
    "print(set3.issubset(set1))\n"
   ]
  },
  {
   "cell_type": "markdown",
   "metadata": {},
   "source": [
    "#### Using the Python Set `union` method, aggregate `set3`, `set4`, and `set5`. Then aggregate `set1` and `set2`. \n",
    "\n",
    "#### Check if the aggregated values are equal."
   ]
  },
  {
   "cell_type": "code",
   "execution_count": 105,
   "metadata": {},
   "outputs": [
    {
     "name": "stdout",
     "output_type": "stream",
     "text": [
      "UnionSet3Set4Set5= {0, 1, 2, 3, 4, 5, 6, 7, 8, 9, 10, 11, 13, 14, 16, 17, 18, 19, 20, 22, 23, 25, 26, 27, 28, 29, 30, 31, 32, 33, 34, 35, 36, 38, 39, 40, 41, 42, 43, 44, 45, 46, 47, 49, 50, 51, 52, 53, 54, 55, 56, 57, 58, 59, 61, 62, 63, 64, 65, 66, 67, 68, 69, 70, 71, 72, 74, 75, 76, 77, 78, 79, 80, 81, 82, 83, 84, 85, 86, 87, 88, 89, 90, 91, 92, 93, 94, 96, 98, 99}\n",
      "\n",
      "UnionSet1Set2= {0, 1, 2, 3, 4, 5, 6, 7, 8, 9, 10, 11, 13, 14, 16, 17, 18, 19, 20, 22, 23, 25, 26, 27, 28, 29, 30, 31, 32, 33, 34, 35, 36, 38, 39, 40, 41, 42, 43, 44, 45, 46, 47, 49, 50, 51, 52, 53, 54, 55, 56, 57, 58, 59, 61, 62, 63, 64, 65, 66, 67, 68, 69, 70, 71, 72, 74, 75, 76, 77, 78, 79, 80, 81, 82, 83, 84, 85, 86, 87, 88, 89, 90, 91, 92, 93, 94, 96, 98, 99}\n",
      "\n",
      "Groups are equal\n"
     ]
    }
   ],
   "source": [
    "UnionSet3Set4Set5=set3.union(set4.union(set5))\n",
    "print(\"UnionSet3Set4Set5=\",UnionSet3Set4Set5)\n",
    "UnionSet1Set2=set1.union(set2)\n",
    "print()\n",
    "print(\"UnionSet1Set2=\",UnionSet1Set2)\n",
    "print()\n",
    "if (UnionSet3Set4Set5==UnionSet1Set2):\n",
    "    print (\"Groups are equal\")\n",
    "else:\n",
    "    print (\"Groups are not equal\")\n"
   ]
  },
  {
   "cell_type": "markdown",
   "metadata": {},
   "source": [
    "#### Using the `pop` method, remove the first element from `set1`."
   ]
  },
  {
   "cell_type": "code",
   "execution_count": 106,
   "metadata": {},
   "outputs": [
    {
     "name": "stdout",
     "output_type": "stream",
     "text": [
      "set1= {0, 1, 2, 4, 6, 7, 8, 9, 10, 11, 13, 14, 16, 17, 18, 19, 20, 22, 23, 25, 27, 28, 29, 30, 32, 33, 35, 36, 38, 39, 40, 42, 43, 44, 45, 46, 47, 49, 50, 52, 54, 55, 56, 57, 58, 59, 61, 62, 63, 64, 65, 66, 67, 68, 69, 70, 71, 72, 74, 75, 76, 77, 78, 79, 81, 82, 83, 84, 85, 86, 87, 88, 89, 90, 91, 92, 94, 96, 98, 99}\n",
      "\n",
      "set1= {1, 2, 4, 6, 7, 8, 9, 10, 11, 13, 14, 16, 17, 18, 19, 20, 22, 23, 25, 27, 28, 29, 30, 32, 33, 35, 36, 38, 39, 40, 42, 43, 44, 45, 46, 47, 49, 50, 52, 54, 55, 56, 57, 58, 59, 61, 62, 63, 64, 65, 66, 67, 68, 69, 70, 71, 72, 74, 75, 76, 77, 78, 79, 81, 82, 83, 84, 85, 86, 87, 88, 89, 90, 91, 92, 94, 96, 98, 99}\n"
     ]
    }
   ],
   "source": [
    "print(\"set1=\",set1)\n",
    "set1.pop()\n",
    "print()\n",
    "print(\"set1=\",set1)\n"
   ]
  },
  {
   "cell_type": "markdown",
   "metadata": {},
   "source": [
    "#### Remove every element in the following list from `set1` if they are present in the set. Print the remaining elements.\n",
    "\n",
    "```\n",
    "list_to_remove = [1, 9, 11, 19, 21, 29, 31, 39, 41, 49, 51, 59, 61, 69, 71, 79, 81, 89, 91, 99]\n",
    "```"
   ]
  },
  {
   "cell_type": "code",
   "execution_count": 111,
   "metadata": {},
   "outputs": [
    {
     "name": "stdout",
     "output_type": "stream",
     "text": [
      "set1= {2, 4, 6, 7, 8, 10, 13, 14, 16, 17, 18, 20, 22, 23, 25, 27, 28, 30, 32, 33, 35, 36, 38, 40, 42, 43, 44, 45, 46, 47, 50, 52, 54, 55, 56, 57, 58, 62, 63, 64, 65, 66, 67, 68, 70, 72, 74, 75, 76, 77, 78, 82, 83, 84, 85, 86, 87, 88, 90, 92, 94, 96, 98}\n",
      "\n",
      "set1= {2, 4, 6, 7, 8, 10, 13, 14, 16, 17, 18, 20, 22, 23, 25, 27, 28, 30, 32, 33, 35, 36, 38, 40, 42, 43, 44, 45, 46, 47, 50, 52, 54, 55, 56, 57, 58, 62, 63, 64, 65, 66, 67, 68, 70, 72, 74, 75, 76, 77, 78, 82, 83, 84, 85, 86, 87, 88, 90, 92, 94, 96, 98}\n"
     ]
    }
   ],
   "source": [
    "list_to_remove = [1, 9, 11, 19, 21, 29, 31, 39, 41, 49, 51, 59, 61, 69, 71, 79, 81, 89, 91, 99]\n",
    "print(\"set1=\",set1)\n",
    "print()\n",
    "for ElementToRemove in list_to_remove:\n",
    "    set1.discard(ElementToRemove)\n",
    "print(\"set1=\",set1)\n",
    "\n",
    "\n"
   ]
  },
  {
   "cell_type": "code",
   "execution_count": null,
   "metadata": {},
   "outputs": [],
   "source": []
  }
 ],
 "metadata": {
  "kernelspec": {
   "display_name": "Python 3",
   "language": "python",
   "name": "python3"
  },
  "language_info": {
   "codemirror_mode": {
    "name": "ipython",
    "version": 3
   },
   "file_extension": ".py",
   "mimetype": "text/x-python",
   "name": "python",
   "nbconvert_exporter": "python",
   "pygments_lexer": "ipython3",
   "version": "3.7.4"
  }
 },
 "nbformat": 4,
 "nbformat_minor": 2
}
