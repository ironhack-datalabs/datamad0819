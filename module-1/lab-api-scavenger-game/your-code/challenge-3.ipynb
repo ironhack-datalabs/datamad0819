{
 "cells": [
  {
   "cell_type": "code",
   "execution_count": 1,
   "metadata": {},
   "outputs": [],
   "source": [
    "import dotenv \n",
    "import requests\n",
    "import json\n",
    "import os\n",
    "from os.path import join, dirname\n",
    "from dotenv import load_dotenv\n",
    "import base64\n"
   ]
  },
  {
   "cell_type": "code",
   "execution_count": 2,
   "metadata": {},
   "outputs": [],
   "source": [
    "dotenv_path = join(dirname(\"../\"), '.env')\n",
    "load_dotenv(dotenv_path)\n",
    "\n",
    "token = os.environ.get(\"GIT_TOKEN\")"
   ]
  },
  {
   "cell_type": "code",
   "execution_count": 3,
   "metadata": {},
   "outputs": [
    {
     "name": "stdout",
     "output_type": "stream",
     "text": [
      "200\n"
     ]
    }
   ],
   "source": [
    "def authRequest(url, params={}):\n",
    "    headers = {\n",
    "        \"Authorization\": \"token {}\".format(token)\n",
    "    }\n",
    "    response = requests.get(url,headers=headers, params=params)\n",
    "    print(response.status_code)\n",
    "    #print(response.headers)\n",
    "    return response.json()\n",
    "\n",
    "\n",
    "#data = authRequest(\"https://api.github.com/repos/ironhack-datalabs/datamad0819/forks\")\n",
    "data = authRequest(\"https://api.github.com/repos/ironhack-datalabs/scavenger/contents\")\n",
    "\n"
   ]
  },
  {
   "cell_type": "markdown",
   "metadata": {},
   "source": [
    "### Consigo el nombre del path"
   ]
  },
  {
   "cell_type": "code",
   "execution_count": 5,
   "metadata": {},
   "outputs": [
    {
     "name": "stdout",
     "output_type": "stream",
     "text": [
      "200\n",
      "200\n",
      "200\n",
      "200\n",
      "200\n",
      "200\n",
      "200\n",
      "200\n",
      "200\n",
      "200\n",
      "200\n",
      "200\n",
      "200\n",
      "200\n",
      "200\n",
      "200\n",
      "200\n",
      "200\n",
      "200\n",
      "200\n",
      "200\n",
      "200\n",
      "200\n",
      "200\n",
      "200\n"
     ]
    }
   ],
   "source": [
    "\n",
    "url = \"https://api.github.com/repos/ironhack-datalabs/scavenger/contents/\"\n",
    "files = []\n",
    "for d in data:\n",
    "    if d[\"path\"] != \".gitignore\":\n",
    "        data_file = authRequest(url + d[\"path\"])\n",
    "        for name_file in data_file:\n",
    "            if name_file[\"name\"].endswith('.scavengerhunt'):\n",
    "                files.append(name_file[\"name\"] + \":\" + d[\"path\"])\n",
    "                \n"
   ]
  },
  {
   "cell_type": "markdown",
   "metadata": {},
   "source": [
    "#### Ordeno la lista"
   ]
  },
  {
   "cell_type": "code",
   "execution_count": 6,
   "metadata": {},
   "outputs": [
    {
     "name": "stdout",
     "output_type": "stream",
     "text": [
      "['.0001.scavengerhunt:98750', '.0002.scavengerhunt:88596', '.0003.scavengerhunt:60224', '.0004.scavengerhunt:68848', '.0005.scavengerhunt:44639', '.0006.scavengerhunt:15024', '.0007.scavengerhunt:17020', '.0008.scavengerhunt:15534', '.0009.scavengerhunt:97881', '.0010.scavengerhunt:47830', '.0011.scavengerhunt:50896', '.0012.scavengerhunt:15534', '.0013.scavengerhunt:89338', '.0014.scavengerhunt:49418', '.0015.scavengerhunt:91701', '.0016.scavengerhunt:47222', '.0017.scavengerhunt:70985', '.0018.scavengerhunt:45525', '.0019.scavengerhunt:70751', '.0020.scavengerhunt:55685', '.0021.scavengerhunt:30351', '.0022.scavengerhunt:40303', '.0023.scavengerhunt:55417', '.0024.scavengerhunt:47222']\n"
     ]
    }
   ],
   "source": [
    "\n",
    "files_sort = sorted(files)\n",
    "print(files_sort)"
   ]
  },
  {
   "cell_type": "code",
   "execution_count": 7,
   "metadata": {},
   "outputs": [
    {
     "name": "stdout",
     "output_type": "stream",
     "text": [
      "200\n",
      "200\n",
      "200\n",
      "200\n",
      "200\n",
      "200\n",
      "200\n",
      "200\n",
      "200\n",
      "200\n",
      "200\n",
      "200\n",
      "200\n",
      "200\n",
      "200\n",
      "200\n",
      "200\n",
      "200\n",
      "200\n",
      "200\n",
      "200\n",
      "200\n",
      "200\n",
      "200\n"
     ]
    },
    {
     "data": {
      "text/plain": [
       "'In data science, 80 percent of time spent is preparing data, 20 percent of time is spent complaining about the need to prepare data. '"
      ]
     },
     "metadata": {},
     "output_type": "display_data"
    }
   ],
   "source": [
    "url = \"https://api.github.com/repos/ironhack-datalabs/scavenger/contents/\"\n",
    "\n",
    "total = \"\"\n",
    "for file in files_sort:\n",
    "    name_file,path = file.split(\":\")\n",
    "    data_file = authRequest(url + path + \"/\" + name_file)\n",
    "    name = data_file[\"content\"]\n",
    "    content = base64.b64decode(name)\n",
    "    name = content.decode(\"utf-8\")\n",
    "    name = name.split(\"\\n\")\n",
    "    total += name[0] + \" \"\n",
    "    \n",
    "    \n",
    "    \n",
    "display(total)\n",
    "    "
   ]
  },
  {
   "cell_type": "code",
   "execution_count": null,
   "metadata": {},
   "outputs": [],
   "source": []
  }
 ],
 "metadata": {
  "kernelspec": {
   "display_name": "Python 3",
   "language": "python",
   "name": "python3"
  },
  "language_info": {
   "codemirror_mode": {
    "name": "ipython",
    "version": 3
   },
   "file_extension": ".py",
   "mimetype": "text/x-python",
   "name": "python",
   "nbconvert_exporter": "python",
   "pygments_lexer": "ipython3",
   "version": "3.7.3"
  }
 },
 "nbformat": 4,
 "nbformat_minor": 2
}
