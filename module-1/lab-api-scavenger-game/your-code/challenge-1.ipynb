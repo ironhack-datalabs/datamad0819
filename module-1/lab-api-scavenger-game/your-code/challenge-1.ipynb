{
 "cells": [
  {
   "cell_type": "code",
   "execution_count": 1,
   "metadata": {},
   "outputs": [],
   "source": [
    "import dotenv \n",
    "import requests\n",
    "import json\n",
    "import os\n",
    "from os.path import join, dirname\n",
    "from dotenv import load_dotenv\n",
    "\n"
   ]
  },
  {
   "cell_type": "markdown",
   "metadata": {},
   "source": [
    "### Consigo el token del fichero .env"
   ]
  },
  {
   "cell_type": "code",
   "execution_count": 2,
   "metadata": {},
   "outputs": [],
   "source": [
    "dotenv_path = join(dirname(\"../\"), '.env')\n",
    "load_dotenv(dotenv_path)\n",
    "\n",
    "token = os.environ.get(\"GIT_TOKEN\")"
   ]
  },
  {
   "cell_type": "code",
   "execution_count": 5,
   "metadata": {},
   "outputs": [
    {
     "name": "stdout",
     "output_type": "stream",
     "text": [
      "200\n"
     ]
    }
   ],
   "source": [
    "def authRequest(url, params={}):\n",
    "    headers = {\n",
    "        \"Authorization\": \"token {}\".format(token)\n",
    "    }\n",
    "    response = requests.get(url,headers=headers, params=params)\n",
    "    print(response.status_code)\n",
    "    #print(response.headers)\n",
    "    return response.json()\n",
    "\n",
    "\n",
    "data = authRequest(\"https://api.github.com/repos/ironhack-datalabs/datamad0819/forks\")\n",
    "#print(data)\n",
    "\n"
   ]
  },
  {
   "cell_type": "code",
   "execution_count": 6,
   "metadata": {},
   "outputs": [
    {
     "name": "stdout",
     "output_type": "stream",
     "text": [
      "El total de forks es 23\n"
     ]
    }
   ],
   "source": [
    "print(\"El total de forks es {}\".format(len(data)))"
   ]
  },
  {
   "cell_type": "markdown",
   "metadata": {},
   "source": [
    "### Ver los lenguajes "
   ]
  },
  {
   "cell_type": "code",
   "execution_count": 7,
   "metadata": {},
   "outputs": [
    {
     "name": "stdout",
     "output_type": "stream",
     "text": [
      "{'https://api.github.com/repos/inespchavarri/datamad0819/commits{/sha}', 'https://api.github.com/repos/anjelccb/datamad0819/commits{/sha}', 'https://api.github.com/repos/pedromerry/datamad0819/commits{/sha}', 'https://api.github.com/repos/goy92/datamad0819/commits{/sha}', 'https://api.github.com/repos/4thSword/datamad0819/commits{/sha}', 'https://api.github.com/repos/josele639/datamad0819/commits{/sha}', 'https://api.github.com/repos/albertogcmr/datamad0819/commits{/sha}', 'https://api.github.com/repos/noeliacarrion/datamad0819/commits{/sha}', 'https://api.github.com/repos/Gori89/datamad0819/commits{/sha}', 'https://api.github.com/repos/CodigoChimuelo/datamad0819/commits{/sha}', 'https://api.github.com/repos/Dededavid/datamad0819-1/commits{/sha}', 'https://api.github.com/repos/ferrero-felipe/datamad0819/commits{/sha}', 'https://api.github.com/repos/gonzalobandeira/datamad0819/commits{/sha}', 'https://api.github.com/repos/begoechavarren/datamad0819/commits{/sha}', 'https://api.github.com/repos/rsd13/datamad0819/commits{/sha}', 'https://api.github.com/repos/Nacho-Laiseca/datamad0819/commits{/sha}', 'https://api.github.com/repos/MaurizioMartin/datamad0819/commits{/sha}', 'https://api.github.com/repos/FadriqueKindler/datamad0819/commits{/sha}', 'https://api.github.com/repos/Hermenegildo12/datamad0819/commits{/sha}', 'https://api.github.com/repos/rociobetegon/datamad0819/commits{/sha}', 'https://api.github.com/repos/farcDev0001/datamad0819/commits{/sha}', 'https://api.github.com/repos/DavidR81/datamad0819/commits{/sha}', 'https://api.github.com/repos/DavidBarrachina/datamad0819/commits{/sha}'}\n"
     ]
    }
   ],
   "source": [
    "languajes = [lang[\"commits_url\"] for lang in data  ]\n",
    "\n",
    "print(set(languajes))"
   ]
  },
  {
   "cell_type": "code",
   "execution_count": null,
   "metadata": {},
   "outputs": [],
   "source": []
  }
 ],
 "metadata": {
  "kernelspec": {
   "display_name": "Python 3",
   "language": "python",
   "name": "python3"
  },
  "language_info": {
   "codemirror_mode": {
    "name": "ipython",
    "version": 3
   },
   "file_extension": ".py",
   "mimetype": "text/x-python",
   "name": "python",
   "nbconvert_exporter": "python",
   "pygments_lexer": "ipython3",
   "version": "3.7.3"
  }
 },
 "nbformat": 4,
 "nbformat_minor": 2
}
