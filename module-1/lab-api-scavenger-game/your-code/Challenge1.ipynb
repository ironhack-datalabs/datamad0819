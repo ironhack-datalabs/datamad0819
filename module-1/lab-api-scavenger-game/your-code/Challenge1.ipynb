{
 "cells": [
  {
   "cell_type": "code",
   "execution_count": 12,
   "metadata": {
    "scrolled": true
   },
   "outputs": [
    {
     "name": "stdout",
     "output_type": "stream",
     "text": [
      "200\n",
      "The list of forks is:\n",
      "['farcDev0001/datamad0819', 'noeliacarrion/datamad0819', 'pedromerry/datamad0819', 'rociobetegon/datamad0819', '4thSword/datamad0819', 'Dededavid/datamad0819-1', 'begoechavarren/datamad0819', 'ferrero-felipe/datamad0819', 'inespchavarri/datamad0819', 'Nacho-Laiseca/datamad0819', 'josele639/datamad0819', 'goy92/datamad0819', 'DavidR81/datamad0819', 'MaurizioMartin/datamad0819', 'albertogcmr/datamad0819', 'Gori89/datamad0819', 'CodigoChimuelo/datamad0819', 'anjelccb/datamad0819', 'FadriqueKindler/datamad0819', 'Hermenegildo12/datamad0819', 'DavidBarrachina/datamad0819', 'rsd13/datamad0819', 'gonzalobandeira/datamad0819']\n",
      "\n",
      "The languages of the forks are:\n",
      "['Jupyter Notebook', 'Jupyter Notebook', 'Jupyter Notebook', 'Jupyter Notebook', 'Jupyter Notebook', 'Jupyter Notebook', 'Jupyter Notebook', 'Jupyter Notebook', 'Jupyter Notebook', 'Jupyter Notebook', 'Jupyter Notebook', 'Jupyter Notebook', 'Jupyter Notebook', 'Jupyter Notebook', 'Jupyter Notebook', 'Jupyter Notebook', 'Jupyter Notebook', 'Jupyter Notebook', 'Jupyter Notebook', 'Jupyter Notebook', 'Jupyter Notebook', 'Jupyter Notebook', 'Jupyter Notebook']\n"
     ]
    }
   ],
   "source": [
    "import os\n",
    "import requests\n",
    "from dotenv import load_dotenv\n",
    "from os.path import join, dirname\n",
    "\n",
    "#For Linux\n",
    "#path='/home/peter/Escritorio/IronHack/05 - Ejercicios Curso/17 - 190904 Lab API Scavenger game/token.env'\n",
    "\n",
    "#For Windows\n",
    "path=\"C:\\\\Users\\\\Peter\\\\Desktop\\\\17 - 190904 Lab API Scavenger game\\\\token.env\"\n",
    "\n",
    "load_dotenv(dotenv_path=path,verbose=True)\n",
    "\n",
    "githubToken = os.getenv(\"TOKEN\")\n",
    "\n",
    "def authRequest(url, params={}):\n",
    "    headers = {\"Authorization\": \"token {}\".format(githubToken)}   \n",
    "    response = requests.get(url,headers=headers, params=params)\n",
    "    print(response.status_code)\n",
    "    #print(response.headers)\n",
    "    return response.json()\n",
    "\n",
    "data = authRequest(\"https://api.github.com/repos/ironhack-datalabs/datamad0819/forks\",{})\n",
    "#print(data)\n",
    "print(\"The list of forks is:\")\n",
    "print([fork[\"full_name\"] for fork in data])\n",
    "print()\n",
    "print(\"The languages of the forks are:\")\n",
    "print([fork[\"language\"] for fork in data])\n"
   ]
  },
  {
   "cell_type": "code",
   "execution_count": null,
   "metadata": {},
   "outputs": [],
   "source": []
  }
 ],
 "metadata": {
  "kernelspec": {
   "display_name": "Python 3",
   "language": "python",
   "name": "python3"
  },
  "language_info": {
   "codemirror_mode": {
    "name": "ipython",
    "version": 3
   },
   "file_extension": ".py",
   "mimetype": "text/x-python",
   "name": "python",
   "nbconvert_exporter": "python",
   "pygments_lexer": "ipython3",
   "version": "3.7.0"
  }
 },
 "nbformat": 4,
 "nbformat_minor": 2
}
