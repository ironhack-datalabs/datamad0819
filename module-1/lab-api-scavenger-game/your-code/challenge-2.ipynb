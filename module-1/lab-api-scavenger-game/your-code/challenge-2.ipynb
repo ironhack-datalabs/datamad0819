{
 "cells": [
  {
   "cell_type": "code",
   "execution_count": 1,
   "metadata": {},
   "outputs": [],
   "source": [
    "import dotenv \n",
    "import requests\n",
    "import json\n",
    "import os\n",
    "from os.path import join, dirname\n",
    "from dotenv import load_dotenv"
   ]
  },
  {
   "cell_type": "code",
   "execution_count": 2,
   "metadata": {},
   "outputs": [],
   "source": [
    "dotenv_path = join(dirname(\"../\"), '.env')\n",
    "load_dotenv(dotenv_path)\n",
    "\n",
    "token = os.environ.get(\"GIT_TOKEN\")"
   ]
  },
  {
   "cell_type": "markdown",
   "metadata": {},
   "source": [
    "#### Obtengo el total de los commits semanales"
   ]
  },
  {
   "cell_type": "code",
   "execution_count": 37,
   "metadata": {},
   "outputs": [
    {
     "name": "stdout",
     "output_type": "stream",
     "text": [
      "200\n"
     ]
    }
   ],
   "source": [
    "def authRequest(url, params={}):\n",
    "    headers = {\n",
    "        \"Authorization\": \"token {}\".format(token)\n",
    "    }\n",
    "    response = requests.get(url,headers=headers, params=params)\n",
    "    print(response.status_code)\n",
    "    #print(response.headers)\n",
    "    return response.json()\n",
    "\n",
    "\n",
    "#data = authRequest(\"https://api.github.com/repos/ironhack-datalabs/datamad0819/forks\")\n",
    "data = authRequest(\"https://api.github.com/repos/ironhack-datalabs/datamad0819/stats/participation\")\n",
    "\n"
   ]
  },
  {
   "cell_type": "code",
   "execution_count": 38,
   "metadata": {},
   "outputs": [
    {
     "data": {
      "text/plain": [
       "383"
      ]
     },
     "execution_count": 38,
     "metadata": {},
     "output_type": "execute_result"
    }
   ],
   "source": [
    "sum(data[\"all\"])"
   ]
  },
  {
   "cell_type": "code",
   "execution_count": null,
   "metadata": {},
   "outputs": [],
   "source": []
  }
 ],
 "metadata": {
  "kernelspec": {
   "display_name": "Python 3",
   "language": "python",
   "name": "python3"
  },
  "language_info": {
   "codemirror_mode": {
    "name": "ipython",
    "version": 3
   },
   "file_extension": ".py",
   "mimetype": "text/x-python",
   "name": "python",
   "nbconvert_exporter": "python",
   "pygments_lexer": "ipython3",
   "version": "3.7.3"
  }
 },
 "nbformat": 4,
 "nbformat_minor": 2
}
