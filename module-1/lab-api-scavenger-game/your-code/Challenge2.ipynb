{
 "cells": [
  {
   "cell_type": "code",
   "execution_count": 26,
   "metadata": {
    "scrolled": true
   },
   "outputs": [
    {
     "name": "stdout",
     "output_type": "stream",
     "text": [
      "The total list of commits is:\n",
      "Date:                  Commit SHA:\n",
      "2019-08-21T08:43:15Z   bf7762a4cd32dd9d08bd852e0cba0f1fd45c34fa\n",
      "2019-08-07T15:56:23Z   04be638cb64ac8756b86cc3558e12de558309573\n",
      "2019-08-07T15:41:23Z   a7f06a2bc8dcd1fb760afb6158dcd29b99e26b85\n",
      "2019-08-07T15:41:02Z   8662529684ce2210e92924ca424251bdb8d23c3e\n",
      "2019-07-03T07:37:34Z   a8af4349e1f2525297e57293f8ee2bd38a59294f\n",
      "2019-07-01T13:53:01Z   df4f1e83ac4cc73a4c49a063a6d8a03bea771817\n",
      "2019-07-01T13:52:37Z   786ef1f0a7801b7ee5df8ae9906fcc5a8fe3df6f\n",
      "2019-07-01T13:51:15Z   d32114a71cc9c168b94d8d601ae8b53977449125\n",
      "2019-07-01T13:50:51Z   54dafe147b12717d7515d84bd258955653c5c18b\n",
      "2019-07-01T13:50:26Z   7af13f57dc70dacd812fb3a2ad9f2cf9b85b1566\n",
      "2019-07-01T13:49:32Z   764df65b4d9e7fd3618346066749e0e17fb7d1d9\n",
      "2019-06-21T20:09:01Z   9f2f909206a402fe3659b47686a24f9e07e03959\n",
      "2019-06-21T20:02:07Z   5a14ee1fc803ab22ad45da316bcc6068745896ab\n",
      "2019-06-18T16:03:30Z   f7483e295b7ae35fecb4682e3829858e1733f77f\n",
      "2019-06-17T19:26:15Z   6a53e7bd5686d23c9e0304b0689e29d9bea2e900\n",
      "2019-06-13T14:37:07Z   0a2698ea2ba6aaee8c6cefb4f2653cb750f0fa1f\n",
      "2019-06-13T14:36:37Z   290389626fc92d57af85ffd28e83115139100f30\n",
      "2019-06-10T15:46:08Z   08b327a60deb1dc346c27701b06f57a50920c2cb\n",
      "2019-06-10T15:40:17Z   43633a6cadfb8e76dbea4a2b46acd8b8335ef033\n",
      "2019-06-07T21:13:08Z   15623a2aaa0f9436b12bedd605e4be6c366922da\n",
      "2019-06-07T17:09:26Z   70ecdb7793cc34c5774dde86d1f77e371a0e3b47\n",
      "2019-06-07T17:08:40Z   0720bdab8b2df4a7546c7a3bfb4e663ca4d31331\n",
      "2019-06-06T04:23:06Z   d6b43792e366590ace1873891c3a0d00748021c2\n",
      "2019-06-05T21:39:56Z   5072452c5dc30892448606e228973e0c6d1c0125\n",
      "2019-06-05T20:41:07Z   ab98ab610f4927325faab512f9436d0c2b90bb0b\n",
      "2019-06-05T20:37:06Z   d21223da37462dc4a9a803ea386d03bc6c333e54\n",
      "2019-06-05T20:36:04Z   0a9d39099ba245801b582ac0976095c1393cb67b\n",
      "2019-06-01T03:46:49Z   3fb5db573313c3fe3ff3419ae8cf62674e2a6738\n",
      "2019-05-30T19:58:21Z   0c33d98764dc571b94303ec008860b9a04a23da1\n",
      "2019-05-29T18:48:28Z   3b06b247aa8d1f0c1c64217b22f21e86cbded7f0\n",
      "\n",
      "The total list of commits from last week is:\n",
      "Date:                  Commit SHA:\n",
      "\n",
      "\n",
      "The total list of commits from last month is:\n",
      "Date:                  Commit SHA:\n",
      "2019-08-21T08:43:15Z   bf7762a4cd32dd9d08bd852e0cba0f1fd45c34fa\n",
      "2019-08-07T15:56:23Z   04be638cb64ac8756b86cc3558e12de558309573\n",
      "2019-08-07T15:41:23Z   a7f06a2bc8dcd1fb760afb6158dcd29b99e26b85\n",
      "2019-08-07T15:41:02Z   8662529684ce2210e92924ca424251bdb8d23c3e\n",
      "\n"
     ]
    }
   ],
   "source": [
    "import os\n",
    "import requests\n",
    "import json\n",
    "from dotenv import load_dotenv\n",
    "from os.path import join, dirname\n",
    "#For Linux\n",
    "#path='/home/peter/Escritorio/IronHack/05 - Ejercicios Curso/17 - 190904 Lab API Scavenger game/token.env'\n",
    "\n",
    "#For Windows\n",
    "path=\"C:\\\\Users\\\\Peter\\\\Desktop\\\\17 - 190904 Lab API Scavenger game\\\\token.env\"\n",
    "\n",
    "load_dotenv(dotenv_path=path,verbose=True)\n",
    "\n",
    "githubToken = os.getenv(\"TOKEN\")\n",
    "\n",
    "def authRequest(url, params={}):\n",
    "    headers = {\"Authorization\": \"token {}\".format(githubToken)}   \n",
    "    response = requests.get(url,headers=headers, params=params)\n",
    "    #print(response.status_code)\n",
    "    #print(response.headers)\n",
    "    return response.json()\n",
    "\n",
    "data = authRequest(\"https://api.github.com/repos/ironhack-datalabs/datamad0819/commits\",{})\n",
    "#print(data)\n",
    "print(\"The total list of commits is:\")\n",
    "print(\"Date:                  Commit SHA:\")\n",
    "commits=[comm[\"commit\"][\"author\"][\"date\"]+\"   \"+comm[\"sha\"] for comm in data]\n",
    "print(\"\\n\".join(commits))\n",
    "print()\n",
    "\n",
    "data = authRequest(\"https://api.github.com/repos/ironhack-datalabs/datamad0819/commits\",{\"since\":\"2019-08-26T00:00:00Z\"})\n",
    "print(\"The total list of commits from last week is:\")\n",
    "print(\"Date:                  Commit SHA:\")\n",
    "commits=[comm[\"commit\"][\"author\"][\"date\"]+\"   \"+comm[\"sha\"] for comm in data]\n",
    "print(\"\\n\".join(commits))\n",
    "print()\n",
    "\n",
    "data = authRequest(\"https://api.github.com/repos/ironhack-datalabs/datamad0819/commits\",{\"since\":\"2019-07-04T00:00:00Z\"})\n",
    "print(\"The total list of commits from last month is:\")\n",
    "print(\"Date:                  Commit SHA:\")\n",
    "commits=[comm[\"commit\"][\"author\"][\"date\"]+\"   \"+comm[\"sha\"] for comm in data]\n",
    "print(\"\\n\".join(commits))\n",
    "print()\n",
    "\n",
    "\n",
    "\n"
   ]
  },
  {
   "cell_type": "code",
   "execution_count": null,
   "metadata": {},
   "outputs": [],
   "source": []
  },
  {
   "cell_type": "code",
   "execution_count": null,
   "metadata": {},
   "outputs": [],
   "source": []
  }
 ],
 "metadata": {
  "kernelspec": {
   "display_name": "Python 3",
   "language": "python",
   "name": "python3"
  },
  "language_info": {
   "codemirror_mode": {
    "name": "ipython",
    "version": 3
   },
   "file_extension": ".py",
   "mimetype": "text/x-python",
   "name": "python",
   "nbconvert_exporter": "python",
   "pygments_lexer": "ipython3",
   "version": "3.7.0"
  }
 },
 "nbformat": 4,
 "nbformat_minor": 2
}
