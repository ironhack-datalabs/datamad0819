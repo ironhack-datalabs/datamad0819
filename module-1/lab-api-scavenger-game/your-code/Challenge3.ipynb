{
 "cells": [
  {
   "cell_type": "code",
   "execution_count": 55,
   "metadata": {
    "scrolled": true
   },
   "outputs": [
    {
     "name": "stdout",
     "output_type": "stream",
     "text": [
      "98750/.0001.scavengerhunt\n",
      "88596/.0002.scavengerhunt\n",
      "60224/.0003.scavengerhunt\n",
      "68848/.0004.scavengerhunt\n",
      "44639/.0005.scavengerhunt\n",
      "15024/.0006.scavengerhunt\n",
      "17020/.0007.scavengerhunt\n",
      "15534/.0008.scavengerhunt\n",
      "97881/.0009.scavengerhunt\n",
      "47830/.0010.scavengerhunt\n",
      "50896/.0011.scavengerhunt\n",
      "15534/.0012.scavengerhunt\n",
      "89338/.0013.scavengerhunt\n",
      "49418/.0014.scavengerhunt\n",
      "91701/.0015.scavengerhunt\n",
      "47222/.0016.scavengerhunt\n",
      "70985/.0017.scavengerhunt\n",
      "45525/.0018.scavengerhunt\n",
      "70751/.0019.scavengerhunt\n",
      "55685/.0020.scavengerhunt\n",
      "30351/.0021.scavengerhunt\n",
      "40303/.0022.scavengerhunt\n",
      "55417/.0023.scavengerhunt\n",
      "47222/.0024.scavengerhunt\n",
      "In data science, 80 percent of time spent is preparing data, 20 percent of time is spent complaining about the need to prepare data.\n"
     ]
    }
   ],
   "source": [
    "import os\n",
    "import requests\n",
    "import json\n",
    "from dotenv import load_dotenv\n",
    "from os.path import join, dirname\n",
    "import base64\n",
    "\n",
    "#For Linux\n",
    "#path='/home/peter/Escritorio/IronHack/05 - Ejercicios Curso/17 - 190904 Lab API Scavenger game/token.env'\n",
    "\n",
    "#For Windows\n",
    "path=\"C:\\\\Users\\\\Peter\\\\Desktop\\\\17 - 190904 Lab API Scavenger game\\\\token.env\"\n",
    "\n",
    "load_dotenv(dotenv_path=path,verbose=True)\n",
    "\n",
    "githubToken = os.getenv(\"TOKEN\")\n",
    "\n",
    "def authRequest(url, params={}):\n",
    "    headers = {\"Authorization\": \"token {}\".format(githubToken)}   \n",
    "    response = requests.get(url,headers=headers, params=params)\n",
    "    #print(response.status_code)\n",
    "    #print(response.headers)\n",
    "    return response.json()\n",
    "data = authRequest(\"https://api.github.com/repos/ironhack-datalabs/scavenger/git/trees/master\",{\"recursive\":\"1\"})\n",
    "content=[c[\"path\"] for c in data[\"tree\"] if c[\"path\"].endswith(\"hunt\")]\n",
    "content=sorted(content,key=lambda x:x[8:])\n",
    "print(\"\\n\".join(content))\n",
    "result=[]\n",
    "for p in content:\n",
    "    data = authRequest(\"https://api.github.com/repos/ironhack-datalabs/scavenger/contents/\" + p,{})\n",
    "    #print(data)\n",
    "    #print(data[\"content\"])\n",
    "    extraction=str(base64.b64decode(data[\"content\"]))\n",
    "    extraction=extraction[2:-3]\n",
    "    result.append(extraction)\n",
    "\n",
    "print(\" \".join(result))\n",
    "\n",
    "\n",
    "\n"
   ]
  },
  {
   "cell_type": "code",
   "execution_count": null,
   "metadata": {},
   "outputs": [],
   "source": []
  },
  {
   "cell_type": "code",
   "execution_count": null,
   "metadata": {},
   "outputs": [],
   "source": []
  }
 ],
 "metadata": {
  "kernelspec": {
   "display_name": "Python 3",
   "language": "python",
   "name": "python3"
  },
  "language_info": {
   "codemirror_mode": {
    "name": "ipython",
    "version": 3
   },
   "file_extension": ".py",
   "mimetype": "text/x-python",
   "name": "python",
   "nbconvert_exporter": "python",
   "pygments_lexer": "ipython3",
   "version": "3.7.0"
  }
 },
 "nbformat": 4,
 "nbformat_minor": 2
}
